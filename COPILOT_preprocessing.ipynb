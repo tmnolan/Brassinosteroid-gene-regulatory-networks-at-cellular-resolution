{
 "cells": [
  {
   "cell_type": "code",
   "execution_count": 1,
   "metadata": {
    "tags": []
   },
   "outputs": [
    {
     "data": {
      "text/html": [
       "<table>\n",
       "<caption>A matrix: 2 × 6 of type dbl</caption>\n",
       "<thead>\n",
       "\t<tr><th></th><th scope=col>used</th><th scope=col>(Mb)</th><th scope=col>gc trigger</th><th scope=col>(Mb)</th><th scope=col>max used</th><th scope=col>(Mb)</th></tr>\n",
       "</thead>\n",
       "<tbody>\n",
       "\t<tr><th scope=row>Ncells</th><td> 566141</td><td>30.3</td><td>1226131</td><td>65.5</td><td> 943808</td><td>50.5</td></tr>\n",
       "\t<tr><th scope=row>Vcells</th><td>1060275</td><td> 8.1</td><td>8388608</td><td>64.0</td><td>1772261</td><td>13.6</td></tr>\n",
       "</tbody>\n",
       "</table>\n"
      ],
      "text/latex": [
       "A matrix: 2 × 6 of type dbl\n",
       "\\begin{tabular}{r|llllll}\n",
       "  & used & (Mb) & gc trigger & (Mb) & max used & (Mb)\\\\\n",
       "\\hline\n",
       "\tNcells &  566141 & 30.3 & 1226131 & 65.5 &  943808 & 50.5\\\\\n",
       "\tVcells & 1060275 &  8.1 & 8388608 & 64.0 & 1772261 & 13.6\\\\\n",
       "\\end{tabular}\n"
      ],
      "text/markdown": [
       "\n",
       "A matrix: 2 × 6 of type dbl\n",
       "\n",
       "| <!--/--> | used | (Mb) | gc trigger | (Mb) | max used | (Mb) |\n",
       "|---|---|---|---|---|---|---|\n",
       "| Ncells |  566141 | 30.3 | 1226131 | 65.5 |  943808 | 50.5 |\n",
       "| Vcells | 1060275 |  8.1 | 8388608 | 64.0 | 1772261 | 13.6 |\n",
       "\n"
      ],
      "text/plain": [
       "       used    (Mb) gc trigger (Mb) max used (Mb)\n",
       "Ncells  566141 30.3 1226131    65.5  943808  50.5\n",
       "Vcells 1060275  8.1 8388608    64.0 1772261  13.6"
      ]
     },
     "metadata": {},
     "output_type": "display_data"
    }
   ],
   "source": [
    "rm(list=ls())\n",
    "gc()\n",
    "setwd(\"/scratch/AG_Ohler/CheWei/kallisto-bus/output\")"
   ]
  },
  {
   "cell_type": "code",
   "execution_count": 3,
   "metadata": {},
   "outputs": [],
   "source": [
    "## Downloaded from https://github.com/ohlerlab/scKB/supp_data/\n",
    "pp.genes <- as.character(read.table(\"../../proj_sc/cbpsc/data/Root_sc/Protoplasting_DEgene_FC2_list.txt\", header=F)$V1)\n",
    "## Load COPILOT (https://github.com/ohlerlab/COPILOT)\n",
    "suppressMessages(library(COPILOT))"
   ]
  },
  {
   "cell_type": "code",
   "execution_count": 4,
   "metadata": {},
   "outputs": [
    {
     "data": {
      "text/plain": [
       "R version 4.0.3 (2020-10-10)\n",
       "Platform: x86_64-conda-linux-gnu (64-bit)\n",
       "Running under: CentOS Linux 7 (Core)\n",
       "\n",
       "Matrix products: default\n",
       "BLAS/LAPACK: /fast/home/c/chsu/anaconda3/envs/seu3/lib/libopenblasp-r0.3.18.so\n",
       "\n",
       "locale:\n",
       " [1] LC_CTYPE=en_US.utf-8       LC_NUMERIC=C              \n",
       " [3] LC_TIME=en_US.utf-8        LC_COLLATE=en_US.utf-8    \n",
       " [5] LC_MONETARY=en_US.utf-8    LC_MESSAGES=en_US.utf-8   \n",
       " [7] LC_PAPER=en_US.utf-8       LC_NAME=C                 \n",
       " [9] LC_ADDRESS=C               LC_TELEPHONE=C            \n",
       "[11] LC_MEASUREMENT=en_US.utf-8 LC_IDENTIFICATION=C       \n",
       "\n",
       "attached base packages:\n",
       "[1] parallel  stats4    stats     graphics  grDevices utils     datasets \n",
       "[8] methods   base     \n",
       "\n",
       "other attached packages:\n",
       " [1] DoubletFinder_2.0.3         forcats_0.5.1              \n",
       " [3] stringr_1.4.0               dplyr_1.0.7                \n",
       " [5] purrr_0.3.4                 readr_1.4.0                \n",
       " [7] tidyr_1.1.4                 tibble_3.1.6               \n",
       " [9] tidyverse_1.3.1             Seurat_3.1.5               \n",
       "[11] zeallot_0.1.0               BUSpaRse_1.3.1             \n",
       "[13] R2HTML_2.3.2                rjson_0.2.20               \n",
       "[15] scales_1.1.1                ggplot2_3.3.5              \n",
       "[17] DropletUtils_1.10.0         SingleCellExperiment_1.12.0\n",
       "[19] SummarizedExperiment_1.20.0 Biobase_2.50.0             \n",
       "[21] GenomicRanges_1.42.0        GenomeInfoDb_1.26.0        \n",
       "[23] IRanges_2.24.0              S4Vectors_0.28.0           \n",
       "[25] BiocGenerics_0.36.0         MatrixGenerics_1.2.0       \n",
       "[27] matrixStats_0.57.0          Matrix_1.3-2               \n",
       "\n",
       "loaded via a namespace (and not attached):\n",
       "  [1] utf8_1.2.2                reticulate_1.18          \n",
       "  [3] R.utils_2.10.1            tidyselect_1.1.1         \n",
       "  [5] RSQLite_2.2.1             AnnotationDbi_1.52.0     \n",
       "  [7] htmlwidgets_1.5.2         grid_4.0.3               \n",
       "  [9] BiocParallel_1.24.1       Rtsne_0.15               \n",
       " [11] munsell_0.5.0             codetools_0.2-18         \n",
       " [13] ica_1.0-2                 pbdZMQ_0.3-3.1           \n",
       " [15] future_1.23.0             withr_2.4.3              \n",
       " [17] colorspace_2.0-2          uuid_0.1-4               \n",
       " [19] rstudioapi_0.13           ROCR_1.0-11              \n",
       " [21] listenv_0.8.0             repr_1.1.0               \n",
       " [23] GenomeInfoDbData_1.2.4    bit64_4.0.5              \n",
       " [25] rhdf5_2.34.0              parallelly_1.30.0        \n",
       " [27] vctrs_0.3.8               generics_0.1.1           \n",
       " [29] BiocFileCache_1.14.0      R6_2.5.1                 \n",
       " [31] rsvd_1.0.3                locfit_1.5-9.4           \n",
       " [33] AnnotationFilter_1.14.0   bitops_1.0-6             \n",
       " [35] rhdf5filters_1.2.0        DelayedArray_0.16.0      \n",
       " [37] assertthat_0.2.1          gtable_0.3.0             \n",
       " [39] beachmat_2.6.1            globals_0.14.0           \n",
       " [41] ensembldb_2.14.0          rlang_0.4.12             \n",
       " [43] splines_4.0.3             rtracklayer_1.50.0       \n",
       " [45] lazyeval_0.2.2            broom_0.7.11             \n",
       " [47] plyranges_1.10.0          reshape2_1.4.4           \n",
       " [49] modelr_0.1.8              GenomicFeatures_1.42.0   \n",
       " [51] backports_1.4.1           tools_4.0.3              \n",
       " [53] ellipsis_0.3.2            RColorBrewer_1.1-2       \n",
       " [55] ggridges_0.5.2            Rcpp_1.0.8               \n",
       " [57] plyr_1.8.6                base64enc_0.1-3          \n",
       " [59] sparseMatrixStats_1.2.0   progress_1.2.2           \n",
       " [61] zlibbioc_1.36.0           RCurl_1.98-1.2           \n",
       " [63] prettyunits_1.1.1         openssl_1.4.3            \n",
       " [65] pbapply_1.4-3             cowplot_1.1.0            \n",
       " [67] zoo_1.8-8                 haven_2.3.1              \n",
       " [69] ggrepel_0.8.2             cluster_2.1.0            \n",
       " [71] fs_1.5.0                  magrittr_2.0.1           \n",
       " [73] data.table_1.14.2         reprex_2.0.1             \n",
       " [75] lmtest_0.9-38             RANN_2.6.1               \n",
       " [77] ProtGenerics_1.22.0       fitdistrplus_1.1-1       \n",
       " [79] hms_1.1.1                 patchwork_1.1.0          \n",
       " [81] evaluate_0.14             XML_3.99-0.5             \n",
       " [83] readxl_1.3.1              gridExtra_2.3            \n",
       " [85] compiler_4.0.3            biomaRt_2.46.0           \n",
       " [87] KernSmooth_2.23-20        crayon_1.4.2             \n",
       " [89] R.oo_1.24.0               htmltools_0.5.1.1        \n",
       " [91] lubridate_1.8.0           DBI_1.1.0                \n",
       " [93] dbplyr_2.1.1              MASS_7.3-55              \n",
       " [95] rappdirs_0.3.1            cli_3.1.0                \n",
       " [97] R.methodsS3_1.8.1         igraph_1.2.6             \n",
       " [99] pkgconfig_2.0.3           GenomicAlignments_1.26.0 \n",
       "[101] IRdisplay_0.7.0           plotly_4.9.2.1           \n",
       "[103] scuttle_1.0.0             xml2_1.3.2               \n",
       "[105] dqrng_0.2.1               XVector_0.30.0           \n",
       "[107] rvest_1.0.2               digest_0.6.29            \n",
       "[109] sctransform_0.3.1         RcppAnnoy_0.0.16         \n",
       "[111] tsne_0.1-3                Biostrings_2.58.0        \n",
       "[113] cellranger_1.1.0          leiden_0.3.5             \n",
       "[115] uwot_0.1.8                edgeR_3.32.0             \n",
       "[117] DelayedMatrixStats_1.12.0 curl_4.3                 \n",
       "[119] Rsamtools_2.6.0           lifecycle_1.0.1          \n",
       "[121] nlme_3.1-155              jsonlite_1.7.2           \n",
       "[123] Rhdf5lib_1.12.0           viridisLite_0.4.0        \n",
       "[125] askpass_1.1               limma_3.46.0             \n",
       "[127] BSgenome_1.58.0           fansi_1.0.0              \n",
       "[129] pillar_1.6.4              lattice_0.20-45          \n",
       "[131] httr_1.4.2                survival_3.2-13          \n",
       "[133] glue_1.6.0                png_0.1-7                \n",
       "[135] bit_4.0.4                 stringi_1.7.6            \n",
       "[137] HDF5Array_1.18.0          blob_1.2.1               \n",
       "[139] memoise_1.1.0             IRkernel_1.1.1.9000      \n",
       "[141] irlba_2.3.3               future.apply_1.8.1       \n",
       "[143] ape_5.4-1                "
      ]
     },
     "metadata": {},
     "output_type": "display_data"
    }
   ],
   "source": [
    "sessionInfo()"
   ]
  },
  {
   "cell_type": "code",
   "execution_count": 5,
   "metadata": {},
   "outputs": [],
   "source": [
    "setwd(\"/scratch/AG_Ohler/CheWei/kallisto-bus/TAIR10_v3_1/\")"
   ]
  },
  {
   "cell_type": "code",
   "execution_count": 6,
   "metadata": {},
   "outputs": [],
   "source": [
    "at.list <- c(\"sc_111\",\"sc_112\",\"sc_113\",\"sc_114\",\"sc_122\",\"sc_123\",\"sc_124\",\"sc_125\",\"sc_126\",\"sc_127\",\"sc_128\",\"sc_129\",\"sc_130\",\"sc_131\",\"sc_132\",\"sc_133\",\"sc_134\",\"sc_135\",\"sc_136\",\"sc_137\")"
   ]
  },
  {
   "cell_type": "code",
   "execution_count": null,
   "metadata": {},
   "outputs": [
    {
     "name": "stdout",
     "output_type": "stream",
     "text": [
      "[1] \"threshold cell number: 11010\"\n",
      "[1] \"removed cells: 11010\"\n",
      "[1] \"iteration: 1\"\n",
      "[1] \"removed cells: 2513\"\n"
     ]
    },
    {
     "name": "stderr",
     "output_type": "stream",
     "text": [
      "Warning message:\n",
      "\"Keys should be one or more alphanumeric characters followed by an underscore, setting key from spliced_rna_ to splicedrna_\"\n",
      "Warning message:\n",
      "\"Keys should be one or more alphanumeric characters followed by an underscore, setting key from unspliced_rna_ to unsplicedrna_\"\n"
     ]
    },
    {
     "name": "stdout",
     "output_type": "stream",
     "text": [
      "[1] \"Creating 2640 artificial doublets...\"\n",
      "[1] \"Creating Seurat object...\"\n",
      "[1] \"Running SCTransform...\"\n",
      "  |======================================================================| 100%\n",
      "  |======================================================================| 100%\n",
      "  |======================================================================| 100%\n",
      "[1] \"Running PCA...\"\n",
      "[1] \"Calculating PC distance matrix...\"\n",
      "[1] \"Computing pANN...\"\n",
      "[1] \"Classifying doublets..\"\n"
     ]
    },
    {
     "name": "stderr",
     "output_type": "stream",
     "text": [
      "Warning message:\n",
      "\"Using `as.character()` on a quosure is deprecated as of rlang 0.3.0.\n",
      "Please use `as_label()` or `as_name()` instead.\n",
      "\u001b[90mThis warning is displayed once per session.\u001b[39m\"\n"
     ]
    },
    {
     "name": "stdout",
     "output_type": "stream",
     "text": [
      "TableGrob (3 x 2) \"arrange\": 5 grobs\n",
      "  z     cells    name           grob\n",
      "1 1 (1-1,1-1) arrange gtable[layout]\n",
      "2 2 (1-1,2-2) arrange gtable[layout]\n",
      "3 3 (2-2,1-1) arrange gtable[layout]\n",
      "4 4 (2-2,2-2) arrange gtable[layout]\n",
      "5 5 (3-3,1-1) arrange gtable[layout]\n",
      "[1] \"threshold cell number: 7740\"\n",
      "[1] \"removed cells: 7740\"\n",
      "[1] \"iteration: 1\"\n",
      "[1] \"removed cells: 1941\"\n"
     ]
    },
    {
     "name": "stderr",
     "output_type": "stream",
     "text": [
      "Warning message:\n",
      "\"Keys should be one or more alphanumeric characters followed by an underscore, setting key from spliced_rna_ to splicedrna_\"\n",
      "Warning message:\n",
      "\"Keys should be one or more alphanumeric characters followed by an underscore, setting key from unspliced_rna_ to unsplicedrna_\"\n"
     ]
    },
    {
     "name": "stdout",
     "output_type": "stream",
     "text": [
      "[1] \"Creating 2451 artificial doublets...\"\n",
      "[1] \"Creating Seurat object...\"\n",
      "[1] \"Running SCTransform...\"\n",
      "  |======================================================================| 100%\n",
      "  |======================================================================| 100%\n",
      "  |======================================================================| 100%\n",
      "[1] \"Running PCA...\"\n",
      "[1] \"Calculating PC distance matrix...\"\n",
      "[1] \"Computing pANN...\"\n",
      "[1] \"Classifying doublets..\"\n",
      "TableGrob (3 x 2) \"arrange\": 5 grobs\n",
      "  z     cells    name           grob\n",
      "1 1 (1-1,1-1) arrange gtable[layout]\n",
      "2 2 (1-1,2-2) arrange gtable[layout]\n",
      "3 3 (2-2,1-1) arrange gtable[layout]\n",
      "4 4 (2-2,2-2) arrange gtable[layout]\n",
      "5 5 (3-3,1-1) arrange gtable[layout]\n",
      "[1] \"threshold cell number: 7017\"\n",
      "[1] \"removed cells: 7017\"\n",
      "[1] \"iteration: 1\"\n",
      "[1] \"removed cells: 2395\"\n"
     ]
    },
    {
     "name": "stderr",
     "output_type": "stream",
     "text": [
      "Warning message:\n",
      "\"Keys should be one or more alphanumeric characters followed by an underscore, setting key from spliced_rna_ to splicedrna_\"\n",
      "Warning message:\n",
      "\"Keys should be one or more alphanumeric characters followed by an underscore, setting key from unspliced_rna_ to unsplicedrna_\"\n"
     ]
    },
    {
     "name": "stdout",
     "output_type": "stream",
     "text": [
      "[1] \"Creating 3310 artificial doublets...\"\n",
      "[1] \"Creating Seurat object...\"\n",
      "[1] \"Running SCTransform...\"\n",
      "  |======================================================================| 100%\n",
      "  |======================================================================| 100%\n",
      "  |======================================================================| 100%\n",
      "[1] \"Running PCA...\"\n",
      "[1] \"Calculating PC distance matrix...\"\n",
      "[1] \"Computing pANN...\"\n",
      "[1] \"Classifying doublets..\"\n",
      "TableGrob (3 x 2) \"arrange\": 5 grobs\n",
      "  z     cells    name           grob\n",
      "1 1 (1-1,1-1) arrange gtable[layout]\n",
      "2 2 (1-1,2-2) arrange gtable[layout]\n",
      "3 3 (2-2,1-1) arrange gtable[layout]\n",
      "4 4 (2-2,2-2) arrange gtable[layout]\n",
      "5 5 (3-3,1-1) arrange gtable[layout]\n",
      "[1] \"threshold cell number: 3132\"\n",
      "[1] \"removed cells: 3132\"\n",
      "[1] \"iteration: 1\"\n",
      "[1] \"removed cells: 1028\"\n"
     ]
    },
    {
     "name": "stderr",
     "output_type": "stream",
     "text": [
      "Warning message:\n",
      "\"Keys should be one or more alphanumeric characters followed by an underscore, setting key from spliced_rna_ to splicedrna_\"\n",
      "Warning message:\n",
      "\"Keys should be one or more alphanumeric characters followed by an underscore, setting key from unspliced_rna_ to unsplicedrna_\"\n"
     ]
    },
    {
     "name": "stdout",
     "output_type": "stream",
     "text": [
      "[1] \"Creating 2611 artificial doublets...\"\n",
      "[1] \"Creating Seurat object...\"\n",
      "[1] \"Running SCTransform...\"\n",
      "  |======================================================================| 100%\n",
      "  |======================================================================| 100%\n",
      "  |======================================================================| 100%\n",
      "[1] \"Running PCA...\"\n",
      "[1] \"Calculating PC distance matrix...\"\n",
      "[1] \"Computing pANN...\"\n",
      "[1] \"Classifying doublets..\"\n",
      "TableGrob (3 x 2) \"arrange\": 5 grobs\n",
      "  z     cells    name           grob\n",
      "1 1 (1-1,1-1) arrange gtable[layout]\n",
      "2 2 (1-1,2-2) arrange gtable[layout]\n",
      "3 3 (2-2,1-1) arrange gtable[layout]\n",
      "4 4 (2-2,2-2) arrange gtable[layout]\n",
      "5 5 (3-3,1-1) arrange gtable[layout]\n",
      "[1] \"threshold cell number: 4567\"\n",
      "[1] \"removed cells: 4567\"\n",
      "[1] \"iteration: 1\"\n",
      "[1] \"removed cells: 2083\"\n"
     ]
    },
    {
     "name": "stderr",
     "output_type": "stream",
     "text": [
      "Warning message:\n",
      "\"Keys should be one or more alphanumeric characters followed by an underscore, setting key from spliced_rna_ to splicedrna_\"\n",
      "Warning message:\n",
      "\"Keys should be one or more alphanumeric characters followed by an underscore, setting key from unspliced_rna_ to unsplicedrna_\"\n"
     ]
    },
    {
     "name": "stdout",
     "output_type": "stream",
     "text": [
      "[1] \"Creating 4281 artificial doublets...\"\n",
      "[1] \"Creating Seurat object...\"\n",
      "[1] \"Running SCTransform...\"\n",
      "  |======================================================================| 100%\n",
      "  |======================================================================| 100%\n",
      "  |======================================================================| 100%\n",
      "[1] \"Running PCA...\"\n",
      "[1] \"Calculating PC distance matrix...\"\n",
      "[1] \"Computing pANN...\"\n",
      "[1] \"Classifying doublets..\"\n"
     ]
    }
   ],
   "source": [
    "## Parameters used for BR paper related data, for the detail please check out https://github.com/ohlerlab/COPILOT\n",
    "for (i in 1:length(at.list)){\n",
    "    sample.name <- at.list[i]\n",
    "    bscs <- read.csv(\"../../proj_sc/cbpsc/Benfey_single_cell-Samples.csv\", na.strings=c(\"\",\"NA\"))\n",
    "    bscs <- bscs %>% select(c('sample','name','source','genotype','transgene','treatment','age','timepoint','rep','target_cells','date','seq_run')) %>% filter(sample==sample.name)\n",
    "    bscs$date <- gsub('^([0-9]{4})([0-9]{2})([0-9]+)$', '\\\\1-\\\\2-\\\\3', bscs$date)\n",
    "    bscs$target_cells <- prettyNum(bscs$target_cells, big.mark = ',')\n",
    "    bscs <- t(bscs)\n",
    "    sample.stats <- data.frame(stat = c('Sample','Name','Source','Genotype','Transgene','Treatment','Age','Timepoint','Rep','Target Cells','Date','Seq Run'), \n",
    "                        value = bscs[,1])\n",
    "    suppressMessages(copilot(sample.name = sample.name, species.name = \"Arabidopsis thaliana\", transcriptome.name = \"TAIR10\", sample.stats = sample.stats, mt.pattern = \"ATMG\", \n",
    "                mt.threshold = 5, cp.pattern = \"ATCG\", top.percent = 1, filtering.ratio = 1, doublet.rate = 5, do.seurat = TRUE, do.annotation = FALSE, unwanted.genes = pp.genes, HVG = FALSE, HVGN = 2000, \n",
    "                dir_to_bulk = \"../../cellranger/Root_bulk_arabidopsis_curated.RD\", res = 0.5, res.pseudo.bulk = 50, min.UMI.high.quality = 300))\n",
    "}"
   ]
  }
 ],
 "metadata": {
  "kernelspec": {
   "display_name": "R",
   "language": "R",
   "name": "ir"
  },
  "language_info": {
   "codemirror_mode": "r",
   "file_extension": ".r",
   "mimetype": "text/x-r-source",
   "name": "R",
   "pygments_lexer": "r",
   "version": "4.0.3"
  }
 },
 "nbformat": 4,
 "nbformat_minor": 4
}
