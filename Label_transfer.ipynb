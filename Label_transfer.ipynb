{
 "cells": [
  {
   "cell_type": "code",
   "execution_count": 1,
   "metadata": {},
   "outputs": [
    {
     "data": {
      "text/html": [
       "<table class=\"dataframe\">\n",
       "<caption>A matrix: 2 × 6 of type dbl</caption>\n",
       "<thead>\n",
       "\t<tr><th></th><th scope=col>used</th><th scope=col>(Mb)</th><th scope=col>gc trigger</th><th scope=col>(Mb)</th><th scope=col>max used</th><th scope=col>(Mb)</th></tr>\n",
       "</thead>\n",
       "<tbody>\n",
       "\t<tr><th scope=row>Ncells</th><td> 574700</td><td>30.7</td><td>1245252</td><td>66.6</td><td> 853948</td><td>45.7</td></tr>\n",
       "\t<tr><th scope=row>Vcells</th><td>1076007</td><td> 8.3</td><td>8388608</td><td>64.0</td><td>1820945</td><td>13.9</td></tr>\n",
       "</tbody>\n",
       "</table>\n"
      ],
      "text/latex": [
       "A matrix: 2 × 6 of type dbl\n",
       "\\begin{tabular}{r|llllll}\n",
       "  & used & (Mb) & gc trigger & (Mb) & max used & (Mb)\\\\\n",
       "\\hline\n",
       "\tNcells &  574700 & 30.7 & 1245252 & 66.6 &  853948 & 45.7\\\\\n",
       "\tVcells & 1076007 &  8.3 & 8388608 & 64.0 & 1820945 & 13.9\\\\\n",
       "\\end{tabular}\n"
      ],
      "text/markdown": [
       "\n",
       "A matrix: 2 × 6 of type dbl\n",
       "\n",
       "| <!--/--> | used | (Mb) | gc trigger | (Mb) | max used | (Mb) |\n",
       "|---|---|---|---|---|---|---|\n",
       "| Ncells |  574700 | 30.7 | 1245252 | 66.6 |  853948 | 45.7 |\n",
       "| Vcells | 1076007 |  8.3 | 8388608 | 64.0 | 1820945 | 13.9 |\n",
       "\n"
      ],
      "text/plain": [
       "       used    (Mb) gc trigger (Mb) max used (Mb)\n",
       "Ncells  574700 30.7 1245252    66.6  853948  45.7\n",
       "Vcells 1076007  8.3 8388608    64.0 1820945  13.9"
      ]
     },
     "metadata": {},
     "output_type": "display_data"
    }
   ],
   "source": [
    "rm(list=ls())\n",
    "gc()\n",
    "setwd(\"/scratch/AG_Ohler/CheWei/proj_sc/cbpsc\")"
   ]
  },
  {
   "cell_type": "code",
   "execution_count": 2,
   "metadata": {},
   "outputs": [
    {
     "data": {
      "text/html": [
       "240912980"
      ],
      "text/latex": [
       "240912980"
      ],
      "text/markdown": [
       "240912980"
      ],
      "text/plain": [
       "[1] 240912980"
      ]
     },
     "metadata": {},
     "output_type": "display_data"
    }
   ],
   "source": [
    "as.numeric(system(\"awk '/MemFree/ {print $2}' /proc/meminfo\", intern=TRUE))\n",
    "options(future.globals.maxSize = 600000 * 1024^2)"
   ]
  },
  {
   "cell_type": "code",
   "execution_count": 3,
   "metadata": {},
   "outputs": [],
   "source": [
    "suppressMessages(library(Seurat))\n",
    "suppressMessages(library(ggplot2))"
   ]
  },
  {
   "cell_type": "code",
   "execution_count": 4,
   "metadata": {},
   "outputs": [],
   "source": [
    "suppressMessages(library(dplyr))"
   ]
  },
  {
   "cell_type": "code",
   "execution_count": 5,
   "metadata": {},
   "outputs": [
    {
     "data": {
      "text/plain": [
       "R version 4.1.0 (2021-05-18)\n",
       "Platform: x86_64-conda-linux-gnu (64-bit)\n",
       "Running under: CentOS Linux 7 (Core)\n",
       "\n",
       "Matrix products: default\n",
       "BLAS/LAPACK: /fast/home/c/chsu/anaconda3/envs/tradeseq/lib/libopenblasp-r0.3.18.so\n",
       "\n",
       "locale:\n",
       " [1] LC_CTYPE=en_US.utf-8       LC_NUMERIC=C              \n",
       " [3] LC_TIME=en_US.utf-8        LC_COLLATE=en_US.utf-8    \n",
       " [5] LC_MONETARY=en_US.utf-8    LC_MESSAGES=en_US.utf-8   \n",
       " [7] LC_PAPER=en_US.utf-8       LC_NAME=C                 \n",
       " [9] LC_ADDRESS=C               LC_TELEPHONE=C            \n",
       "[11] LC_MEASUREMENT=en_US.utf-8 LC_IDENTIFICATION=C       \n",
       "\n",
       "attached base packages:\n",
       "[1] stats     graphics  grDevices utils     datasets  methods   base     \n",
       "\n",
       "other attached packages:\n",
       "[1] dplyr_1.0.7        ggplot2_3.3.5      SeuratObject_4.0.4 Seurat_4.1.0      \n",
       "\n",
       "loaded via a namespace (and not attached):\n",
       "  [1] Rtsne_0.15            colorspace_2.0-3      deldir_1.0-6         \n",
       "  [4] ellipsis_0.3.2        ggridges_0.5.3        IRdisplay_1.1        \n",
       "  [7] RcppHNSW_0.3.0        base64enc_0.1-3       spatstat.data_2.1-2  \n",
       " [10] leiden_0.3.9          listenv_0.8.0         ggrepel_0.9.1        \n",
       " [13] RSpectra_0.16-0       fansi_1.0.2           codetools_0.2-18     \n",
       " [16] splines_4.1.0         polyclip_1.10-0       IRkernel_1.3.0.9000  \n",
       " [19] jsonlite_1.8.0        ica_1.0-2             cluster_2.1.2        \n",
       " [22] png_0.1-7             uwot_0.1.11           shiny_1.7.1          \n",
       " [25] sctransform_0.3.3     spatstat.sparse_2.1-0 compiler_4.1.0       \n",
       " [28] httr_1.4.2            assertthat_0.2.1      Matrix_1.4-0         \n",
       " [31] fastmap_1.1.0         lazyeval_0.2.2        later_1.2.0          \n",
       " [34] htmltools_0.5.2       tools_4.1.0           igraph_1.3.0         \n",
       " [37] gtable_0.3.0          glue_1.6.1            RANN_2.6.1           \n",
       " [40] reshape2_1.4.4        Rcpp_1.0.8            scattermore_0.8      \n",
       " [43] vctrs_0.3.8           nlme_3.1-155          lmtest_0.9-39        \n",
       " [46] spatstat.random_2.1-0 stringr_1.4.0         globals_0.14.0       \n",
       " [49] mime_0.12             miniUI_0.1.1.1        lifecycle_1.0.1      \n",
       " [52] irlba_2.3.5           goftest_1.2-3         future_1.24.0        \n",
       " [55] MASS_7.3-55           zoo_1.8-9             scales_1.1.1         \n",
       " [58] spatstat.core_2.4-0   promises_1.2.0.1      spatstat.utils_2.3-0 \n",
       " [61] parallel_4.1.0        RColorBrewer_1.1-2    reticulate_1.24      \n",
       " [64] pbapply_1.5-0         gridExtra_2.3         rpart_4.1.16         \n",
       " [67] stringi_1.7.6         fastDummies_1.6.3     repr_1.1.4           \n",
       " [70] rlang_0.4.12          pkgconfig_2.0.3       matrixStats_0.61.0   \n",
       " [73] evaluate_0.15         lattice_0.20-45       ROCR_1.0-11          \n",
       " [76] purrr_0.3.4           tensor_1.5            patchwork_1.1.1      \n",
       " [79] htmlwidgets_1.5.4     cowplot_1.1.1         tidyselect_1.1.1     \n",
       " [82] parallelly_1.30.0     RcppAnnoy_0.0.19      plyr_1.8.6           \n",
       " [85] magrittr_2.0.2        R6_2.5.1              generics_0.1.2       \n",
       " [88] pbdZMQ_0.3-7          DBI_1.1.2             withr_2.4.3          \n",
       " [91] pillar_1.7.0          mgcv_1.8-38           fitdistrplus_1.1-6   \n",
       " [94] survival_3.2-13       abind_1.4-5           tibble_3.1.6         \n",
       " [97] future.apply_1.8.1    crayon_1.5.0          uuid_1.0-3           \n",
       "[100] KernSmooth_2.23-20    utf8_1.2.2            spatstat.geom_2.3-2  \n",
       "[103] plotly_4.10.0         grid_4.1.0            data.table_1.14.2    \n",
       "[106] digest_0.6.29         xtable_1.8-4          tidyr_1.2.0          \n",
       "[109] httpuv_1.6.5          munsell_0.5.0         viridisLite_0.4.0    "
      ]
     },
     "metadata": {},
     "output_type": "display_data"
    }
   ],
   "source": [
    "sessionInfo()"
   ]
  },
  {
   "cell_type": "markdown",
   "metadata": {},
   "source": [
    "## Load downloaded \"Root_Atlas_seu4.rds\" from GEO:GSE152766 "
   ]
  },
  {
   "cell_type": "code",
   "execution_count": 6,
   "metadata": {},
   "outputs": [],
   "source": [
    "rc.integrated <- readRDS('../../kallisto-bus/output/Integration/Root_Atlas_seu4.rds')"
   ]
  },
  {
   "cell_type": "code",
   "execution_count": null,
   "metadata": {},
   "outputs": [],
   "source": [
    "# Need to change the directory accordingly \n",
    "label_transfer_init <- function(sample.name){\n",
    "    seu <-read_seu(dir = paste0(\"../../kallisto-bus/output/COPILOT_RDS_LENIENT_DR/\",sample.name,\"_COPILOT.rds\"))\n",
    "    lt.anchors <- FindTransferAnchors(reference = rc.integrated, query = seu, normalization.method = \"SCT\", npcs = 50 ,dims = 1:50)\n",
    "    ## time.celltype.anno.Li is the dev stage reannotation\n",
    "    predictions <- TransferData(anchorset = lt.anchors, refdata = rc.integrated$time.celltype.anno.Li, dims = 1:50, weight.reduction = \"pcaproject\")\n",
    "    seu <- AddMetaData(seu, metadata = predictions)\n",
    "    seu@meta.data$time.celltype.anno.Li <- seu@meta.data$predicted.id\n",
    "    ## time.celltype.anno.Li.crude is the dev stage reannotation without sub cell types\n",
    "    predictions <- TransferData(anchorset = lt.anchors, refdata = rc.integrated$time.celltype.anno.Li.crude, dims = 1:50, weight.reduction = \"pcaproject\")\n",
    "    seu <- AddMetaData(seu, metadata = predictions)\n",
    "    seu@meta.data$time.celltype.anno.Li.crude <- seu@meta.data$predicted.id\n",
    "    predictions <- TransferData(anchorset = lt.anchors, refdata = rc.integrated$time.celltype.anno, dims = 1:50, weight.reduction = \"pcaproject\")\n",
    "    seu <- AddMetaData(seu, metadata = predictions)\n",
    "    seu@meta.data$time.celltype.anno <- seu@meta.data$predicted.id\n",
    "    predictions <- TransferData(anchorset = lt.anchors, refdata = rc.integrated$time.celltype.anno.crude, dims = 1:50, weight.reduction = \"pcaproject\")\n",
    "    seu <- AddMetaData(seu, metadata = predictions)\n",
    "    seu@meta.data$time.celltype.anno.crude <- seu@meta.data$predicted.id\n",
    "    predictions <- TransferData(anchorset = lt.anchors, refdata = rc.integrated$celltype.anno, dims = 1:50, weight.reduction = \"pcaproject\")\n",
    "    seu <- AddMetaData(seu, metadata = predictions)\n",
    "    seu@meta.data$celltype.anno <- seu@meta.data$predicted.id\n",
    "    predictions <- TransferData(anchorset = lt.anchors, refdata = rc.integrated$celltype.anno.crude, dims = 1:50, weight.reduction = \"pcaproject\")\n",
    "    seu <- AddMetaData(seu, metadata = predictions)\n",
    "    seu@meta.data$celltype.anno.crude <- seu@meta.data$predicted.id\n",
    "    predictions <- TransferData(anchorset = lt.anchors, refdata = rc.integrated$time.anno, dims = 1:50, weight.reduction = \"pcaproject\")\n",
    "    seu <- AddMetaData(seu, metadata = predictions)\n",
    "    seu@meta.data$time.anno <- seu@meta.data$predicted.id\n",
    "    predictions <- TransferData(anchorset = lt.anchors, refdata = rc.integrated$branch.anno, dims = 1:50, weight.reduction = \"pcaproject\")\n",
    "    seu <- AddMetaData(seu, metadata = predictions)\n",
    "    seu@meta.data$branch.anno <- seu@meta.data$predicted.id\n",
    "    predictions <- TransferData(anchorset = lt.anchors, refdata = rc.integrated$consensus.time.group, dims = 1:50, weight.reduction = \"pcaproject\")\n",
    "    seu <- AddMetaData(seu, metadata = predictions)\n",
    "    seu@meta.data$consensus.time.group <- seu@meta.data$predicted.id\n",
    "    predictions <- TransferData(anchorset = lt.anchors, refdata = rc.integrated$consensus.time.group.50, dims = 1:50, weight.reduction = \"pcaproject\")\n",
    "    seu <- AddMetaData(seu, metadata = predictions)\n",
    "    seu@meta.data$consensus.time.group.50 <- seu@meta.data$predicted.id\n",
    "    saveRDS(seu, file = paste0(\"../../kallisto-bus/output/COPILOT_RDS_LENIENT_DR/\",sample.name,\"_COPILOT_seu4.rds\"))\n",
    "}"
   ]
  },
  {
   "cell_type": "code",
   "execution_count": 13,
   "metadata": {},
   "outputs": [],
   "source": [
    "sample.list <- c(\"dc1\", \"dc2\", \"sc_1\", \"sc_12\", \"sc_2\", \"sc_43\", \"sc_44\", \"sc_45\", \"sc_46\", \"sc_47\", \"sc_48\", \"sc_49\", \"sc_5\", \"sc_50\", \n",
    "                 \"sc_111\", \"sc_112\", \"sc_113\", \"sc_114\", \"sc_122\", \"sc_123\", \"sc_124\", \"sc_125\", \"sc_126\", \"sc_127\", \"sc_128\", \"sc_129\",\n",
    "                 \"sc_130\", \"sc_131\", \"sc_132\", \"sc_133\", \"sc_134\", \"sc_135\", \"sc_136\", \"sc_137\", \"sc_147\", \"sc_148\", \"sc_149\", \"sc_150\", \"sc_151\", \"sc_152\", \"sc_153\", \"sc_154\",\n",
    "                \"pp1\", \"col0\", \"tnw1\", \"tnw2\", \"sc_9_at\", \"sc_10_at\", \"sc_11\", \"sc_30\", \"sc_31\", \"sc_37\", \"sc_40\", \"sc_51\")"
   ]
  },
  {
   "cell_type": "code",
   "execution_count": 16,
   "metadata": {},
   "outputs": [
    {
     "name": "stderr",
     "output_type": "stream",
     "text": [
      "Normalizing query using reference SCT model\n",
      "\n",
      "Performing PCA on the provided reference using 1844 features as input.\n",
      "\n",
      "Projecting cell embeddings\n",
      "\n",
      "Finding neighborhoods\n",
      "\n",
      "Finding anchors\n",
      "\n",
      "\tFound 21082 anchors\n",
      "\n",
      "Finding integration vectors\n",
      "\n",
      "Finding integration vector weights\n",
      "\n",
      "Predicting cell labels\n",
      "\n",
      "Finding integration vectors\n",
      "\n",
      "Finding integration vector weights\n",
      "\n",
      "Predicting cell labels\n",
      "\n",
      "Finding integration vectors\n",
      "\n",
      "Finding integration vector weights\n",
      "\n",
      "Predicting cell labels\n",
      "\n",
      "Finding integration vectors\n",
      "\n",
      "Finding integration vector weights\n",
      "\n",
      "Predicting cell labels\n",
      "\n",
      "Finding integration vectors\n",
      "\n",
      "Finding integration vector weights\n",
      "\n",
      "Predicting cell labels\n",
      "\n",
      "Finding integration vectors\n",
      "\n",
      "Finding integration vector weights\n",
      "\n",
      "Predicting cell labels\n",
      "\n",
      "Finding integration vectors\n",
      "\n",
      "Finding integration vector weights\n",
      "\n",
      "Predicting cell labels\n",
      "\n",
      "Finding integration vectors\n",
      "\n",
      "Finding integration vector weights\n",
      "\n",
      "Predicting cell labels\n",
      "\n",
      "Finding integration vectors\n",
      "\n",
      "Finding integration vector weights\n",
      "\n",
      "Predicting cell labels\n",
      "\n",
      "Finding integration vectors\n",
      "\n",
      "Finding integration vector weights\n",
      "\n",
      "Predicting cell labels\n",
      "\n"
     ]
    }
   ],
   "source": [
    "for (i in 1:length(sample.list)){\n",
    " label_transfer_init(sample.list[i])\n",
    "}"
   ]
  }
 ],
 "metadata": {
  "kernelspec": {
   "display_name": "R",
   "language": "R",
   "name": "ir"
  },
  "language_info": {
   "codemirror_mode": "r",
   "file_extension": ".r",
   "mimetype": "text/x-r-source",
   "name": "R",
   "pygments_lexer": "r",
   "version": "4.0.3"
  }
 },
 "nbformat": 4,
 "nbformat_minor": 4
}
