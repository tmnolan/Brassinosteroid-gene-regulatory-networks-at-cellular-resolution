{
 "cells": [
  {
   "cell_type": "code",
   "execution_count": 1,
   "id": "humanitarian-auction",
   "metadata": {},
   "outputs": [],
   "source": [
    "import pandas as pd\n",
    "import numpy as np\n",
    "import matplotlib.pyplot as plt\n",
    "%matplotlib inline\n",
    "\n",
    "import seaborn as sns\n",
    "\n",
    "\n",
    "import os, sys, shutil, importlib, glob\n",
    "from tqdm.notebook import tqdm\n",
    "\n",
    "from celloracle import motif_analysis as ma"
   ]
  },
  {
   "cell_type": "code",
   "execution_count": 2,
   "id": "western-completion",
   "metadata": {},
   "outputs": [
    {
     "name": "stdout",
     "output_type": "stream",
     "text": [
      "1.1.5\n"
     ]
    }
   ],
   "source": [
    "print(pd.__version__)"
   ]
  },
  {
   "cell_type": "code",
   "execution_count": 3,
   "id": "exact-canyon",
   "metadata": {},
   "outputs": [
    {
     "name": "stdout",
     "output_type": "stream",
     "text": [
      "1.19.5\n"
     ]
    }
   ],
   "source": [
    "print(np.__version__)"
   ]
  },
  {
   "cell_type": "code",
   "execution_count": 4,
   "id": "happy-rings",
   "metadata": {},
   "outputs": [],
   "source": [
    "%config InlineBackend.figure_format = 'retina'\n",
    "\n",
    "plt.rcParams['figure.figsize'] = [6, 4.5]\n",
    "plt.rcParams[\"savefig.dpi\"] = 300"
   ]
  },
  {
   "cell_type": "code",
   "execution_count": 5,
   "id": "flush-circulation",
   "metadata": {},
   "outputs": [],
   "source": [
    "os.chdir('/fast/AG_Ohler/CheWei/Root_scATAC/cicero_output')"
   ]
  },
  {
   "cell_type": "code",
   "execution_count": 6,
   "id": "threatened-keeping",
   "metadata": {},
   "outputs": [
    {
     "data": {
      "text/plain": [
       "array(['1_335_7056', '1_8406_9951', '1_12063_12890', ...,\n",
       "       '5_26956798_26956907', '5_26957455_26961494',\n",
       "       '5_26962568_26975462'], dtype=object)"
      ]
     },
     "execution_count": 6,
     "metadata": {},
     "output_type": "execute_result"
    }
   ],
   "source": [
    "# Load scATAC-seq peak list.\n",
    "peaks = pd.read_csv(\"./all_peaks.csv\", index_col=0)\n",
    "peaks = peaks.x.values\n",
    "peaks"
   ]
  },
  {
   "cell_type": "code",
   "execution_count": 7,
   "id": "hollow-region",
   "metadata": {},
   "outputs": [
    {
     "name": "stderr",
     "output_type": "stream",
     "text": [
      "/home/chsu/anaconda3/envs/celloracle/lib/python3.6/site-packages/numpy/lib/arraysetops.py:580: FutureWarning: elementwise comparison failed; returning scalar instead, but in the future will perform elementwise comparison\n",
      "  mask |= (ar1 == a)\n"
     ]
    },
    {
     "data": {
      "text/html": [
       "<div>\n",
       "<style scoped>\n",
       "    .dataframe tbody tr th:only-of-type {\n",
       "        vertical-align: middle;\n",
       "    }\n",
       "\n",
       "    .dataframe tbody tr th {\n",
       "        vertical-align: top;\n",
       "    }\n",
       "\n",
       "    .dataframe thead th {\n",
       "        text-align: right;\n",
       "    }\n",
       "</style>\n",
       "<table border=\"1\" class=\"dataframe\">\n",
       "  <thead>\n",
       "    <tr style=\"text-align: right;\">\n",
       "      <th></th>\n",
       "      <th>Peak1</th>\n",
       "      <th>Peak2</th>\n",
       "      <th>coaccess</th>\n",
       "    </tr>\n",
       "  </thead>\n",
       "  <tbody>\n",
       "    <tr>\n",
       "      <th>1</th>\n",
       "      <td>1_10009064_10010347</td>\n",
       "      <td>1_9750080_9750307</td>\n",
       "      <td>0.079660</td>\n",
       "    </tr>\n",
       "    <tr>\n",
       "      <th>2</th>\n",
       "      <td>1_10009064_10010347</td>\n",
       "      <td>1_9751793_9754234</td>\n",
       "      <td>0.058712</td>\n",
       "    </tr>\n",
       "    <tr>\n",
       "      <th>3</th>\n",
       "      <td>1_10009064_10010347</td>\n",
       "      <td>1_9756523_9756940</td>\n",
       "      <td>0.196817</td>\n",
       "    </tr>\n",
       "    <tr>\n",
       "      <th>4</th>\n",
       "      <td>1_10009064_10010347</td>\n",
       "      <td>1_9757841_9758508</td>\n",
       "      <td>0.000257</td>\n",
       "    </tr>\n",
       "    <tr>\n",
       "      <th>5</th>\n",
       "      <td>1_10009064_10010347</td>\n",
       "      <td>1_9761163_9761218</td>\n",
       "      <td>-0.012870</td>\n",
       "    </tr>\n",
       "  </tbody>\n",
       "</table>\n",
       "</div>"
      ],
      "text/plain": [
       "                 Peak1              Peak2  coaccess\n",
       "1  1_10009064_10010347  1_9750080_9750307  0.079660\n",
       "2  1_10009064_10010347  1_9751793_9754234  0.058712\n",
       "3  1_10009064_10010347  1_9756523_9756940  0.196817\n",
       "4  1_10009064_10010347  1_9757841_9758508  0.000257\n",
       "5  1_10009064_10010347  1_9761163_9761218 -0.012870"
      ]
     },
     "execution_count": 7,
     "metadata": {},
     "output_type": "execute_result"
    }
   ],
   "source": [
    "# Load cicero coaccess score.\n",
    "cicero_connections = pd.read_csv(\"cicero_connections.csv\", index_col=0)\n",
    "cicero_connections.head()"
   ]
  },
  {
   "cell_type": "code",
   "execution_count": 8,
   "id": "leading-messenger",
   "metadata": {},
   "outputs": [
    {
     "data": {
      "text/plain": [
       "{'Human': ['hg38', 'hg19'],\n",
       " 'Mouse': ['mm10', 'mm9'],\n",
       " 'S.cerevisiae': ['sacCer2', 'sacCer3'],\n",
       " 'Zebrafish': ['danRer7', 'danRer10', 'danRer11'],\n",
       " 'Xenopus': ['xenTro2', 'xenTro3'],\n",
       " 'Rat': ['rn4', 'rn5', 'rn6'],\n",
       " 'Drosophila': ['dm3', 'dm6'],\n",
       " 'C.elegans': ['ce6', 'ce10'],\n",
       " 'Arabidopsis': ['TAIR10'],\n",
       " 'Chicken': ['galGal4', 'galGal5', 'galGal6']}"
      ]
     },
     "execution_count": 8,
     "metadata": {},
     "output_type": "execute_result"
    }
   ],
   "source": [
    "## Make TSS annotation\n",
    "ma.SUPPORTED_REF_GENOME"
   ]
  },
  {
   "cell_type": "code",
   "execution_count": 9,
   "id": "composed-crazy",
   "metadata": {},
   "outputs": [
    {
     "name": "stdout",
     "output_type": "stream",
     "text": [
      "que bed peaks: 25377\n",
      "tss peaks in que: 36153\n"
     ]
    },
    {
     "data": {
      "text/html": [
       "<div>\n",
       "<style scoped>\n",
       "    .dataframe tbody tr th:only-of-type {\n",
       "        vertical-align: middle;\n",
       "    }\n",
       "\n",
       "    .dataframe tbody tr th {\n",
       "        vertical-align: top;\n",
       "    }\n",
       "\n",
       "    .dataframe thead th {\n",
       "        text-align: right;\n",
       "    }\n",
       "</style>\n",
       "<table border=\"1\" class=\"dataframe\">\n",
       "  <thead>\n",
       "    <tr style=\"text-align: right;\">\n",
       "      <th></th>\n",
       "      <th>chr</th>\n",
       "      <th>start</th>\n",
       "      <th>end</th>\n",
       "      <th>gene_short_name</th>\n",
       "      <th>strand</th>\n",
       "    </tr>\n",
       "  </thead>\n",
       "  <tbody>\n",
       "    <tr>\n",
       "      <th>36148</th>\n",
       "      <td>5</td>\n",
       "      <td>26962568</td>\n",
       "      <td>26975462</td>\n",
       "      <td>AT5G67620</td>\n",
       "      <td>-</td>\n",
       "    </tr>\n",
       "    <tr>\n",
       "      <th>36149</th>\n",
       "      <td>5</td>\n",
       "      <td>26962568</td>\n",
       "      <td>26975462</td>\n",
       "      <td>AT5G67630</td>\n",
       "      <td>-</td>\n",
       "    </tr>\n",
       "    <tr>\n",
       "      <th>36150</th>\n",
       "      <td>5</td>\n",
       "      <td>26962568</td>\n",
       "      <td>26975462</td>\n",
       "      <td>AT5G09955</td>\n",
       "      <td>+</td>\n",
       "    </tr>\n",
       "    <tr>\n",
       "      <th>36151</th>\n",
       "      <td>5</td>\n",
       "      <td>26962568</td>\n",
       "      <td>26975462</td>\n",
       "      <td>AT5G67640</td>\n",
       "      <td>-</td>\n",
       "    </tr>\n",
       "    <tr>\n",
       "      <th>36152</th>\n",
       "      <td>5</td>\n",
       "      <td>26962568</td>\n",
       "      <td>26975462</td>\n",
       "      <td>AT5G09965</td>\n",
       "      <td>-</td>\n",
       "    </tr>\n",
       "  </tbody>\n",
       "</table>\n",
       "</div>"
      ],
      "text/plain": [
       "       chr     start       end gene_short_name strand\n",
       "36148    5  26962568  26975462       AT5G67620      -\n",
       "36149    5  26962568  26975462       AT5G67630      -\n",
       "36150    5  26962568  26975462       AT5G09955      +\n",
       "36151    5  26962568  26975462       AT5G67640      -\n",
       "36152    5  26962568  26975462       AT5G09965      -"
      ]
     },
     "execution_count": 9,
     "metadata": {},
     "output_type": "execute_result"
    }
   ],
   "source": [
    "tss_annotated = ma.get_tss_info(peak_str_list=peaks, ref_genome=\"TAIR10\") ##!! Set reference genome here\n",
    "\n",
    "\n",
    "# Check results\n",
    "tss_annotated.tail()"
   ]
  },
  {
   "cell_type": "code",
   "execution_count": 10,
   "id": "unexpected-neighbor",
   "metadata": {},
   "outputs": [],
   "source": [
    "tss_annotated['chr'] = tss_annotated['chr'].astype(str)"
   ]
  },
  {
   "cell_type": "code",
   "execution_count": 11,
   "id": "blessed-senior",
   "metadata": {},
   "outputs": [
    {
     "name": "stdout",
     "output_type": "stream",
     "text": [
      "(2359340, 3)\n"
     ]
    },
    {
     "data": {
      "text/html": [
       "<div>\n",
       "<style scoped>\n",
       "    .dataframe tbody tr th:only-of-type {\n",
       "        vertical-align: middle;\n",
       "    }\n",
       "\n",
       "    .dataframe tbody tr th {\n",
       "        vertical-align: top;\n",
       "    }\n",
       "\n",
       "    .dataframe thead th {\n",
       "        text-align: right;\n",
       "    }\n",
       "</style>\n",
       "<table border=\"1\" class=\"dataframe\">\n",
       "  <thead>\n",
       "    <tr style=\"text-align: right;\">\n",
       "      <th></th>\n",
       "      <th>peak_id</th>\n",
       "      <th>gene_short_name</th>\n",
       "      <th>coaccess</th>\n",
       "    </tr>\n",
       "  </thead>\n",
       "  <tbody>\n",
       "    <tr>\n",
       "      <th>0</th>\n",
       "      <td>1_10009064_10010347</td>\n",
       "      <td>AT1G06127</td>\n",
       "      <td>0.039057</td>\n",
       "    </tr>\n",
       "    <tr>\n",
       "      <th>1</th>\n",
       "      <td>1_10009064_10010347</td>\n",
       "      <td>AT1G06133</td>\n",
       "      <td>0.312275</td>\n",
       "    </tr>\n",
       "    <tr>\n",
       "      <th>2</th>\n",
       "      <td>1_10009064_10010347</td>\n",
       "      <td>AT1G06153</td>\n",
       "      <td>0.085787</td>\n",
       "    </tr>\n",
       "    <tr>\n",
       "      <th>3</th>\n",
       "      <td>1_10009064_10010347</td>\n",
       "      <td>AT1G06163</td>\n",
       "      <td>0.359770</td>\n",
       "    </tr>\n",
       "    <tr>\n",
       "      <th>4</th>\n",
       "      <td>1_10009064_10010347</td>\n",
       "      <td>AT1G06173</td>\n",
       "      <td>0.224941</td>\n",
       "    </tr>\n",
       "  </tbody>\n",
       "</table>\n",
       "</div>"
      ],
      "text/plain": [
       "               peak_id gene_short_name  coaccess\n",
       "0  1_10009064_10010347       AT1G06127  0.039057\n",
       "1  1_10009064_10010347       AT1G06133  0.312275\n",
       "2  1_10009064_10010347       AT1G06153  0.085787\n",
       "3  1_10009064_10010347       AT1G06163  0.359770\n",
       "4  1_10009064_10010347       AT1G06173  0.224941"
      ]
     },
     "execution_count": 11,
     "metadata": {},
     "output_type": "execute_result"
    }
   ],
   "source": [
    "## Integrate TSS info into cicero connection\n",
    "integrated = ma.integrate_tss_peak_with_cicero(tss_peak=tss_annotated, cicero_connections=cicero_connections)\n",
    "print(integrated.shape)\n",
    "integrated.head()"
   ]
  },
  {
   "cell_type": "code",
   "execution_count": 12,
   "id": "bottom-devil",
   "metadata": {},
   "outputs": [],
   "source": [
    "## Filter peaks\n",
    "peak = integrated[integrated.coaccess >= 0.8]\n",
    "peak = peak[[\"peak_id\", \"gene_short_name\"]].reset_index(drop=True)"
   ]
  },
  {
   "cell_type": "code",
   "execution_count": 13,
   "id": "mechanical-brooks",
   "metadata": {},
   "outputs": [
    {
     "name": "stdout",
     "output_type": "stream",
     "text": [
      "(47596, 2)\n"
     ]
    },
    {
     "data": {
      "text/html": [
       "<div>\n",
       "<style scoped>\n",
       "    .dataframe tbody tr th:only-of-type {\n",
       "        vertical-align: middle;\n",
       "    }\n",
       "\n",
       "    .dataframe tbody tr th {\n",
       "        vertical-align: top;\n",
       "    }\n",
       "\n",
       "    .dataframe thead th {\n",
       "        text-align: right;\n",
       "    }\n",
       "</style>\n",
       "<table border=\"1\" class=\"dataframe\">\n",
       "  <thead>\n",
       "    <tr style=\"text-align: right;\">\n",
       "      <th></th>\n",
       "      <th>peak_id</th>\n",
       "      <th>gene_short_name</th>\n",
       "    </tr>\n",
       "  </thead>\n",
       "  <tbody>\n",
       "    <tr>\n",
       "      <th>0</th>\n",
       "      <td>1_10009064_10010347</td>\n",
       "      <td>AT1G28470</td>\n",
       "    </tr>\n",
       "    <tr>\n",
       "      <th>1</th>\n",
       "      <td>1_10011402_10011934</td>\n",
       "      <td>AT1G06163</td>\n",
       "    </tr>\n",
       "    <tr>\n",
       "      <th>2</th>\n",
       "      <td>1_10012652_10016219</td>\n",
       "      <td>AT1G06163</td>\n",
       "    </tr>\n",
       "    <tr>\n",
       "      <th>3</th>\n",
       "      <td>1_10012652_10016219</td>\n",
       "      <td>AT1G28480</td>\n",
       "    </tr>\n",
       "    <tr>\n",
       "      <th>4</th>\n",
       "      <td>1_10012652_10016219</td>\n",
       "      <td>AT1G28490</td>\n",
       "    </tr>\n",
       "  </tbody>\n",
       "</table>\n",
       "</div>"
      ],
      "text/plain": [
       "               peak_id gene_short_name\n",
       "0  1_10009064_10010347       AT1G28470\n",
       "1  1_10011402_10011934       AT1G06163\n",
       "2  1_10012652_10016219       AT1G06163\n",
       "3  1_10012652_10016219       AT1G28480\n",
       "4  1_10012652_10016219       AT1G28490"
      ]
     },
     "execution_count": 13,
     "metadata": {},
     "output_type": "execute_result"
    }
   ],
   "source": [
    "print(peak.shape)\n",
    "peak.head()"
   ]
  },
  {
   "cell_type": "code",
   "execution_count": 14,
   "id": "regular-launch",
   "metadata": {},
   "outputs": [],
   "source": [
    "peak.to_csv(\"processed_peak_file.csv\")"
   ]
  },
  {
   "cell_type": "code",
   "execution_count": null,
   "id": "exceptional-disclosure",
   "metadata": {},
   "outputs": [],
   "source": []
  }
 ],
 "metadata": {
  "kernelspec": {
   "display_name": "Python 3 (ipykernel)",
   "language": "python",
   "name": "python3"
  },
  "language_info": {
   "codemirror_mode": {
    "name": "ipython",
    "version": 3
   },
   "file_extension": ".py",
   "mimetype": "text/x-python",
   "name": "python",
   "nbconvert_exporter": "python",
   "pygments_lexer": "ipython3",
   "version": "3.7.10"
  }
 },
 "nbformat": 4,
 "nbformat_minor": 5
}
