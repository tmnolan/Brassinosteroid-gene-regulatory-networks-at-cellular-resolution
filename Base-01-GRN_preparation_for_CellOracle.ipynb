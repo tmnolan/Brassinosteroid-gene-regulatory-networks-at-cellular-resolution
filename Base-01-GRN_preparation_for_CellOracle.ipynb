{
 "cells": [
  {
   "cell_type": "code",
   "execution_count": 1,
   "id": "engaged-fifteen",
   "metadata": {},
   "outputs": [],
   "source": [
    "rm(list=ls()) \n",
    "setwd(\"/scratch/AG_Ohler/CheWei/Root_scATAC/\")"
   ]
  },
  {
   "cell_type": "code",
   "execution_count": 2,
   "id": "numeric-horror",
   "metadata": {},
   "outputs": [],
   "source": [
    "suppressMessages(library(cicero))\n",
    "suppressMessages(library(monocle3))"
   ]
  },
  {
   "cell_type": "code",
   "execution_count": 3,
   "id": "julian-block",
   "metadata": {},
   "outputs": [
    {
     "name": "stderr",
     "output_type": "stream",
     "text": [
      "Warning message in dir.create(output_folder):\n",
      "\"'cicero_output' already exists\"\n"
     ]
    }
   ],
   "source": [
    "## You can substitute the data path below with the data path of your scATAC data\n",
    "## Downloaded from ARVEX (GSE155304:GSM4698760)\n",
    "data_folder <- \"af_1_output/outs/filtered_peak_bc_matrix\"\n",
    "\n",
    "# Create a folder to save results\n",
    "output_folder <- \"cicero_output\"\n",
    "dir.create(output_folder)"
   ]
  },
  {
   "cell_type": "code",
   "execution_count": 4,
   "id": "western-lighting",
   "metadata": {},
   "outputs": [],
   "source": [
    "# Read in matrix data using the Matrix package\n",
    "indata <- Matrix::readMM(paste0(data_folder, \"/matrix.mtx\"))\n",
    "# Binarize the matrix\n",
    "indata@x[indata@x > 0] <- 1\n",
    "\n",
    "# Format cell info\n",
    "cellinfo <- read.table(paste0(data_folder, \"/barcodes.tsv\"))\n",
    "row.names(cellinfo) <- cellinfo$V1\n",
    "names(cellinfo) <- \"cells\"\n",
    "\n",
    "# Format peak info\n",
    "peakinfo <- read.table(paste0(data_folder, \"/peaks.bed\"))\n",
    "names(peakinfo) <- c(\"chr\", \"bp1\", \"bp2\")\n",
    "peakinfo$site_name <- paste(peakinfo$chr, peakinfo$bp1, peakinfo$bp2, sep=\"_\")\n",
    "row.names(peakinfo) <- peakinfo$site_name\n",
    "\n",
    "row.names(indata) <- row.names(peakinfo)\n",
    "colnames(indata) <- row.names(cellinfo)\n",
    "\n",
    "# Make CDS\n",
    "input_cds <-  suppressWarnings(new_cell_data_set(indata,\n",
    "cell_metadata = cellinfo,\n",
    "gene_metadata = peakinfo))\n",
    "\n",
    "input_cds <- monocle3::detect_genes(input_cds)\n",
    "\n",
    "#Ensure there are no peaks included with zero reads\n",
    "input_cds <- input_cds[Matrix::rowSums(exprs(input_cds)) != 0,]"
   ]
  },
  {
   "cell_type": "code",
   "execution_count": 5,
   "id": "seven-desert",
   "metadata": {},
   "outputs": [
    {
     "data": {
      "text/plain": [
       "class: cell_data_set \n",
       "dim: 25377 3270 \n",
       "metadata(1): cds_version\n",
       "assays(1): counts\n",
       "rownames(25377): 1_335_7056 1_8406_9951 ... 5_26957455_26961494\n",
       "  5_26962568_26975462\n",
       "rowData names(5): chr bp1 bp2 site_name num_cells_expressed\n",
       "colnames(3270): AAACGAAAGCGCCTAC-1 AAACGAAAGTACAGTA-1 ...\n",
       "  TTTGTGTCACAGGAAC-1 TTTGTGTGTAGTCTGT-1\n",
       "colData names(3): cells Size_Factor num_genes_expressed\n",
       "reducedDimNames(0):\n",
       "mainExpName: NULL\n",
       "altExpNames(0):"
      ]
     },
     "metadata": {},
     "output_type": "display_data"
    }
   ],
   "source": [
    "input_cds"
   ]
  },
  {
   "cell_type": "code",
   "execution_count": 6,
   "id": "charged-exhaust",
   "metadata": {},
   "outputs": [
    {
     "data": {
      "image/png": "[encoded data removed]",
      "text/plain": [
       "Plot with title \"Histogram of Matrix::colSums(exprs(input_cds))\""
      ]
     },
     "metadata": {
      "image/png": {
       "height": 420,
       "width": 420
      }
     },
     "output_type": "display_data"
    }
   ],
   "source": [
    "## Quality Check and filtering\n",
    "# Visualize peak_count_per_cell\n",
    "hist(Matrix::colSums(exprs(input_cds)))"
   ]
  },
  {
   "cell_type": "code",
   "execution_count": 7,
   "id": "genetic-hampton",
   "metadata": {},
   "outputs": [],
   "source": [
    "# Filter cells by peak_count\n",
    "# Please set an appropriate threshold values according to your data\n",
    "max_count <-  15000\n",
    "min_count <- 2000\n",
    "input_cds <- input_cds[,Matrix::colSums(exprs(input_cds)) >= min_count]\n",
    "input_cds <- input_cds[,Matrix::colSums(exprs(input_cds)) <= max_count]"
   ]
  },
  {
   "cell_type": "code",
   "execution_count": 8,
   "id": "tired-secretary",
   "metadata": {},
   "outputs": [
    {
     "name": "stderr",
     "output_type": "stream",
     "text": [
      "Overlap QC metrics:\n",
      "Cells per bin: 50\n",
      "Maximum shared cells bin-bin: 44\n",
      "Mean shared cells bin-bin: 0.937935257788518\n",
      "Median shared cells bin-bin: 0\n",
      "\n"
     ]
    }
   ],
   "source": [
    "## Process Cicero object\n",
    "# Data preprocessing\n",
    "set.seed(2017)\n",
    "\n",
    "input_cds <- detect_genes(input_cds)\n",
    "input_cds <- estimate_size_factors(input_cds)\n",
    "input_cds <- preprocess_cds(input_cds, method = \"LSI\")\n",
    "\n",
    "# Dimensional reduction with umap\n",
    "input_cds <- reduce_dimension(input_cds, reduction_method = 'UMAP',\n",
    "                              preprocess_method = \"LSI\")\n",
    "umap_coords <- reducedDims(input_cds)$UMAP\n",
    "\n",
    "\n",
    "cicero_cds <- make_cicero_cds(input_cds, reduced_coordinates = umap_coords)\n",
    "\n",
    "# Save cds object if you want\n",
    "saveRDS(cicero_cds, paste0(output_folder, \"/cicero_cds.Rds\"))"
   ]
  },
  {
   "cell_type": "code",
   "execution_count": 11,
   "id": "classified-investigator",
   "metadata": {},
   "outputs": [
    {
     "data": {
      "text/plain": [
       "class: cell_data_set \n",
       "dim: 25377 1018 \n",
       "metadata(1): cds_version\n",
       "assays(1): counts\n",
       "rownames(25377): 1_335_7056 1_8406_9951 ... 5_26957455_26961494\n",
       "  5_26962568_26975462\n",
       "rowData names(5): chr bp1 bp2 site_name num_cells_expressed\n",
       "colnames(1018): agg293 agg1996 ... agg1523 agg1186\n",
       "colData names(3): agg_cell Size_Factor num_genes_expressed\n",
       "reducedDimNames(0):\n",
       "mainExpName: NULL\n",
       "altExpNames(0):"
      ]
     },
     "metadata": {},
     "output_type": "display_data"
    }
   ],
   "source": [
    "cicero_cds"
   ]
  },
  {
   "cell_type": "code",
   "execution_count": 12,
   "id": "welsh-addiction",
   "metadata": {},
   "outputs": [],
   "source": [
    "# !!Please make sure that the reference genome information below match the reference genome of your scATAC-seq data.\n",
    "\n",
    "# If your scATAC-seq uses mm10 reference genome, you can read chromosome length file with the following command.\n",
    "#download.file(url = \"https://raw.githubusercontent.com/morris-lab/CellOracle/master/docs/demo_data/mm10_chromosome_length.txt\",\n",
    "#              destfile = \"./mm10_chromosome_length.txt\")\n",
    "#chromosome_length <- read.table(\"./mm10_chromosome_length.txt\")\n",
    "chromosome_length <- data.frame(V1=c(\"1\",\"2\",\"3\",\"4\",\"5\",\"MT\",\"Pltd\"),V2=c(30427671,19698289,23459830,18585056,26975502,366924,154478))"
   ]
  },
  {
   "cell_type": "code",
   "execution_count": 13,
   "id": "historic-smoke",
   "metadata": {},
   "outputs": [
    {
     "data": {
      "text/html": [
       "<table class=\"dataframe\">\n",
       "<caption>A data.frame: 7 × 2</caption>\n",
       "<thead>\n",
       "\t<tr><th scope=col>V1</th><th scope=col>V2</th></tr>\n",
       "\t<tr><th scope=col>&lt;chr&gt;</th><th scope=col>&lt;dbl&gt;</th></tr>\n",
       "</thead>\n",
       "<tbody>\n",
       "\t<tr><td>1 </td><td>30427671</td></tr>\n",
       "\t<tr><td>2 </td><td>19698289</td></tr>\n",
       "\t<tr><td>3 </td><td>23459830</td></tr>\n",
       "\t<tr><td>4 </td><td>18585056</td></tr>\n",
       "\t<tr><td>5 </td><td>26975502</td></tr>\n",
       "\t<tr><td>Mt</td><td>  366924</td></tr>\n",
       "\t<tr><td>Pt</td><td>  154478</td></tr>\n",
       "</tbody>\n",
       "</table>\n"
      ],
      "text/latex": [
       "A data.frame: 7 × 2\n",
       "\\begin{tabular}{ll}\n",
       " V1 & V2\\\\\n",
       " <chr> & <dbl>\\\\\n",
       "\\hline\n",
       "\t 1  & 30427671\\\\\n",
       "\t 2  & 19698289\\\\\n",
       "\t 3  & 23459830\\\\\n",
       "\t 4  & 18585056\\\\\n",
       "\t 5  & 26975502\\\\\n",
       "\t Mt &   366924\\\\\n",
       "\t Pt &   154478\\\\\n",
       "\\end{tabular}\n"
      ],
      "text/markdown": [
       "\n",
       "A data.frame: 7 × 2\n",
       "\n",
       "| V1 &lt;chr&gt; | V2 &lt;dbl&gt; |\n",
       "|---|---|\n",
       "| 1  | 30427671 |\n",
       "| 2  | 19698289 |\n",
       "| 3  | 23459830 |\n",
       "| 4  | 18585056 |\n",
       "| 5  | 26975502 |\n",
       "| Mt |   366924 |\n",
       "| Pt |   154478 |\n",
       "\n"
      ],
      "text/plain": [
       "  V1 V2      \n",
       "1 1  30427671\n",
       "2 2  19698289\n",
       "3 3  23459830\n",
       "4 4  18585056\n",
       "5 5  26975502\n",
       "6 Mt   366924\n",
       "7 Pt   154478"
      ]
     },
     "metadata": {},
     "output_type": "display_data"
    }
   ],
   "source": [
    "chromosome_length"
   ]
  },
  {
   "cell_type": "code",
   "execution_count": 14,
   "id": "indoor-atlanta",
   "metadata": {},
   "outputs": [
    {
     "name": "stdout",
     "output_type": "stream",
     "text": [
      "[1] \"Starting Cicero\"\n",
      "[1] \"Calculating distance_parameter value\"\n",
      "[1] \"Running models\"\n",
      "[1] \"Assembling connections\"\n",
      "[1] \"Successful cicero models:  477\"\n",
      "[1] \"Other models: \"\n",
      "\n",
      "Zero or one element in range \n",
      "                           4 \n",
      "[1] \"Models with errors:  0\"\n",
      "[1] \"Done\"\n"
     ]
    },
    {
     "data": {
      "text/html": [
       "<table class=\"dataframe\">\n",
       "<caption>A data.frame: 6 × 3</caption>\n",
       "<thead>\n",
       "\t<tr><th></th><th scope=col>Peak1</th><th scope=col>Peak2</th><th scope=col>coaccess</th></tr>\n",
       "\t<tr><th></th><th scope=col>&lt;chr&gt;</th><th scope=col>&lt;fct&gt;</th><th scope=col>&lt;dbl&gt;</th></tr>\n",
       "</thead>\n",
       "<tbody>\n",
       "\t<tr><th scope=row>1</th><td>1_10009064_10010347</td><td>1_9750080_9750307</td><td> 0.0796603471</td></tr>\n",
       "\t<tr><th scope=row>2</th><td>1_10009064_10010347</td><td>1_9751793_9754234</td><td> 0.0587116311</td></tr>\n",
       "\t<tr><th scope=row>3</th><td>1_10009064_10010347</td><td>1_9756523_9756940</td><td> 0.1968166285</td></tr>\n",
       "\t<tr><th scope=row>4</th><td>1_10009064_10010347</td><td>1_9757841_9758508</td><td> 0.0002570429</td></tr>\n",
       "\t<tr><th scope=row>5</th><td>1_10009064_10010347</td><td>1_9761163_9761218</td><td>-0.0128699915</td></tr>\n",
       "\t<tr><th scope=row>6</th><td>1_10009064_10010347</td><td>1_9762190_9762559</td><td>-0.0601503103</td></tr>\n",
       "</tbody>\n",
       "</table>\n"
      ],
      "text/latex": [
       "A data.frame: 6 × 3\n",
       "\\begin{tabular}{r|lll}\n",
       "  & Peak1 & Peak2 & coaccess\\\\\n",
       "  & <chr> & <fct> & <dbl>\\\\\n",
       "\\hline\n",
       "\t1 & 1\\_10009064\\_10010347 & 1\\_9750080\\_9750307 &  0.0796603471\\\\\n",
       "\t2 & 1\\_10009064\\_10010347 & 1\\_9751793\\_9754234 &  0.0587116311\\\\\n",
       "\t3 & 1\\_10009064\\_10010347 & 1\\_9756523\\_9756940 &  0.1968166285\\\\\n",
       "\t4 & 1\\_10009064\\_10010347 & 1\\_9757841\\_9758508 &  0.0002570429\\\\\n",
       "\t5 & 1\\_10009064\\_10010347 & 1\\_9761163\\_9761218 & -0.0128699915\\\\\n",
       "\t6 & 1\\_10009064\\_10010347 & 1\\_9762190\\_9762559 & -0.0601503103\\\\\n",
       "\\end{tabular}\n"
      ],
      "text/markdown": [
       "\n",
       "A data.frame: 6 × 3\n",
       "\n",
       "| <!--/--> | Peak1 &lt;chr&gt; | Peak2 &lt;fct&gt; | coaccess &lt;dbl&gt; |\n",
       "|---|---|---|---|\n",
       "| 1 | 1_10009064_10010347 | 1_9750080_9750307 |  0.0796603471 |\n",
       "| 2 | 1_10009064_10010347 | 1_9751793_9754234 |  0.0587116311 |\n",
       "| 3 | 1_10009064_10010347 | 1_9756523_9756940 |  0.1968166285 |\n",
       "| 4 | 1_10009064_10010347 | 1_9757841_9758508 |  0.0002570429 |\n",
       "| 5 | 1_10009064_10010347 | 1_9761163_9761218 | -0.0128699915 |\n",
       "| 6 | 1_10009064_10010347 | 1_9762190_9762559 | -0.0601503103 |\n",
       "\n"
      ],
      "text/plain": [
       "  Peak1               Peak2             coaccess     \n",
       "1 1_10009064_10010347 1_9750080_9750307  0.0796603471\n",
       "2 1_10009064_10010347 1_9751793_9754234  0.0587116311\n",
       "3 1_10009064_10010347 1_9756523_9756940  0.1968166285\n",
       "4 1_10009064_10010347 1_9757841_9758508  0.0002570429\n",
       "5 1_10009064_10010347 1_9761163_9761218 -0.0128699915\n",
       "6 1_10009064_10010347 1_9762190_9762559 -0.0601503103"
      ]
     },
     "metadata": {},
     "output_type": "display_data"
    }
   ],
   "source": [
    "# Run the main function\n",
    "conns <- run_cicero(cicero_cds, chromosome_length) # Takes a few minutes to run\n",
    "\n",
    "# Save results if you want\n",
    "#saveRDS(conns, paste0(output_folder, \"/cicero_connections.Rds\"))\n",
    "\n",
    "# Check results\n",
    "head(conns)"
   ]
  },
  {
   "cell_type": "code",
   "execution_count": 15,
   "id": "judicial-stereo",
   "metadata": {},
   "outputs": [],
   "source": [
    "all_peaks <- row.names(exprs(input_cds))\n",
    "write.csv(x = all_peaks, file = paste0(output_folder, \"/all_peaks.csv\"))\n",
    "write.csv(x = conns, file = paste0(output_folder, \"/cicero_connections.csv\"))"
   ]
  }
 ],
 "metadata": {
  "kernelspec": {
   "display_name": "R",
   "language": "R",
   "name": "ir"
  },
  "language_info": {
   "codemirror_mode": "r",
   "file_extension": ".r",
   "mimetype": "text/x-r-source",
   "name": "R",
   "pygments_lexer": "r",
   "version": "4.0.3"
  }
 },
 "nbformat": 4,
 "nbformat_minor": 5
}
