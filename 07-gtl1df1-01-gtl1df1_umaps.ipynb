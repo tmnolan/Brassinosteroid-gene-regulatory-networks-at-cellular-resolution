{
 "cells": [
  {
   "cell_type": "markdown",
   "metadata": {},
   "source": [
    "## scRNA-seq of WT, gtl1, df1 and gtl1 df1"
   ]
  },
  {
   "cell_type": "code",
   "execution_count": 1,
   "metadata": {},
   "outputs": [
    {
     "name": "stderr",
     "output_type": "stream",
     "text": [
      "── \u001b[1mAttaching packages\u001b[22m ─────────────────────────────────────── tidyverse 1.3.0 ──\n",
      "\n",
      "\u001b[32m✔\u001b[39m \u001b[34mggplot2\u001b[39m 3.3.5     \u001b[32m✔\u001b[39m \u001b[34mpurrr  \u001b[39m 0.3.4\n",
      "\u001b[32m✔\u001b[39m \u001b[34mtibble \u001b[39m 3.1.5     \u001b[32m✔\u001b[39m \u001b[34mdplyr  \u001b[39m 1.0.7\n",
      "\u001b[32m✔\u001b[39m \u001b[34mtidyr  \u001b[39m 1.1.4     \u001b[32m✔\u001b[39m \u001b[34mstringr\u001b[39m 1.4.0\n",
      "\u001b[32m✔\u001b[39m \u001b[34mreadr  \u001b[39m 1.4.0     \u001b[32m✔\u001b[39m \u001b[34mforcats\u001b[39m 0.5.0\n",
      "\n",
      "── \u001b[1mConflicts\u001b[22m ────────────────────────────────────────── tidyverse_conflicts() ──\n",
      "\u001b[31m✖\u001b[39m \u001b[34mdplyr\u001b[39m::\u001b[32mfilter()\u001b[39m masks \u001b[34mstats\u001b[39m::filter()\n",
      "\u001b[31m✖\u001b[39m \u001b[34mdplyr\u001b[39m::\u001b[32mlag()\u001b[39m    masks \u001b[34mstats\u001b[39m::lag()\n",
      "\n",
      "Registered S3 method overwritten by 'spatstat.geom':\n",
      "  method     from\n",
      "  print.boxx cli \n",
      "\n",
      "Attaching SeuratObject\n",
      "\n",
      "\n",
      "Attaching package: ‘patchwork’\n",
      "\n",
      "\n",
      "The following object is masked from ‘package:cowplot’:\n",
      "\n",
      "    align_plots\n",
      "\n",
      "\n"
     ]
    }
   ],
   "source": [
    "library(tidyverse)\n",
    "library(Seurat)\n",
    "library(cowplot)\n",
    "library(patchwork)\n",
    "library(future)\n",
    "#for 200gb ram \n",
    "options(future.globals.maxSize = 200000 * 1024^2)"
   ]
  },
  {
   "cell_type": "code",
   "execution_count": null,
   "metadata": {},
   "outputs": [],
   "source": [
    "rc.integrated <- readRDS(\"../data/integrations/rc.integrated_11S_gtl1_df1_Li_seu3_clean.rds\")"
   ]
  },
  {
   "cell_type": "markdown",
   "metadata": {},
   "source": [
    "## Cell type and developmental stage metadata\n",
    "\n",
    "- Developmental stage: `time_zone`\n",
    "- Cell type:`cell_type`\n",
    "- Combination of cell type and developmental stage: `time_zone_cell_type`\n",
    "- Combination of cell type and developmental stage with cell subtypes (not used): `time_zone_cell_subtypes` "
   ]
  },
  {
   "cell_type": "code",
   "execution_count": null,
   "metadata": {},
   "outputs": [],
   "source": [
    "rc.integrated"
   ]
  },
  {
   "cell_type": "code",
   "execution_count": null,
   "metadata": {},
   "outputs": [],
   "source": [
    "table(rc.integrated$genotype, rc.integrated$sample)"
   ]
  },
  {
   "cell_type": "code",
   "execution_count": null,
   "metadata": {},
   "outputs": [],
   "source": [
    "# subset the samples sc_43-sc_50 from the BR time course \n",
    "\n",
    "rc.integrated <- subset(rc.integrated, \n",
    "                        subset = sample %in% c(\"sc_122\",\n",
    "                                              \"sc_123\",\n",
    "                                              \"sc_124\",\n",
    "                                              \"sc_125\",\n",
    "                                              \"sc_126\",\n",
    "                                              \"sc_127\",\n",
    "                                              \"sc_128\",\n",
    "                                              \"sc_129\"))"
   ]
  },
  {
   "cell_type": "code",
   "execution_count": null,
   "metadata": {},
   "outputs": [],
   "source": [
    "rc.integrated$genotype <- factor(rc.integrated$genotype, \n",
    "                                 levels=c(\"WT\", \n",
    "                                          \"gtl1\", \n",
    "                                          \"df1\", \n",
    "                                          \"gtl1_df1\"))"
   ]
  },
  {
   "cell_type": "code",
   "execution_count": null,
   "metadata": {},
   "outputs": [],
   "source": [
    "rc.integrated"
   ]
  },
  {
   "cell_type": "code",
   "execution_count": null,
   "metadata": {},
   "outputs": [],
   "source": [
    "options(repr.plot.width=20, repr.plot.height=7)\n",
    "\n",
    "# Plot celltype annotation Li\n",
    "order <- c(\"Quiescent Center\", \"Ground Tissue\",\"Columella\", \"Lateral Root Cap\", \"Atrichoblast\", \"Trichoblast\", \"Cortex\", \"Endodermis\", \"Phloem\",\"Protophloem\", \"Xylem\", \"Procambium\",\"Pericycle\",\"Phloem Pole Pericycle\", \"Protoxylem\", \"Metaxylem\", \"Unknown\")\n",
    "palette <- c(\"#9400D3\", \"#DCD0FF\",\"#5AB953\", \"#BFEF45\", \"#008080\", \"#21B6A8\", \"#82B6FF\", \"#0000FF\",\"#E6194B\", \"#DD77EC\", \"#9A6324\", \"#FFE119\", \"#FF9900\", \"#FFD4E3\", \"#9A6324\", \"#DDAA6F\", \"#EEEEEE\")\n",
    "rc.integrated$cell_type <- factor(rc.integrated$cell_type, levels = order[sort(match(unique(rc.integrated$cell_type),order))])\n",
    "color <- palette[sort(match(unique(rc.integrated$cell_type),order))]\n",
    "\n",
    "\n",
    "\n",
    "\n",
    "(cell <- DimPlot(rc.integrated, reduction = \"umap\", group.by = \"cell_type\", cols = color, split.by = 'genotype', pt.size = 2, ncol=6, raster = T) + \n",
    "                        theme(plot.margin = margin(0.5,0.5,0.5,0.5, \"cm\")) + \n",
    "                         ggtitle(\"\") +\n",
    "                         theme_void(base_size = 25) &\n",
    "                            theme(plot.title = element_text(hjust = 0.5)) +\n",
    "theme(strip.text = NULL))"
   ]
  },
  {
   "cell_type": "code",
   "execution_count": null,
   "metadata": {},
   "outputs": [],
   "source": [
    "options(repr.plot.width=20, repr.plot.height=7)\n",
    "(time <-DimPlot(rc.integrated, \n",
    "        group.by = \"time_zone\", \n",
    "order = c(\"Distal Columella\",\"Proximal Columella\",\"Distal Lateral Root Cap\",\"Proximal Lateral Root Cap\",\"Maturation\",\"Elongation\", \"Transition Domain\", \"Proliferation Domain\"),\n",
    "        cols = c('#F7E7B0','#FFC400','#2B871F','#005E3B', \"#deebf7\", \"#3182bd\", '#fee0d2','#de2d26'),\n",
    "        split.by = 'genotype', \n",
    "        pt.size = 2,\n",
    "        ncol=6, \n",
    "        raster = T) +  theme(plot.margin = margin(0.5,0.5,0.5,0.5, \"cm\")) + \n",
    "                         ggtitle(\"\") +\n",
    "                         theme_void(base_size = 25) &\n",
    "                            theme(plot.title = element_text(hjust = 0.5))+ theme(strip.text = element_text(size=0)))"
   ]
  },
  {
   "cell_type": "code",
   "execution_count": null,
   "metadata": {},
   "outputs": [],
   "source": [
    "options(repr.plot.width=20, repr.plot.height=10)\n",
    "\n",
    "cell/time \n",
    "\n",
    "# send to BR figs repo \n",
    "\n",
    "ggsave(\"./output/gtl1df1_umaps.pdf\", width=20, height=10)"
   ]
  }
 ],
 "metadata": {
  "kernelspec": {
   "display_name": "R",
   "language": "R",
   "name": "ir"
  },
  "language_info": {
   "codemirror_mode": "r",
   "file_extension": ".r",
   "mimetype": "text/x-r-source",
   "name": "R",
   "pygments_lexer": "r",
   "version": "4.0.0"
  }
 },
 "nbformat": 4,
 "nbformat_minor": 4
}
