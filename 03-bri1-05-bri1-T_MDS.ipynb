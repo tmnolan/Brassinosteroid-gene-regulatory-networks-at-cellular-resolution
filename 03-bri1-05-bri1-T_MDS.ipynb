{
 "cells": [
  {
   "cell_type": "markdown",
   "metadata": {},
   "source": [
    "# MDS plots of WT, bri1-T and pGL2-BRI1-GFP/bri1-T for cortex and atrichoblasts"
   ]
  },
  {
   "cell_type": "code",
   "execution_count": 1,
   "metadata": {},
   "outputs": [
    {
     "name": "stderr",
     "output_type": "stream",
     "text": [
      "── \u001b[1mAttaching packages\u001b[22m ─────────────────────────────────────── tidyverse 1.3.0 ──\n",
      "\n",
      "\u001b[32m✔\u001b[39m \u001b[34mggplot2\u001b[39m 3.3.5     \u001b[32m✔\u001b[39m \u001b[34mpurrr  \u001b[39m 0.3.4\n",
      "\u001b[32m✔\u001b[39m \u001b[34mtibble \u001b[39m 3.1.5     \u001b[32m✔\u001b[39m \u001b[34mdplyr  \u001b[39m 1.0.7\n",
      "\u001b[32m✔\u001b[39m \u001b[34mtidyr  \u001b[39m 1.1.4     \u001b[32m✔\u001b[39m \u001b[34mstringr\u001b[39m 1.4.0\n",
      "\u001b[32m✔\u001b[39m \u001b[34mreadr  \u001b[39m 1.4.0     \u001b[32m✔\u001b[39m \u001b[34mforcats\u001b[39m 0.5.0\n",
      "\n",
      "── \u001b[1mConflicts\u001b[22m ────────────────────────────────────────── tidyverse_conflicts() ──\n",
      "\u001b[31m✖\u001b[39m \u001b[34mdplyr\u001b[39m::\u001b[32mfilter()\u001b[39m masks \u001b[34mstats\u001b[39m::filter()\n",
      "\u001b[31m✖\u001b[39m \u001b[34mdplyr\u001b[39m::\u001b[32mlag()\u001b[39m    masks \u001b[34mstats\u001b[39m::lag()\n",
      "\n",
      "Registered S3 method overwritten by 'spatstat.geom':\n",
      "  method     from\n",
      "  print.boxx cli \n",
      "\n",
      "Attaching SeuratObject\n",
      "\n",
      "Loading required package: grid\n",
      "\n",
      "========================================\n",
      "ComplexHeatmap version 2.11.1\n",
      "Bioconductor page: http://bioconductor.org/packages/ComplexHeatmap/\n",
      "Github page: https://github.com/jokergoo/ComplexHeatmap\n",
      "Documentation: http://jokergoo.github.io/ComplexHeatmap-reference\n",
      "\n",
      "If you use it in published research, please cite:\n",
      "Gu, Z. Complex heatmaps reveal patterns and correlations in multidimensional \n",
      "  genomic data. Bioinformatics 2016.\n",
      "\n",
      "The new InteractiveComplexHeatmap package can directly export static \n",
      "complex heatmaps into an interactive Shiny app with zero effort. Have a try!\n",
      "\n",
      "This message can be suppressed by:\n",
      "  suppressPackageStartupMessages(library(ComplexHeatmap))\n",
      "========================================\n",
      "\n",
      "\n",
      "========================================\n",
      "circlize version 0.4.14\n",
      "CRAN page: https://cran.r-project.org/package=circlize\n",
      "Github page: https://github.com/jokergoo/circlize\n",
      "Documentation: https://jokergoo.github.io/circlize_book/book/\n",
      "\n",
      "If you use it in published research, please cite:\n",
      "Gu, Z. circlize implements and enhances circular visualization\n",
      "  in R. Bioinformatics 2014.\n",
      "\n",
      "This message can be suppressed by:\n",
      "  suppressPackageStartupMessages(library(circlize))\n",
      "========================================\n",
      "\n",
      "\n",
      "Warning message in checkMatrixPackageVersion():\n",
      "“Package version inconsistency detected.\n",
      "TMB was built with Matrix version 1.2.18\n",
      "Current Matrix version is 1.3.4\n",
      "Please re-install 'TMB' from source using install.packages('TMB', type = 'source') or ask CRAN for a binary version of 'TMB' matching CRAN's 'Matrix' package”\n",
      "Loading required package: SingleCellExperiment\n",
      "\n",
      "Loading required package: SummarizedExperiment\n",
      "\n",
      "Loading required package: MatrixGenerics\n",
      "\n",
      "Loading required package: matrixStats\n",
      "\n",
      "\n",
      "Attaching package: ‘matrixStats’\n",
      "\n",
      "\n",
      "The following object is masked from ‘package:dplyr’:\n",
      "\n",
      "    count\n",
      "\n",
      "\n",
      "\n",
      "Attaching package: ‘MatrixGenerics’\n",
      "\n",
      "\n",
      "The following objects are masked from ‘package:matrixStats’:\n",
      "\n",
      "    colAlls, colAnyNAs, colAnys, colAvgsPerRowSet, colCollapse,\n",
      "    colCounts, colCummaxs, colCummins, colCumprods, colCumsums,\n",
      "    colDiffs, colIQRDiffs, colIQRs, colLogSumExps, colMadDiffs,\n",
      "    colMads, colMaxs, colMeans2, colMedians, colMins, colOrderStats,\n",
      "    colProds, colQuantiles, colRanges, colRanks, colSdDiffs, colSds,\n",
      "    colSums2, colTabulates, colVarDiffs, colVars, colWeightedMads,\n",
      "    colWeightedMeans, colWeightedMedians, colWeightedSds,\n",
      "    colWeightedVars, rowAlls, rowAnyNAs, rowAnys, rowAvgsPerColSet,\n",
      "    rowCollapse, rowCounts, rowCummaxs, rowCummins, rowCumprods,\n",
      "    rowCumsums, rowDiffs, rowIQRDiffs, rowIQRs, rowLogSumExps,\n",
      "    rowMadDiffs, rowMads, rowMaxs, rowMeans2, rowMedians, rowMins,\n",
      "    rowOrderStats, rowProds, rowQuantiles, rowRanges, rowRanks,\n",
      "    rowSdDiffs, rowSds, rowSums2, rowTabulates, rowVarDiffs, rowVars,\n",
      "    rowWeightedMads, rowWeightedMeans, rowWeightedMedians,\n",
      "    rowWeightedSds, rowWeightedVars\n",
      "\n",
      "\n",
      "Loading required package: GenomicRanges\n",
      "\n",
      "Loading required package: stats4\n",
      "\n",
      "Loading required package: BiocGenerics\n",
      "\n",
      "Loading required package: parallel\n",
      "\n",
      "\n",
      "Attaching package: ‘BiocGenerics’\n",
      "\n",
      "\n",
      "The following objects are masked from ‘package:parallel’:\n",
      "\n",
      "    clusterApply, clusterApplyLB, clusterCall, clusterEvalQ,\n",
      "    clusterExport, clusterMap, parApply, parCapply, parLapply,\n",
      "    parLapplyLB, parRapply, parSapply, parSapplyLB\n",
      "\n",
      "\n",
      "The following object is masked from ‘package:limma’:\n",
      "\n",
      "    plotMA\n",
      "\n",
      "\n",
      "The following objects are masked from ‘package:dplyr’:\n",
      "\n",
      "    combine, intersect, setdiff, union\n",
      "\n",
      "\n",
      "The following objects are masked from ‘package:stats’:\n",
      "\n",
      "    IQR, mad, sd, var, xtabs\n",
      "\n",
      "\n",
      "The following objects are masked from ‘package:base’:\n",
      "\n",
      "    anyDuplicated, append, as.data.frame, basename, cbind, colnames,\n",
      "    dirname, do.call, duplicated, eval, evalq, Filter, Find, get, grep,\n",
      "    grepl, intersect, is.unsorted, lapply, Map, mapply, match, mget,\n",
      "    order, paste, pmax, pmax.int, pmin, pmin.int, Position, rank,\n",
      "    rbind, Reduce, rownames, sapply, setdiff, sort, table, tapply,\n",
      "    union, unique, unsplit, which.max, which.min\n",
      "\n",
      "\n",
      "Loading required package: S4Vectors\n",
      "\n",
      "\n",
      "Attaching package: ‘S4Vectors’\n",
      "\n",
      "\n",
      "The following objects are masked from ‘package:dplyr’:\n",
      "\n",
      "    first, rename\n",
      "\n",
      "\n",
      "The following object is masked from ‘package:tidyr’:\n",
      "\n",
      "    expand\n",
      "\n",
      "\n",
      "The following object is masked from ‘package:base’:\n",
      "\n",
      "    expand.grid\n",
      "\n",
      "\n",
      "Loading required package: IRanges\n",
      "\n",
      "\n",
      "Attaching package: ‘IRanges’\n",
      "\n",
      "\n",
      "The following objects are masked from ‘package:dplyr’:\n",
      "\n",
      "    collapse, desc, slice\n",
      "\n",
      "\n",
      "The following object is masked from ‘package:purrr’:\n",
      "\n",
      "    reduce\n",
      "\n",
      "\n",
      "Loading required package: GenomeInfoDb\n",
      "\n",
      "Loading required package: Biobase\n",
      "\n",
      "Welcome to Bioconductor\n",
      "\n",
      "    Vignettes contain introductory material; view with\n",
      "    'browseVignettes()'. To cite Bioconductor, see\n",
      "    'citation(\"Biobase\")', and for packages 'citation(\"pkgname\")'.\n",
      "\n",
      "\n",
      "\n",
      "Attaching package: ‘Biobase’\n",
      "\n",
      "\n",
      "The following object is masked from ‘package:MatrixGenerics’:\n",
      "\n",
      "    rowMedians\n",
      "\n",
      "\n",
      "The following objects are masked from ‘package:matrixStats’:\n",
      "\n",
      "    anyMissing, rowMedians\n",
      "\n",
      "\n",
      "\n",
      "Attaching package: ‘SummarizedExperiment’\n",
      "\n",
      "\n",
      "The following object is masked from ‘package:SeuratObject’:\n",
      "\n",
      "    Assays\n",
      "\n",
      "\n",
      "The following object is masked from ‘package:Seurat’:\n",
      "\n",
      "    Assays\n",
      "\n",
      "\n",
      "\n",
      "Attaching package: ‘future’\n",
      "\n",
      "\n",
      "The following object is masked from ‘package:SummarizedExperiment’:\n",
      "\n",
      "    values\n",
      "\n",
      "\n",
      "The following object is masked from ‘package:GenomicRanges’:\n",
      "\n",
      "    values\n",
      "\n",
      "\n",
      "The following object is masked from ‘package:IRanges’:\n",
      "\n",
      "    values\n",
      "\n",
      "\n",
      "The following object is masked from ‘package:S4Vectors’:\n",
      "\n",
      "    values\n",
      "\n",
      "\n"
     ]
    }
   ],
   "source": [
    "library(tidyverse)\n",
    "library(Seurat)\n",
    "library(cowplot)\n",
    "library(ComplexHeatmap)\n",
    "library(circlize)\n",
    "library(GeneOverlap)\n",
    "library(gprofiler2)\n",
    "library(ggrepel)\n",
    "library(muscat)\n",
    "library(purrr)\n",
    "library(limma)\n",
    "library(scran)\n",
    "library(future)"
   ]
  },
  {
   "cell_type": "code",
   "execution_count": null,
   "metadata": {},
   "outputs": [],
   "source": [
    "sessionInfo()"
   ]
  },
  {
   "cell_type": "code",
   "execution_count": 2,
   "metadata": {},
   "outputs": [],
   "source": [
    "#for 200gb ram \n",
    "options(future.globals.maxSize = 200000 * 1024^2)"
   ]
  },
  {
   "cell_type": "code",
   "execution_count": 3,
   "metadata": {},
   "outputs": [],
   "source": [
    "rc.integrated <- readRDS(\"../data/integrations/rc.integrated_15S_BRZ_bri1_Li_seu3_clean.rds\")"
   ]
  },
  {
   "cell_type": "code",
   "execution_count": 250,
   "metadata": {},
   "outputs": [],
   "source": [
    "integrated.de <- subset(rc.integrated, subset = cell_type %in% c(\"Cortex\"))"
   ]
  },
  {
   "cell_type": "code",
   "execution_count": 251,
   "metadata": {},
   "outputs": [
    {
     "data": {
      "text/plain": [
       "An object of class Seurat \n",
       "71252 features across 4391 samples within 3 assays \n",
       "Active assay: integrated (17338 features, 17338 variable features)\n",
       " 2 other assays present: RNA, SCT\n",
       " 4 dimensional reductions calculated: pca, umap, umap_3D, umap_2D"
      ]
     },
     "metadata": {},
     "output_type": "display_data"
    }
   ],
   "source": [
    "integrated.de"
   ]
  },
  {
   "cell_type": "markdown",
   "metadata": {},
   "source": [
    "## Convert to sce"
   ]
  },
  {
   "cell_type": "code",
   "execution_count": 254,
   "metadata": {},
   "outputs": [],
   "source": [
    "#  construct sce manually\n",
    "my_metadata <- data.frame(sample_id = integrated.de$sample,\n",
    "                              group_id = integrated.de$treatment,\n",
    "                              cluster_id = integrated.de$cell_type, \n",
    "                             date=integrated.de$rep) # include experimental rep as co-variate\n",
    "\n",
    "sce <- SingleCellExperiment(assays = list(counts = integrated.de@assays$RNA@counts),\n",
    "\t                            colData = my_metadata)\n",
    "\n",
    "(sce <- prepSCE(sce, \n",
    "        kid = \"cluster_id\", # subpopulation assignments\n",
    "        gid = \"group_id\",   # group IDs (ctrl/stim)\n",
    "        sid = \"sample_id\",    # sample IDs (ctrl/stim.1234)\n",
    "        drop = FALSE))        # drop all other colData columns"
   ]
  },
  {
   "cell_type": "markdown",
   "metadata": {},
   "source": [
    "## pre-filtering"
   ]
  },
  {
   "cell_type": "code",
   "execution_count": 262,
   "metadata": {},
   "outputs": [
    {
     "data": {
      "text/html": [
       "<style>\n",
       ".list-inline {list-style: none; margin:0; padding: 0}\n",
       ".list-inline>li {display: inline-block}\n",
       ".list-inline>li:not(:last-child)::after {content: \"\\00b7\"; padding: 0 .5ex}\n",
       "</style>\n",
       "<ol class=list-inline><li>24353</li><li>4391</li></ol>\n"
      ],
      "text/latex": [
       "\\begin{enumerate*}\n",
       "\\item 24353\n",
       "\\item 4391\n",
       "\\end{enumerate*}\n"
      ],
      "text/markdown": [
       "1. 24353\n",
       "2. 4391\n",
       "\n",
       "\n"
      ],
      "text/plain": [
       "[1] 24353  4391"
      ]
     },
     "metadata": {},
     "output_type": "display_data"
    }
   ],
   "source": [
    "# remove undetected genes\n",
    "sce <- sce[rowSums(counts(sce) > 0) > 0, ]\n",
    "dim(sce)"
   ]
  },
  {
   "cell_type": "code",
   "execution_count": 263,
   "metadata": {},
   "outputs": [
    {
     "data": {
      "text/html": [
       "<style>\n",
       ".list-inline {list-style: none; margin:0; padding: 0}\n",
       ".list-inline>li {display: inline-block}\n",
       ".list-inline>li:not(:last-child)::after {content: \"\\00b7\"; padding: 0 .5ex}\n",
       "</style>\n",
       "<ol class=list-inline><li>20013</li><li>4391</li></ol>\n"
      ],
      "text/latex": [
       "\\begin{enumerate*}\n",
       "\\item 20013\n",
       "\\item 4391\n",
       "\\end{enumerate*}\n"
      ],
      "text/markdown": [
       "1. 20013\n",
       "2. 4391\n",
       "\n",
       "\n"
      ],
      "text/plain": [
       "[1] 20013  4391"
      ]
     },
     "metadata": {},
     "output_type": "display_data"
    }
   ],
   "source": [
    "# remove lowly expressed genes\n",
    "sce <- sce[rowSums(counts(sce) > 1) >= 1, ]\n",
    "dim(sce)"
   ]
  },
  {
   "cell_type": "code",
   "execution_count": 266,
   "metadata": {},
   "outputs": [
    {
     "data": {
      "text/html": [
       "'Cortex'"
      ],
      "text/latex": [
       "'Cortex'"
      ],
      "text/markdown": [
       "'Cortex'"
      ],
      "text/plain": [
       "[1] \"Cortex\""
      ]
     },
     "metadata": {},
     "output_type": "display_data"
    }
   ],
   "source": [
    "pb <- aggregateData(sce,\n",
    "    assay = \"counts\", fun = \"sum\",\n",
    "    by = c(\"cluster_id\", \"sample_id\"))\n",
    "# one sheet per subpopulation\n",
    "assayNames(pb)"
   ]
  },
  {
   "cell_type": "code",
   "execution_count": 270,
   "metadata": {},
   "outputs": [
    {
     "data": {
      "image/png": "[encoded data removed]",
      "text/plain": [
       "plot without title"
      ]
     },
     "metadata": {
      "image/png": {
       "height": 360,
       "width": 360
      }
     },
     "output_type": "display_data"
    }
   ],
   "source": [
    "options(repr.plot.width=6, repr.plot.height=6)\n",
    "(cortex_mds <- pbMDS(pb))"
   ]
  },
  {
   "cell_type": "code",
   "execution_count": 291,
   "metadata": {},
   "outputs": [
    {
     "name": "stderr",
     "output_type": "stream",
     "text": [
      "Scale for 'colour' is already present. Adding another scale for 'colour',\n",
      "which will replace the existing scale.\n",
      "\n"
     ]
    },
    {
     "data": {
      "image/png": "[encoded data removed]",
      "text/plain": [
       "plot without title"
      ]
     },
     "metadata": {
      "image/png": {
       "height": 360,
       "width": 360
      }
     },
     "output_type": "display_data"
    }
   ],
   "source": [
    "# use very distinctive shaping of groups & change cluster colors\n",
    "cortex_mds_mod <- cortex_mds + \n",
    "  scale_shape_manual(values = c(16, 4,7)) +\n",
    "  scale_color_manual(values = \"#82B6FF\")\n",
    "# change point size & alpha\n",
    "cortex_mds_mod$layers[[1]]$aes_params$size <- 5\n",
    "cortex_mds_mod$layers[[1]]$aes_params$alpha <- 0.6\n",
    "cortex_mds_mod"
   ]
  },
  {
   "cell_type": "code",
   "execution_count": 271,
   "metadata": {},
   "outputs": [],
   "source": [
    "integrated.de <- subset(rc.integrated, subset = cell_type %in% c(\"Atrichoblast\"))"
   ]
  },
  {
   "cell_type": "markdown",
   "metadata": {},
   "source": [
    "## Convert to sce"
   ]
  },
  {
   "cell_type": "code",
   "execution_count": 275,
   "metadata": {},
   "outputs": [],
   "source": [
    "#  construct sce manually\n",
    "my_metadata <- data.frame(sample_id = integrated.de$sample,\n",
    "                              group_id = integrated.de$treatment,\n",
    "                              cluster_id = integrated.de$cell_type, \n",
    "                             date=integrated.de$rep) # include experimental rep as co-variate\n",
    "\n",
    "sce <- SingleCellExperiment(assays = list(counts = integrated.de@assays$RNA@counts),\n",
    "\t                            colData = my_metadata)\n",
    "\n",
    "(sce <- prepSCE(sce, \n",
    "        kid = \"cluster_id\", # subpopulation assignments\n",
    "        gid = \"group_id\",   # group IDs (ctrl/stim)\n",
    "        sid = \"sample_id\",    # sample IDs (ctrl/stim.1234)\n",
    "        drop = FALSE))        # drop all other colData columns"
   ]
  },
  {
   "cell_type": "markdown",
   "metadata": {},
   "source": [
    "## pre-filtering"
   ]
  },
  {
   "cell_type": "code",
   "execution_count": 283,
   "metadata": {},
   "outputs": [
    {
     "data": {
      "text/html": [
       "<style>\n",
       ".list-inline {list-style: none; margin:0; padding: 0}\n",
       ".list-inline>li {display: inline-block}\n",
       ".list-inline>li:not(:last-child)::after {content: \"\\00b7\"; padding: 0 .5ex}\n",
       "</style>\n",
       "<ol class=list-inline><li>24786</li><li>6340</li></ol>\n"
      ],
      "text/latex": [
       "\\begin{enumerate*}\n",
       "\\item 24786\n",
       "\\item 6340\n",
       "\\end{enumerate*}\n"
      ],
      "text/markdown": [
       "1. 24786\n",
       "2. 6340\n",
       "\n",
       "\n"
      ],
      "text/plain": [
       "[1] 24786  6340"
      ]
     },
     "metadata": {},
     "output_type": "display_data"
    }
   ],
   "source": [
    "# remove undetected genes\n",
    "sce <- sce[rowSums(counts(sce) > 0) > 0, ]\n",
    "dim(sce)"
   ]
  },
  {
   "cell_type": "code",
   "execution_count": 284,
   "metadata": {},
   "outputs": [
    {
     "data": {
      "text/html": [
       "<style>\n",
       ".list-inline {list-style: none; margin:0; padding: 0}\n",
       ".list-inline>li {display: inline-block}\n",
       ".list-inline>li:not(:last-child)::after {content: \"\\00b7\"; padding: 0 .5ex}\n",
       "</style>\n",
       "<ol class=list-inline><li>20468</li><li>6340</li></ol>\n"
      ],
      "text/latex": [
       "\\begin{enumerate*}\n",
       "\\item 20468\n",
       "\\item 6340\n",
       "\\end{enumerate*}\n"
      ],
      "text/markdown": [
       "1. 20468\n",
       "2. 6340\n",
       "\n",
       "\n"
      ],
      "text/plain": [
       "[1] 20468  6340"
      ]
     },
     "metadata": {},
     "output_type": "display_data"
    }
   ],
   "source": [
    "# remove lowly expressed genes\n",
    "sce <- sce[rowSums(counts(sce) > 1) >= 1, ]\n",
    "dim(sce)"
   ]
  },
  {
   "cell_type": "code",
   "execution_count": 285,
   "metadata": {},
   "outputs": [],
   "source": [
    "nk <- length(kids <- levels(sce$cluster_id))\n",
    "ns <- length(sids <- levels(sce$sample_id))\n",
    "names(kids) <- kids; names(sids) <- sids"
   ]
  },
  {
   "cell_type": "code",
   "execution_count": 286,
   "metadata": {},
   "outputs": [
    {
     "data": {
      "text/plain": [
       "        \n",
       "         Quiescent Center Columella Lateral Root Cap Atrichoblast Trichoblast\n",
       "  sc_130                0         0                0         1446           0\n",
       "  sc_131                0         0                0         1441           0\n",
       "  sc_133                0         0                0          930           0\n",
       "  sc_134                0         0                0         1172           0\n",
       "  sc_135                0         0                0         1039           0\n",
       "  sc_137                0         0                0          312           0\n",
       "        \n",
       "         Cortex Endodermis Phloem Xylem Procambium Pericycle\n",
       "  sc_130      0          0      0     0          0         0\n",
       "  sc_131      0          0      0     0          0         0\n",
       "  sc_133      0          0      0     0          0         0\n",
       "  sc_134      0          0      0     0          0         0\n",
       "  sc_135      0          0      0     0          0         0\n",
       "  sc_137      0          0      0     0          0         0"
      ]
     },
     "metadata": {},
     "output_type": "display_data"
    }
   ],
   "source": [
    "# nb. of cells per cluster-sample\n",
    "t(table(sce$cluster_id, sce$sample_id))"
   ]
  },
  {
   "cell_type": "code",
   "execution_count": 287,
   "metadata": {},
   "outputs": [
    {
     "data": {
      "text/html": [
       "'Atrichoblast'"
      ],
      "text/latex": [
       "'Atrichoblast'"
      ],
      "text/markdown": [
       "'Atrichoblast'"
      ],
      "text/plain": [
       "[1] \"Atrichoblast\""
      ]
     },
     "metadata": {},
     "output_type": "display_data"
    }
   ],
   "source": [
    "pb <- aggregateData(sce,\n",
    "    assay = \"counts\", fun = \"sum\",\n",
    "    by = c(\"cluster_id\", \"sample_id\"))\n",
    "# one sheet per subpopulation\n",
    "assayNames(pb)"
   ]
  },
  {
   "cell_type": "code",
   "execution_count": 288,
   "metadata": {},
   "outputs": [
    {
     "data": {
      "text/html": [
       "<table>\n",
       "<caption>A matrix: 6 × 6 of type dbl</caption>\n",
       "<thead>\n",
       "\t<tr><th></th><th scope=col>AT1G01010</th><th scope=col>AT1G01020</th><th scope=col>AT1G01030</th><th scope=col>AT1G01040</th><th scope=col>AT1G01050</th><th scope=col>AT1G01060</th></tr>\n",
       "</thead>\n",
       "<tbody>\n",
       "\t<tr><th scope=row>sc_130</th><td>474</td><td>440</td><td>0</td><td>32</td><td>4940</td><td> 8</td></tr>\n",
       "\t<tr><th scope=row>sc_131</th><td>242</td><td>640</td><td>2</td><td>51</td><td>7599</td><td>29</td></tr>\n",
       "\t<tr><th scope=row>sc_133</th><td>215</td><td>442</td><td>9</td><td>47</td><td>4691</td><td>19</td></tr>\n",
       "\t<tr><th scope=row>sc_134</th><td>445</td><td>374</td><td>7</td><td>36</td><td>4134</td><td>15</td></tr>\n",
       "\t<tr><th scope=row>sc_135</th><td>210</td><td>531</td><td>9</td><td>46</td><td>6806</td><td>32</td></tr>\n",
       "\t<tr><th scope=row>sc_137</th><td>172</td><td>269</td><td>7</td><td>23</td><td>2296</td><td>15</td></tr>\n",
       "</tbody>\n",
       "</table>\n"
      ],
      "text/latex": [
       "A matrix: 6 × 6 of type dbl\n",
       "\\begin{tabular}{r|llllll}\n",
       "  & AT1G01010 & AT1G01020 & AT1G01030 & AT1G01040 & AT1G01050 & AT1G01060\\\\\n",
       "\\hline\n",
       "\tsc\\_130 & 474 & 440 & 0 & 32 & 4940 &  8\\\\\n",
       "\tsc\\_131 & 242 & 640 & 2 & 51 & 7599 & 29\\\\\n",
       "\tsc\\_133 & 215 & 442 & 9 & 47 & 4691 & 19\\\\\n",
       "\tsc\\_134 & 445 & 374 & 7 & 36 & 4134 & 15\\\\\n",
       "\tsc\\_135 & 210 & 531 & 9 & 46 & 6806 & 32\\\\\n",
       "\tsc\\_137 & 172 & 269 & 7 & 23 & 2296 & 15\\\\\n",
       "\\end{tabular}\n"
      ],
      "text/markdown": [
       "\n",
       "A matrix: 6 × 6 of type dbl\n",
       "\n",
       "| <!--/--> | AT1G01010 | AT1G01020 | AT1G01030 | AT1G01040 | AT1G01050 | AT1G01060 |\n",
       "|---|---|---|---|---|---|---|\n",
       "| sc_130 | 474 | 440 | 0 | 32 | 4940 |  8 |\n",
       "| sc_131 | 242 | 640 | 2 | 51 | 7599 | 29 |\n",
       "| sc_133 | 215 | 442 | 9 | 47 | 4691 | 19 |\n",
       "| sc_134 | 445 | 374 | 7 | 36 | 4134 | 15 |\n",
       "| sc_135 | 210 | 531 | 9 | 46 | 6806 | 32 |\n",
       "| sc_137 | 172 | 269 | 7 | 23 | 2296 | 15 |\n",
       "\n"
      ],
      "text/plain": [
       "       AT1G01010 AT1G01020 AT1G01030 AT1G01040 AT1G01050 AT1G01060\n",
       "sc_130 474       440       0         32        4940       8       \n",
       "sc_131 242       640       2         51        7599      29       \n",
       "sc_133 215       442       9         47        4691      19       \n",
       "sc_134 445       374       7         36        4134      15       \n",
       "sc_135 210       531       9         46        6806      32       \n",
       "sc_137 172       269       7         23        2296      15       "
      ]
     },
     "metadata": {},
     "output_type": "display_data"
    }
   ],
   "source": [
    "# pseudobulks for 1st subpopulation\n",
    "t(head(assay(pb)))"
   ]
  },
  {
   "cell_type": "code",
   "execution_count": 289,
   "metadata": {},
   "outputs": [
    {
     "data": {
      "text/plain": [
       "class: SingleCellExperiment \n",
       "dim: 20468 6 \n",
       "metadata(3): experiment_info agg_pars n_cells\n",
       "assays(1): Atrichoblast\n",
       "rownames(20468): AT1G01010 AT1G01020 ... AT3G43990 ATMG09960\n",
       "rowData names(0):\n",
       "colnames(6): sc_130 sc_131 ... sc_135 sc_137\n",
       "colData names(2): group_id date\n",
       "reducedDimNames(0):\n",
       "altExpNames(0):"
      ]
     },
     "metadata": {},
     "output_type": "display_data"
    }
   ],
   "source": [
    "pb"
   ]
  },
  {
   "cell_type": "code",
   "execution_count": 290,
   "metadata": {},
   "outputs": [
    {
     "data": {
      "image/png": "[encoded data removed]",
      "text/plain": [
       "plot without title"
      ]
     },
     "metadata": {
      "image/png": {
       "height": 360,
       "width": 360
      }
     },
     "output_type": "display_data"
    }
   ],
   "source": [
    "options(repr.plot.width=6, repr.plot.height=6)\n",
    "(at_mds <- pbMDS(pb))"
   ]
  },
  {
   "cell_type": "code",
   "execution_count": 292,
   "metadata": {},
   "outputs": [
    {
     "name": "stderr",
     "output_type": "stream",
     "text": [
      "Scale for 'colour' is already present. Adding another scale for 'colour',\n",
      "which will replace the existing scale.\n",
      "\n"
     ]
    },
    {
     "data": {
      "image/png": "[encoded data removed]",
      "text/plain": [
       "plot without title"
      ]
     },
     "metadata": {
      "image/png": {
       "height": 360,
       "width": 360
      }
     },
     "output_type": "display_data"
    }
   ],
   "source": [
    "# use very distinctive shaping of groups & change cluster colors\n",
    "at_mds_mod <- at_mds + \n",
    "  scale_shape_manual(values = c(16, 4,7)) +\n",
    "  scale_color_manual(values = \"#008080\")\n",
    "# change point size & alpha\n",
    "at_mds_mod$layers[[1]]$aes_params$size <- 5\n",
    "at_mds_mod$layers[[1]]$aes_params$alpha <- 0.6\n",
    "at_mds_mod"
   ]
  },
  {
   "cell_type": "code",
   "execution_count": 296,
   "metadata": {},
   "outputs": [
    {
     "data": {
      "image/png": "[encoded data removed]",
      "text/plain": [
       "plot without title"
      ]
     },
     "metadata": {
      "image/png": {
       "height": 720,
       "width": 360
      }
     },
     "output_type": "display_data"
    }
   ],
   "source": [
    "options(repr.plot.width=6, repr.plot.height=12)\n",
    "\n",
    "cortex_mds_mod + at_mds_mod + plot_layout(ncol=1)\n",
    "\n",
    "ggsave(\"./output/bri1_T_DE/WT_bri1_GL2_cotex_atricho_MDS.pdf\", width = 6, height = 12)"
   ]
  }
 ],
 "metadata": {
  "kernelspec": {
   "display_name": "R",
   "language": "R",
   "name": "ir"
  },
  "language_info": {
   "codemirror_mode": "r",
   "file_extension": ".r",
   "mimetype": "text/x-r-source",
   "name": "R",
   "pygments_lexer": "r",
   "version": "4.0.0"
  }
 },
 "nbformat": 4,
 "nbformat_minor": 4
}
