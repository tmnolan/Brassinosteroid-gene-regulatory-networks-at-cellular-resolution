{
 "cells": [
  {
   "cell_type": "markdown",
   "metadata": {},
   "source": [
    "# MDS plots of WT, bri1-T and pGL2-BRI1-GFP/bri1-T for cortex and atrichoblasts"
   ]
  },
  {
   "cell_type": "code",
   "execution_count": 1,
   "metadata": {},
   "outputs": [
    {
     "name": "stderr",
     "output_type": "stream",
     "text": [
      "── \u001b[1mAttaching packages\u001b[22m ─────────────────────────────────────── tidyverse 1.3.0 ──\n",
      "\n",
      "\u001b[32m✔\u001b[39m \u001b[34mggplot2\u001b[39m 3.3.5     \u001b[32m✔\u001b[39m \u001b[34mpurrr  \u001b[39m 0.3.4\n",
      "\u001b[32m✔\u001b[39m \u001b[34mtibble \u001b[39m 3.1.5     \u001b[32m✔\u001b[39m \u001b[34mdplyr  \u001b[39m 1.0.7\n",
      "\u001b[32m✔\u001b[39m \u001b[34mtidyr  \u001b[39m 1.1.4     \u001b[32m✔\u001b[39m \u001b[34mstringr\u001b[39m 1.4.0\n",
      "\u001b[32m✔\u001b[39m \u001b[34mreadr  \u001b[39m 1.4.0     \u001b[32m✔\u001b[39m \u001b[34mforcats\u001b[39m 0.5.0\n",
      "\n",
      "── \u001b[1mConflicts\u001b[22m ────────────────────────────────────────── tidyverse_conflicts() ──\n",
      "\u001b[31m✖\u001b[39m \u001b[34mdplyr\u001b[39m::\u001b[32mfilter()\u001b[39m masks \u001b[34mstats\u001b[39m::filter()\n",
      "\u001b[31m✖\u001b[39m \u001b[34mdplyr\u001b[39m::\u001b[32mlag()\u001b[39m    masks \u001b[34mstats\u001b[39m::lag()\n",
      "\n",
      "Registered S3 method overwritten by 'spatstat.geom':\n",
      "  method     from\n",
      "  print.boxx cli \n",
      "\n",
      "Attaching SeuratObject\n",
      "\n",
      "Loading required package: grid\n",
      "\n",
      "========================================\n",
      "ComplexHeatmap version 2.11.1\n",
      "Bioconductor page: http://bioconductor.org/packages/ComplexHeatmap/\n",
      "Github page: https://github.com/jokergoo/ComplexHeatmap\n",
      "Documentation: http://jokergoo.github.io/ComplexHeatmap-reference\n",
      "\n",
      "If you use it in published research, please cite:\n",
      "Gu, Z. Complex heatmaps reveal patterns and correlations in multidimensional \n",
      "  genomic data. Bioinformatics 2016.\n",
      "\n",
      "The new InteractiveComplexHeatmap package can directly export static \n",
      "complex heatmaps into an interactive Shiny app with zero effort. Have a try!\n",
      "\n",
      "This message can be suppressed by:\n",
      "  suppressPackageStartupMessages(library(ComplexHeatmap))\n",
      "========================================\n",
      "\n",
      "\n",
      "========================================\n",
      "circlize version 0.4.14\n",
      "CRAN page: https://cran.r-project.org/package=circlize\n",
      "Github page: https://github.com/jokergoo/circlize\n",
      "Documentation: https://jokergoo.github.io/circlize_book/book/\n",
      "\n",
      "If you use it in published research, please cite:\n",
      "Gu, Z. circlize implements and enhances circular visualization\n",
      "  in R. Bioinformatics 2014.\n",
      "\n",
      "This message can be suppressed by:\n",
      "  suppressPackageStartupMessages(library(circlize))\n",
      "========================================\n",
      "\n",
      "\n",
      "Warning message in checkMatrixPackageVersion():\n",
      "“Package version inconsistency detected.\n",
      "TMB was built with Matrix version 1.2.18\n",
      "Current Matrix version is 1.3.4\n",
      "Please re-install 'TMB' from source using install.packages('TMB', type = 'source') or ask CRAN for a binary version of 'TMB' matching CRAN's 'Matrix' package”\n",
      "Loading required package: SingleCellExperiment\n",
      "\n",
      "Loading required package: SummarizedExperiment\n",
      "\n",
      "Loading required package: MatrixGenerics\n",
      "\n",
      "Loading required package: matrixStats\n",
      "\n",
      "\n",
      "Attaching package: ‘matrixStats’\n",
      "\n",
      "\n",
      "The following object is masked from ‘package:dplyr’:\n",
      "\n",
      "    count\n",
      "\n",
      "\n",
      "\n",
      "Attaching package: ‘MatrixGenerics’\n",
      "\n",
      "\n",
      "The following objects are masked from ‘package:matrixStats’:\n",
      "\n",
      "    colAlls, colAnyNAs, colAnys, colAvgsPerRowSet, colCollapse,\n",
      "    colCounts, colCummaxs, colCummins, colCumprods, colCumsums,\n",
      "    colDiffs, colIQRDiffs, colIQRs, colLogSumExps, colMadDiffs,\n",
      "    colMads, colMaxs, colMeans2, colMedians, colMins, colOrderStats,\n",
      "    colProds, colQuantiles, colRanges, colRanks, colSdDiffs, colSds,\n",
      "    colSums2, colTabulates, colVarDiffs, colVars, colWeightedMads,\n",
      "    colWeightedMeans, colWeightedMedians, colWeightedSds,\n",
      "    colWeightedVars, rowAlls, rowAnyNAs, rowAnys, rowAvgsPerColSet,\n",
      "    rowCollapse, rowCounts, rowCummaxs, rowCummins, rowCumprods,\n",
      "    rowCumsums, rowDiffs, rowIQRDiffs, rowIQRs, rowLogSumExps,\n",
      "    rowMadDiffs, rowMads, rowMaxs, rowMeans2, rowMedians, rowMins,\n",
      "    rowOrderStats, rowProds, rowQuantiles, rowRanges, rowRanks,\n",
      "    rowSdDiffs, rowSds, rowSums2, rowTabulates, rowVarDiffs, rowVars,\n",
      "    rowWeightedMads, rowWeightedMeans, rowWeightedMedians,\n",
      "    rowWeightedSds, rowWeightedVars\n",
      "\n",
      "\n",
      "Loading required package: GenomicRanges\n",
      "\n",
      "Loading required package: stats4\n",
      "\n",
      "Loading required package: BiocGenerics\n",
      "\n",
      "Loading required package: parallel\n",
      "\n",
      "\n",
      "Attaching package: ‘BiocGenerics’\n",
      "\n",
      "\n",
      "The following objects are masked from ‘package:parallel’:\n",
      "\n",
      "    clusterApply, clusterApplyLB, clusterCall, clusterEvalQ,\n",
      "    clusterExport, clusterMap, parApply, parCapply, parLapply,\n",
      "    parLapplyLB, parRapply, parSapply, parSapplyLB\n",
      "\n",
      "\n",
      "The following object is masked from ‘package:limma’:\n",
      "\n",
      "    plotMA\n",
      "\n",
      "\n",
      "The following objects are masked from ‘package:dplyr’:\n",
      "\n",
      "    combine, intersect, setdiff, union\n",
      "\n",
      "\n",
      "The following objects are masked from ‘package:stats’:\n",
      "\n",
      "    IQR, mad, sd, var, xtabs\n",
      "\n",
      "\n",
      "The following objects are masked from ‘package:base’:\n",
      "\n",
      "    anyDuplicated, append, as.data.frame, basename, cbind, colnames,\n",
      "    dirname, do.call, duplicated, eval, evalq, Filter, Find, get, grep,\n",
      "    grepl, intersect, is.unsorted, lapply, Map, mapply, match, mget,\n",
      "    order, paste, pmax, pmax.int, pmin, pmin.int, Position, rank,\n",
      "    rbind, Reduce, rownames, sapply, setdiff, sort, table, tapply,\n",
      "    union, unique, unsplit, which.max, which.min\n",
      "\n",
      "\n",
      "Loading required package: S4Vectors\n",
      "\n",
      "\n",
      "Attaching package: ‘S4Vectors’\n",
      "\n",
      "\n",
      "The following objects are masked from ‘package:dplyr’:\n",
      "\n",
      "    first, rename\n",
      "\n",
      "\n",
      "The following object is masked from ‘package:tidyr’:\n",
      "\n",
      "    expand\n",
      "\n",
      "\n",
      "The following object is masked from ‘package:base’:\n",
      "\n",
      "    expand.grid\n",
      "\n",
      "\n",
      "Loading required package: IRanges\n",
      "\n",
      "\n",
      "Attaching package: ‘IRanges’\n",
      "\n",
      "\n",
      "The following objects are masked from ‘package:dplyr’:\n",
      "\n",
      "    collapse, desc, slice\n",
      "\n",
      "\n",
      "The following object is masked from ‘package:purrr’:\n",
      "\n",
      "    reduce\n",
      "\n",
      "\n",
      "Loading required package: GenomeInfoDb\n",
      "\n",
      "Loading required package: Biobase\n",
      "\n",
      "Welcome to Bioconductor\n",
      "\n",
      "    Vignettes contain introductory material; view with\n",
      "    'browseVignettes()'. To cite Bioconductor, see\n",
      "    'citation(\"Biobase\")', and for packages 'citation(\"pkgname\")'.\n",
      "\n",
      "\n",
      "\n",
      "Attaching package: ‘Biobase’\n",
      "\n",
      "\n",
      "The following object is masked from ‘package:MatrixGenerics’:\n",
      "\n",
      "    rowMedians\n",
      "\n",
      "\n",
      "The following objects are masked from ‘package:matrixStats’:\n",
      "\n",
      "    anyMissing, rowMedians\n",
      "\n",
      "\n",
      "\n",
      "Attaching package: ‘SummarizedExperiment’\n",
      "\n",
      "\n",
      "The following object is masked from ‘package:SeuratObject’:\n",
      "\n",
      "    Assays\n",
      "\n",
      "\n",
      "The following object is masked from ‘package:Seurat’:\n",
      "\n",
      "    Assays\n",
      "\n",
      "\n",
      "\n",
      "Attaching package: ‘future’\n",
      "\n",
      "\n",
      "The following object is masked from ‘package:SummarizedExperiment’:\n",
      "\n",
      "    values\n",
      "\n",
      "\n",
      "The following object is masked from ‘package:GenomicRanges’:\n",
      "\n",
      "    values\n",
      "\n",
      "\n",
      "The following object is masked from ‘package:IRanges’:\n",
      "\n",
      "    values\n",
      "\n",
      "\n",
      "The following object is masked from ‘package:S4Vectors’:\n",
      "\n",
      "    values\n",
      "\n",
      "\n",
      "\n",
      "Attaching package: ‘patchwork’\n",
      "\n",
      "\n",
      "The following object is masked from ‘package:cowplot’:\n",
      "\n",
      "    align_plots\n",
      "\n",
      "\n"
     ]
    }
   ],
   "source": [
    "library(tidyverse)\n",
    "library(Seurat)\n",
    "library(cowplot)\n",
    "library(ComplexHeatmap)\n",
    "library(circlize)\n",
    "library(GeneOverlap)\n",
    "library(gprofiler2)\n",
    "library(ggrepel)\n",
    "library(muscat)\n",
    "library(purrr)\n",
    "library(limma)\n",
    "library(scran)\n",
    "library(future)\n",
    "library(patchwork)"
   ]
  },
  {
   "cell_type": "code",
   "execution_count": 2,
   "metadata": {},
   "outputs": [
    {
     "data": {
      "text/plain": [
       "R version 4.0.0 (2020-04-24)\n",
       "Platform: x86_64-conda_cos6-linux-gnu (64-bit)\n",
       "Running under: Ubuntu 16.04.6 LTS\n",
       "\n",
       "Matrix products: default\n",
       "BLAS/LAPACK: /home/tmnolan7/anaconda3/envs/r_4/lib/libopenblasp-r0.3.9.so\n",
       "\n",
       "locale:\n",
       " [1] LC_CTYPE=en_US.UTF-8       LC_NUMERIC=C              \n",
       " [3] LC_TIME=en_US.UTF-8        LC_COLLATE=en_US.UTF-8    \n",
       " [5] LC_MONETARY=en_US.UTF-8    LC_MESSAGES=en_US.UTF-8   \n",
       " [7] LC_PAPER=en_US.UTF-8       LC_NAME=C                 \n",
       " [9] LC_ADDRESS=C               LC_TELEPHONE=C            \n",
       "[11] LC_MEASUREMENT=en_US.UTF-8 LC_IDENTIFICATION=C       \n",
       "\n",
       "attached base packages:\n",
       " [1] parallel  stats4    grid      stats     graphics  grDevices utils    \n",
       " [8] datasets  methods   base     \n",
       "\n",
       "other attached packages:\n",
       " [1] patchwork_1.1.0             future_1.22.1              \n",
       " [3] scran_1.16.0                SingleCellExperiment_1.12.0\n",
       " [5] SummarizedExperiment_1.20.0 Biobase_2.50.0             \n",
       " [7] GenomicRanges_1.42.0        GenomeInfoDb_1.26.7        \n",
       " [9] IRanges_2.24.1              S4Vectors_0.28.1           \n",
       "[11] BiocGenerics_0.36.1         MatrixGenerics_1.2.1       \n",
       "[13] matrixStats_0.61.0          limma_3.44.3               \n",
       "[15] muscat_1.2.1                ggrepel_0.8.2              \n",
       "[17] gprofiler2_0.2.0            GeneOverlap_1.24.0         \n",
       "[19] circlize_0.4.14             ComplexHeatmap_2.11.1      \n",
       "[21] cowplot_1.1.0               SeuratObject_4.0.2         \n",
       "[23] Seurat_4.0.5                forcats_0.5.0              \n",
       "[25] stringr_1.4.0               dplyr_1.0.7                \n",
       "[27] purrr_0.3.4                 readr_1.4.0                \n",
       "[29] tidyr_1.1.4                 tibble_3.1.5               \n",
       "[31] ggplot2_3.3.5               tidyverse_1.3.0            \n",
       "\n",
       "loaded via a namespace (and not attached):\n",
       "  [1] utf8_1.2.2                reticulate_1.18          \n",
       "  [3] lme4_1.1-25               tidyselect_1.1.1         \n",
       "  [5] RSQLite_2.2.1             AnnotationDbi_1.50.3     \n",
       "  [7] htmlwidgets_1.5.2         BiocParallel_1.24.1      \n",
       "  [9] Rtsne_0.15                munsell_0.5.0            \n",
       " [11] codetools_0.2-18          ica_1.0-2                \n",
       " [13] statmod_1.4.35            pbdZMQ_0.3-3.1           \n",
       " [15] miniUI_0.1.1.1            withr_2.4.2              \n",
       " [17] colorspace_2.0-3          uuid_0.1-4               \n",
       " [19] rstudioapi_0.11           ROCR_1.0-11              \n",
       " [21] tensor_1.5                listenv_0.8.0            \n",
       " [23] repr_1.1.0                GenomeInfoDbData_1.2.4   \n",
       " [25] polyclip_1.10-0           bit64_4.0.5              \n",
       " [27] glmmTMB_1.0.2.1           parallelly_1.28.1        \n",
       " [29] vctrs_0.3.8               generics_0.1.0           \n",
       " [31] R6_2.5.1                  doParallel_1.0.17        \n",
       " [33] ggbeeswarm_0.6.0          clue_0.3-60              \n",
       " [35] rsvd_1.0.3                locfit_1.5-9.4           \n",
       " [37] bitops_1.0-7              spatstat.utils_2.2-0     \n",
       " [39] DelayedArray_0.16.3       assertthat_0.2.1         \n",
       " [41] promises_1.1.1            scales_1.1.1             \n",
       " [43] beeswarm_0.2.3            gtable_0.3.0             \n",
       " [45] globals_0.14.0            goftest_1.2-3            \n",
       " [47] rlang_0.4.12              genefilter_1.70.0        \n",
       " [49] GlobalOptions_0.1.2       splines_4.0.0            \n",
       " [51] TMB_1.7.18                lazyeval_0.2.2           \n",
       " [53] spatstat.geom_2.3-0       broom_0.7.2              \n",
       " [55] reshape2_1.4.4            abind_1.4-5              \n",
       " [57] modelr_0.1.8              backports_1.2.0          \n",
       " [59] httpuv_1.5.4              tools_4.0.0              \n",
       " [61] ellipsis_0.3.2            gplots_3.1.0             \n",
       " [63] spatstat.core_2.3-0       RColorBrewer_1.1-2       \n",
       " [65] ggridges_0.5.2            Rcpp_1.0.7               \n",
       " [67] plyr_1.8.6                progress_1.2.2           \n",
       " [69] base64enc_0.1-3           zlibbioc_1.36.0          \n",
       " [71] RCurl_1.98-1.5            prettyunits_1.1.1        \n",
       " [73] rpart_4.1-15              deldir_1.0-5             \n",
       " [75] viridis_0.5.1             pbapply_1.5-0            \n",
       " [77] GetoptLong_1.0.5          zoo_1.8-8                \n",
       " [79] haven_2.3.1               cluster_2.1.0            \n",
       " [81] colorRamps_2.3            fs_1.5.0                 \n",
       " [83] variancePartition_1.18.3  magrittr_2.0.1           \n",
       " [85] data.table_1.14.2         scattermore_0.7          \n",
       " [87] lmerTest_3.1-3            lmtest_0.9-38            \n",
       " [89] reprex_0.3.0              RANN_2.6.1               \n",
       " [91] fitdistrplus_1.1-1        hms_0.5.3                \n",
       " [93] mime_0.9                  evaluate_0.14            \n",
       " [95] xtable_1.8-4              pbkrtest_0.4-8.6         \n",
       " [97] XML_3.99-0.5              readxl_1.3.1             \n",
       " [99] gridExtra_2.3             shape_1.4.6              \n",
       "[101] scater_1.16.2             compiler_4.0.0           \n",
       "[103] KernSmooth_2.23-18        crayon_1.5.0             \n",
       "[105] minqa_1.2.4               htmltools_0.5.0          \n",
       "[107] mgcv_1.8-33               later_1.1.0.1            \n",
       "[109] geneplotter_1.66.0        lubridate_1.8.0          \n",
       "[111] DBI_1.1.0                 dbplyr_2.0.0             \n",
       "[113] MASS_7.3-53               boot_1.3-25              \n",
       "[115] Matrix_1.3-4              cli_3.0.1                \n",
       "[117] igraph_1.2.7              pkgconfig_2.0.3          \n",
       "[119] numDeriv_2016.8-1.1       IRdisplay_0.7.0          \n",
       "[121] plotly_4.9.2.1            spatstat.sparse_2.0-0    \n",
       "[123] xml2_1.3.2                foreach_1.5.2            \n",
       "[125] annotate_1.66.0           vipor_0.4.5              \n",
       "[127] dqrng_0.2.1               blme_1.0-4               \n",
       "[129] XVector_0.30.0            rvest_0.3.6              \n",
       "[131] digest_0.6.29             sctransform_0.3.2        \n",
       "[133] RcppAnnoy_0.0.19          spatstat.data_2.1-0      \n",
       "[135] cellranger_1.1.0          leiden_0.3.5             \n",
       "[137] edgeR_3.30.3              uwot_0.1.10              \n",
       "[139] DelayedMatrixStats_1.10.1 shiny_1.5.0              \n",
       "[141] gtools_3.8.2              nloptr_1.2.2.2           \n",
       "[143] rjson_0.2.21              lifecycle_1.0.1          \n",
       "[145] nlme_3.1-150              jsonlite_1.7.1           \n",
       "[147] BiocNeighbors_1.6.0       viridisLite_0.4.0        \n",
       "[149] fansi_0.5.0               pillar_1.6.4             \n",
       "[151] lattice_0.20-41           fastmap_1.0.1            \n",
       "[153] httr_1.4.2                survival_3.2-7           \n",
       "[155] glue_1.4.2                png_0.1-7                \n",
       "[157] iterators_1.0.14          bit_4.0.4                \n",
       "[159] stringi_1.4.6             blob_1.2.1               \n",
       "[161] BiocSingular_1.4.0        DESeq2_1.28.1            \n",
       "[163] memoise_1.1.0             caTools_1.18.0           \n",
       "[165] IRkernel_1.1.1            irlba_2.3.3              \n",
       "[167] future.apply_1.8.1       "
      ]
     },
     "metadata": {},
     "output_type": "display_data"
    }
   ],
   "source": [
    "sessionInfo()"
   ]
  },
  {
   "cell_type": "code",
   "execution_count": 3,
   "metadata": {},
   "outputs": [],
   "source": [
    "#for 200gb ram \n",
    "options(future.globals.maxSize = 200000 * 1024^2)"
   ]
  },
  {
   "cell_type": "code",
   "execution_count": 4,
   "metadata": {},
   "outputs": [],
   "source": [
    "rc.integrated <- readRDS(\"../data/integrations/rc.integrated_15S_BRZ_bri1_Li_seu3_clean.rds\")"
   ]
  },
  {
   "cell_type": "code",
   "execution_count": 5,
   "metadata": {},
   "outputs": [],
   "source": [
    "integrated.de <- subset(rc.integrated, subset = sample %in% c(\"sc_130\", \"sc_131\",\"sc_133\", \"sc_134\", \"sc_135\",\"sc_137\"))\n",
    "integrated.de <- subset(integrated.de, subset = cell_type %in% c(\"Cortex\"))"
   ]
  },
  {
   "cell_type": "code",
   "execution_count": 6,
   "metadata": {},
   "outputs": [
    {
     "data": {
      "text/plain": [
       "An object of class Seurat \n",
       "71252 features across 4391 samples within 3 assays \n",
       "Active assay: integrated (17338 features, 17338 variable features)\n",
       " 2 other assays present: RNA, SCT\n",
       " 4 dimensional reductions calculated: pca, umap, umap_3D, umap_2D"
      ]
     },
     "metadata": {},
     "output_type": "display_data"
    }
   ],
   "source": [
    "integrated.de"
   ]
  },
  {
   "cell_type": "markdown",
   "metadata": {},
   "source": [
    "## Convert to sce"
   ]
  },
  {
   "cell_type": "code",
   "execution_count": 7,
   "metadata": {},
   "outputs": [
    {
     "data": {
      "text/plain": [
       "class: SingleCellExperiment \n",
       "dim: 29347 4391 \n",
       "metadata(1): experiment_info\n",
       "assays(1): counts\n",
       "rownames(29347): AT1G01010 AT1G01020 ... AT5G53640 AT5G60260\n",
       "rowData names(0):\n",
       "colnames(4391): AAACCCAGTCTGGTTA_8 AAACGCTGTGAGATCG_8 ...\n",
       "  TTTAGTCCACTCAAGT_15 TTTCCTCAGCCGCACT_15\n",
       "colData names(4): cluster_id sample_id group_id date\n",
       "reducedDimNames(0):\n",
       "altExpNames(0):"
      ]
     },
     "metadata": {},
     "output_type": "display_data"
    }
   ],
   "source": [
    "#  construct sce manually\n",
    "my_metadata <- data.frame(sample_id = integrated.de$sample,\n",
    "                              group_id = integrated.de$genotype,\n",
    "                              cluster_id = integrated.de$cell_type, \n",
    "                             date=integrated.de$rep) # include experimental rep as co-variate\n",
    "\n",
    "sce <- SingleCellExperiment(assays = list(counts = integrated.de@assays$RNA@counts),\n",
    "\t                            colData = my_metadata)\n",
    "\n",
    "(sce <- prepSCE(sce, \n",
    "        kid = \"cluster_id\", # subpopulation assignments\n",
    "        gid = \"group_id\",   # group IDs (ctrl/stim)\n",
    "        sid = \"sample_id\",    # sample IDs (ctrl/stim.1234)\n",
    "        drop = FALSE))        # drop all other colData columns"
   ]
  },
  {
   "cell_type": "markdown",
   "metadata": {},
   "source": [
    "## pre-filtering"
   ]
  },
  {
   "cell_type": "code",
   "execution_count": 8,
   "metadata": {},
   "outputs": [
    {
     "data": {
      "text/html": [
       "<style>\n",
       ".list-inline {list-style: none; margin:0; padding: 0}\n",
       ".list-inline>li {display: inline-block}\n",
       ".list-inline>li:not(:last-child)::after {content: \"\\00b7\"; padding: 0 .5ex}\n",
       "</style>\n",
       "<ol class=list-inline><li>24353</li><li>4391</li></ol>\n"
      ],
      "text/latex": [
       "\\begin{enumerate*}\n",
       "\\item 24353\n",
       "\\item 4391\n",
       "\\end{enumerate*}\n"
      ],
      "text/markdown": [
       "1. 24353\n",
       "2. 4391\n",
       "\n",
       "\n"
      ],
      "text/plain": [
       "[1] 24353  4391"
      ]
     },
     "metadata": {},
     "output_type": "display_data"
    }
   ],
   "source": [
    "# remove undetected genes\n",
    "sce <- sce[rowSums(counts(sce) > 0) > 0, ]\n",
    "dim(sce)"
   ]
  },
  {
   "cell_type": "code",
   "execution_count": 9,
   "metadata": {},
   "outputs": [
    {
     "data": {
      "text/html": [
       "<style>\n",
       ".list-inline {list-style: none; margin:0; padding: 0}\n",
       ".list-inline>li {display: inline-block}\n",
       ".list-inline>li:not(:last-child)::after {content: \"\\00b7\"; padding: 0 .5ex}\n",
       "</style>\n",
       "<ol class=list-inline><li>20013</li><li>4391</li></ol>\n"
      ],
      "text/latex": [
       "\\begin{enumerate*}\n",
       "\\item 20013\n",
       "\\item 4391\n",
       "\\end{enumerate*}\n"
      ],
      "text/markdown": [
       "1. 20013\n",
       "2. 4391\n",
       "\n",
       "\n"
      ],
      "text/plain": [
       "[1] 20013  4391"
      ]
     },
     "metadata": {},
     "output_type": "display_data"
    }
   ],
   "source": [
    "# remove lowly expressed genes\n",
    "sce <- sce[rowSums(counts(sce) > 1) >= 1, ]\n",
    "dim(sce)"
   ]
  },
  {
   "cell_type": "code",
   "execution_count": 10,
   "metadata": {},
   "outputs": [
    {
     "data": {
      "text/html": [
       "'Cortex'"
      ],
      "text/latex": [
       "'Cortex'"
      ],
      "text/markdown": [
       "'Cortex'"
      ],
      "text/plain": [
       "[1] \"Cortex\""
      ]
     },
     "metadata": {},
     "output_type": "display_data"
    }
   ],
   "source": [
    "pb <- aggregateData(sce,\n",
    "    assay = \"counts\", fun = \"sum\",\n",
    "    by = c(\"cluster_id\", \"sample_id\"))\n",
    "# one sheet per subpopulation\n",
    "assayNames(pb)"
   ]
  },
  {
   "cell_type": "code",
   "execution_count": 11,
   "metadata": {},
   "outputs": [
    {
     "data": {
      "image/png": "[encoded data removed]",
      "text/plain": [
       "plot without title"
      ]
     },
     "metadata": {
      "image/png": {
       "height": 360,
       "width": 360
      }
     },
     "output_type": "display_data"
    }
   ],
   "source": [
    "options(repr.plot.width=6, repr.plot.height=6)\n",
    "(cortex_mds <- pbMDS(pb))"
   ]
  },
  {
   "cell_type": "code",
   "execution_count": 12,
   "metadata": {},
   "outputs": [
    {
     "name": "stderr",
     "output_type": "stream",
     "text": [
      "Scale for 'colour' is already present. Adding another scale for 'colour',\n",
      "which will replace the existing scale.\n",
      "\n"
     ]
    },
    {
     "data": {
      "image/png": "[encoded data removed]",
      "text/plain": [
       "plot without title"
      ]
     },
     "metadata": {
      "image/png": {
       "height": 360,
       "width": 360
      }
     },
     "output_type": "display_data"
    }
   ],
   "source": [
    "# use very distinctive shaping of groups & change cluster colors\n",
    "cortex_mds_mod <- cortex_mds + \n",
    "  scale_shape_manual(values = c(16, 4,7)) +\n",
    "  scale_color_manual(values = \"#82B6FF\")\n",
    "# change point size & alpha\n",
    "cortex_mds_mod$layers[[1]]$aes_params$size <- 5\n",
    "cortex_mds_mod$layers[[1]]$aes_params$alpha <- 0.6\n",
    "cortex_mds_mod"
   ]
  },
  {
   "cell_type": "code",
   "execution_count": 13,
   "metadata": {},
   "outputs": [],
   "source": [
    "integrated.de <- subset(rc.integrated, subset = sample %in% c(\"sc_130\", \"sc_131\",\"sc_133\", \"sc_134\", \"sc_135\",\"sc_137\"))\n",
    "integrated.de <- subset(integrated.de, subset = cell_type %in% c(\"Atrichoblast\"))"
   ]
  },
  {
   "cell_type": "code",
   "execution_count": 14,
   "metadata": {},
   "outputs": [
    {
     "data": {
      "text/plain": [
       "                      \n",
       "                       sc_130 sc_131 sc_133 sc_134 sc_135 sc_137\n",
       "  bri1_T                    0   1441      0      0   1039      0\n",
       "  pGL2_BRI1_GFP_bri1_T      0      0    930      0      0    312\n",
       "  WT                     1446      0      0   1172      0      0"
      ]
     },
     "metadata": {},
     "output_type": "display_data"
    }
   ],
   "source": [
    "table(integrated.de$genotype, integrated.de$sample)"
   ]
  },
  {
   "cell_type": "markdown",
   "metadata": {},
   "source": [
    "## Convert to sce"
   ]
  },
  {
   "cell_type": "code",
   "execution_count": 15,
   "metadata": {},
   "outputs": [
    {
     "data": {
      "text/plain": [
       "class: SingleCellExperiment \n",
       "dim: 29347 6340 \n",
       "metadata(1): experiment_info\n",
       "assays(1): counts\n",
       "rownames(29347): AT1G01010 AT1G01020 ... AT5G53640 AT5G60260\n",
       "rowData names(0):\n",
       "colnames(6340): AAACCCACAACAGCCC_8 AAACCCACAGCTGTCG_8 ...\n",
       "  TTTCCTCAGACGTCCC_15 TTTGGAGGTGGACCAA_15\n",
       "colData names(4): cluster_id sample_id group_id date\n",
       "reducedDimNames(0):\n",
       "altExpNames(0):"
      ]
     },
     "metadata": {},
     "output_type": "display_data"
    }
   ],
   "source": [
    "#  construct sce manually\n",
    "my_metadata <- data.frame(sample_id = integrated.de$sample,\n",
    "                              group_id = integrated.de$genotype,\n",
    "                              cluster_id = integrated.de$cell_type, \n",
    "                             date=integrated.de$rep) # include experimental rep as co-variate\n",
    "\n",
    "sce <- SingleCellExperiment(assays = list(counts = integrated.de@assays$RNA@counts),\n",
    "\t                            colData = my_metadata)\n",
    "\n",
    "(sce <- prepSCE(sce, \n",
    "        kid = \"cluster_id\", # subpopulation assignments\n",
    "        gid = \"group_id\",   # group IDs (ctrl/stim)\n",
    "        sid = \"sample_id\",    # sample IDs (ctrl/stim.1234)\n",
    "        drop = FALSE))        # drop all other colData columns"
   ]
  },
  {
   "cell_type": "markdown",
   "metadata": {},
   "source": [
    "## pre-filtering"
   ]
  },
  {
   "cell_type": "code",
   "execution_count": 16,
   "metadata": {},
   "outputs": [
    {
     "data": {
      "text/html": [
       "<style>\n",
       ".list-inline {list-style: none; margin:0; padding: 0}\n",
       ".list-inline>li {display: inline-block}\n",
       ".list-inline>li:not(:last-child)::after {content: \"\\00b7\"; padding: 0 .5ex}\n",
       "</style>\n",
       "<ol class=list-inline><li>24786</li><li>6340</li></ol>\n"
      ],
      "text/latex": [
       "\\begin{enumerate*}\n",
       "\\item 24786\n",
       "\\item 6340\n",
       "\\end{enumerate*}\n"
      ],
      "text/markdown": [
       "1. 24786\n",
       "2. 6340\n",
       "\n",
       "\n"
      ],
      "text/plain": [
       "[1] 24786  6340"
      ]
     },
     "metadata": {},
     "output_type": "display_data"
    }
   ],
   "source": [
    "# remove undetected genes\n",
    "sce <- sce[rowSums(counts(sce) > 0) > 0, ]\n",
    "dim(sce)"
   ]
  },
  {
   "cell_type": "code",
   "execution_count": 17,
   "metadata": {},
   "outputs": [
    {
     "data": {
      "text/html": [
       "<style>\n",
       ".list-inline {list-style: none; margin:0; padding: 0}\n",
       ".list-inline>li {display: inline-block}\n",
       ".list-inline>li:not(:last-child)::after {content: \"\\00b7\"; padding: 0 .5ex}\n",
       "</style>\n",
       "<ol class=list-inline><li>20468</li><li>6340</li></ol>\n"
      ],
      "text/latex": [
       "\\begin{enumerate*}\n",
       "\\item 20468\n",
       "\\item 6340\n",
       "\\end{enumerate*}\n"
      ],
      "text/markdown": [
       "1. 20468\n",
       "2. 6340\n",
       "\n",
       "\n"
      ],
      "text/plain": [
       "[1] 20468  6340"
      ]
     },
     "metadata": {},
     "output_type": "display_data"
    }
   ],
   "source": [
    "# remove lowly expressed genes\n",
    "sce <- sce[rowSums(counts(sce) > 1) >= 1, ]\n",
    "dim(sce)"
   ]
  },
  {
   "cell_type": "code",
   "execution_count": 18,
   "metadata": {},
   "outputs": [],
   "source": [
    "nk <- length(kids <- levels(sce$cluster_id))\n",
    "ns <- length(sids <- levels(sce$sample_id))\n",
    "names(kids) <- kids; names(sids) <- sids"
   ]
  },
  {
   "cell_type": "code",
   "execution_count": 19,
   "metadata": {},
   "outputs": [
    {
     "data": {
      "text/plain": [
       "        \n",
       "         Quiescent Center Columella Lateral Root Cap Atrichoblast Trichoblast\n",
       "  sc_130                0         0                0         1446           0\n",
       "  sc_131                0         0                0         1441           0\n",
       "  sc_133                0         0                0          930           0\n",
       "  sc_134                0         0                0         1172           0\n",
       "  sc_135                0         0                0         1039           0\n",
       "  sc_137                0         0                0          312           0\n",
       "        \n",
       "         Cortex Endodermis Phloem Xylem Procambium Pericycle\n",
       "  sc_130      0          0      0     0          0         0\n",
       "  sc_131      0          0      0     0          0         0\n",
       "  sc_133      0          0      0     0          0         0\n",
       "  sc_134      0          0      0     0          0         0\n",
       "  sc_135      0          0      0     0          0         0\n",
       "  sc_137      0          0      0     0          0         0"
      ]
     },
     "metadata": {},
     "output_type": "display_data"
    }
   ],
   "source": [
    "# nb. of cells per cluster-sample\n",
    "t(table(sce$cluster_id, sce$sample_id))"
   ]
  },
  {
   "cell_type": "code",
   "execution_count": 20,
   "metadata": {},
   "outputs": [
    {
     "data": {
      "text/html": [
       "'Atrichoblast'"
      ],
      "text/latex": [
       "'Atrichoblast'"
      ],
      "text/markdown": [
       "'Atrichoblast'"
      ],
      "text/plain": [
       "[1] \"Atrichoblast\""
      ]
     },
     "metadata": {},
     "output_type": "display_data"
    }
   ],
   "source": [
    "pb <- aggregateData(sce,\n",
    "    assay = \"counts\", fun = \"sum\",\n",
    "    by = c(\"cluster_id\", \"sample_id\"))\n",
    "# one sheet per subpopulation\n",
    "assayNames(pb)"
   ]
  },
  {
   "cell_type": "code",
   "execution_count": 21,
   "metadata": {},
   "outputs": [
    {
     "data": {
      "text/html": [
       "<table>\n",
       "<caption>A matrix: 6 × 6 of type dbl</caption>\n",
       "<thead>\n",
       "\t<tr><th></th><th scope=col>AT1G01010</th><th scope=col>AT1G01020</th><th scope=col>AT1G01030</th><th scope=col>AT1G01040</th><th scope=col>AT1G01050</th><th scope=col>AT1G01060</th></tr>\n",
       "</thead>\n",
       "<tbody>\n",
       "\t<tr><th scope=row>sc_130</th><td>474</td><td>440</td><td>0</td><td>32</td><td>4940</td><td> 8</td></tr>\n",
       "\t<tr><th scope=row>sc_131</th><td>242</td><td>640</td><td>2</td><td>51</td><td>7599</td><td>29</td></tr>\n",
       "\t<tr><th scope=row>sc_133</th><td>215</td><td>442</td><td>9</td><td>47</td><td>4691</td><td>19</td></tr>\n",
       "\t<tr><th scope=row>sc_134</th><td>445</td><td>374</td><td>7</td><td>36</td><td>4134</td><td>15</td></tr>\n",
       "\t<tr><th scope=row>sc_135</th><td>210</td><td>531</td><td>9</td><td>46</td><td>6806</td><td>32</td></tr>\n",
       "\t<tr><th scope=row>sc_137</th><td>172</td><td>269</td><td>7</td><td>23</td><td>2296</td><td>15</td></tr>\n",
       "</tbody>\n",
       "</table>\n"
      ],
      "text/latex": [
       "A matrix: 6 × 6 of type dbl\n",
       "\\begin{tabular}{r|llllll}\n",
       "  & AT1G01010 & AT1G01020 & AT1G01030 & AT1G01040 & AT1G01050 & AT1G01060\\\\\n",
       "\\hline\n",
       "\tsc\\_130 & 474 & 440 & 0 & 32 & 4940 &  8\\\\\n",
       "\tsc\\_131 & 242 & 640 & 2 & 51 & 7599 & 29\\\\\n",
       "\tsc\\_133 & 215 & 442 & 9 & 47 & 4691 & 19\\\\\n",
       "\tsc\\_134 & 445 & 374 & 7 & 36 & 4134 & 15\\\\\n",
       "\tsc\\_135 & 210 & 531 & 9 & 46 & 6806 & 32\\\\\n",
       "\tsc\\_137 & 172 & 269 & 7 & 23 & 2296 & 15\\\\\n",
       "\\end{tabular}\n"
      ],
      "text/markdown": [
       "\n",
       "A matrix: 6 × 6 of type dbl\n",
       "\n",
       "| <!--/--> | AT1G01010 | AT1G01020 | AT1G01030 | AT1G01040 | AT1G01050 | AT1G01060 |\n",
       "|---|---|---|---|---|---|---|\n",
       "| sc_130 | 474 | 440 | 0 | 32 | 4940 |  8 |\n",
       "| sc_131 | 242 | 640 | 2 | 51 | 7599 | 29 |\n",
       "| sc_133 | 215 | 442 | 9 | 47 | 4691 | 19 |\n",
       "| sc_134 | 445 | 374 | 7 | 36 | 4134 | 15 |\n",
       "| sc_135 | 210 | 531 | 9 | 46 | 6806 | 32 |\n",
       "| sc_137 | 172 | 269 | 7 | 23 | 2296 | 15 |\n",
       "\n"
      ],
      "text/plain": [
       "       AT1G01010 AT1G01020 AT1G01030 AT1G01040 AT1G01050 AT1G01060\n",
       "sc_130 474       440       0         32        4940       8       \n",
       "sc_131 242       640       2         51        7599      29       \n",
       "sc_133 215       442       9         47        4691      19       \n",
       "sc_134 445       374       7         36        4134      15       \n",
       "sc_135 210       531       9         46        6806      32       \n",
       "sc_137 172       269       7         23        2296      15       "
      ]
     },
     "metadata": {},
     "output_type": "display_data"
    }
   ],
   "source": [
    "# pseudobulks for 1st subpopulation\n",
    "t(head(assay(pb)))"
   ]
  },
  {
   "cell_type": "code",
   "execution_count": 22,
   "metadata": {},
   "outputs": [
    {
     "data": {
      "text/plain": [
       "class: SingleCellExperiment \n",
       "dim: 20468 6 \n",
       "metadata(3): experiment_info agg_pars n_cells\n",
       "assays(1): Atrichoblast\n",
       "rownames(20468): AT1G01010 AT1G01020 ... AT3G43990 ATMG09960\n",
       "rowData names(0):\n",
       "colnames(6): sc_130 sc_131 ... sc_135 sc_137\n",
       "colData names(2): group_id date\n",
       "reducedDimNames(0):\n",
       "altExpNames(0):"
      ]
     },
     "metadata": {},
     "output_type": "display_data"
    }
   ],
   "source": [
    "pb"
   ]
  },
  {
   "cell_type": "code",
   "execution_count": 23,
   "metadata": {},
   "outputs": [
    {
     "data": {
      "image/png": "[encoded data removed]",
      "text/plain": [
       "plot without title"
      ]
     },
     "metadata": {
      "image/png": {
       "height": 360,
       "width": 360
      }
     },
     "output_type": "display_data"
    }
   ],
   "source": [
    "options(repr.plot.width=6, repr.plot.height=6)\n",
    "(at_mds <- pbMDS(pb))"
   ]
  },
  {
   "cell_type": "code",
   "execution_count": 24,
   "metadata": {},
   "outputs": [
    {
     "name": "stderr",
     "output_type": "stream",
     "text": [
      "Scale for 'colour' is already present. Adding another scale for 'colour',\n",
      "which will replace the existing scale.\n",
      "\n"
     ]
    },
    {
     "data": {
      "image/png": "[encoded data removed]",
      "text/plain": [
       "plot without title"
      ]
     },
     "metadata": {
      "image/png": {
       "height": 360,
       "width": 360
      }
     },
     "output_type": "display_data"
    }
   ],
   "source": [
    "# use very distinctive shaping of groups & change cluster colors\n",
    "at_mds_mod <- at_mds + \n",
    "  scale_shape_manual(values = c(16, 4,7)) +\n",
    "  scale_color_manual(values = \"#008080\")\n",
    "# change point size & alpha\n",
    "at_mds_mod$layers[[1]]$aes_params$size <- 5\n",
    "at_mds_mod$layers[[1]]$aes_params$alpha <- 0.6\n",
    "at_mds_mod"
   ]
  },
  {
   "cell_type": "code",
   "execution_count": 25,
   "metadata": {},
   "outputs": [
    {
     "ename": "ERROR",
     "evalue": "Error in grDevices::pdf(file = filename, ..., version = version): cannot open file './output/bri1_T_DE/WT_bri1_GL2_cotex_atricho_MDS.pdf'\n",
     "output_type": "error",
     "traceback": [
      "Error in grDevices::pdf(file = filename, ..., version = version): cannot open file './output/bri1_T_DE/WT_bri1_GL2_cotex_atricho_MDS.pdf'\nTraceback:\n",
      "1. ggsave(\"./output/bri1_T_DE/WT_bri1_GL2_cotex_atricho_MDS.pdf\", \n .     width = 6, height = 12)",
      "2. dev(filename = filename, width = dim[1], height = dim[2], bg = bg, \n .     ...)",
      "3. grDevices::pdf(file = filename, ..., version = version)"
     ]
    },
    {
     "data": {
      "image/png": "[encoded data removed]",
      "text/plain": [
       "plot without title"
      ]
     },
     "metadata": {
      "image/png": {
       "height": 720,
       "width": 360
      }
     },
     "output_type": "display_data"
    }
   ],
   "source": [
    "options(repr.plot.width=6, repr.plot.height=12)\n",
    "\n",
    "cortex_mds_mod + at_mds_mod + plot_layout(ncol=1)\n",
    "\n",
    "ggsave(\"./output/bri1_T_DE/WT_bri1_GL2_cotex_atricho_MDS.pdf\", width = 6, height = 12)"
   ]
  }
 ],
 "metadata": {
  "kernelspec": {
   "display_name": "R",
   "language": "R",
   "name": "ir"
  },
  "language_info": {
   "codemirror_mode": "r",
   "file_extension": ".r",
   "mimetype": "text/x-r-source",
   "name": "R",
   "pygments_lexer": "r",
   "version": "4.0.0"
  }
 },
 "nbformat": 4,
 "nbformat_minor": 4
}
