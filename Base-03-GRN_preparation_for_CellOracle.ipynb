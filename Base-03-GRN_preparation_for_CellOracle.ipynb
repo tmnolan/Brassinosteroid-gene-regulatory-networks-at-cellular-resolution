{
 "cells": [
  {
   "cell_type": "code",
   "execution_count": 1,
   "id": "angry-album",
   "metadata": {},
   "outputs": [],
   "source": [
    "import pandas as pd\n",
    "import numpy as np\n",
    "import matplotlib.pyplot as plt\n",
    "\n",
    "\n",
    "import seaborn as sns\n",
    "\n",
    "import os, sys, shutil, importlib, glob\n",
    "from tqdm.notebook import tqdm"
   ]
  },
  {
   "cell_type": "code",
   "execution_count": 2,
   "id": "catholic-express",
   "metadata": {},
   "outputs": [],
   "source": [
    "from celloracle import motif_analysis as ma\n",
    "from celloracle.utility import save_as_pickled_object"
   ]
  },
  {
   "cell_type": "code",
   "execution_count": 3,
   "id": "persistent-journalism",
   "metadata": {},
   "outputs": [],
   "source": [
    "%config InlineBackend.figure_format = 'retina'\n",
    "%matplotlib inline\n",
    "\n",
    "plt.rcParams['figure.figsize'] = (15,7)\n",
    "plt.rcParams[\"savefig.dpi\"] = 600"
   ]
  },
  {
   "cell_type": "code",
   "execution_count": 4,
   "id": "legitimate-course",
   "metadata": {},
   "outputs": [],
   "source": [
    "os.chdir('/fast/AG_Ohler/CheWei/Root_scATAC/cicero_output')"
   ]
  },
  {
   "cell_type": "code",
   "execution_count": 5,
   "id": "indoor-patrol",
   "metadata": {},
   "outputs": [
    {
     "name": "stdout",
     "output_type": "stream",
     "text": [
      "TAIR10 installation:  True\n"
     ]
    }
   ],
   "source": [
    "# PLEASE make sure that you are setting correct ref genome.\n",
    "ref_genome = \"TAIR10\"\n",
    "\n",
    "genome_installation = ma.is_genome_installed(ref_genome=ref_genome)\n",
    "print(ref_genome, \"installation: \", genome_installation)"
   ]
  },
  {
   "cell_type": "code",
   "execution_count": 6,
   "id": "spanish-allowance",
   "metadata": {},
   "outputs": [],
   "source": [
    "import genomepy"
   ]
  },
  {
   "cell_type": "code",
   "execution_count": 16,
   "id": "classified-laundry",
   "metadata": {},
   "outputs": [],
   "source": [
    "genomepy.install_genome(\"TAIR10\",\"Ensembl\")"
   ]
  },
  {
   "cell_type": "code",
   "execution_count": 7,
   "id": "automated-software",
   "metadata": {},
   "outputs": [
    {
     "data": {
      "text/html": [
       "<div>\n",
       "<style scoped>\n",
       "    .dataframe tbody tr th:only-of-type {\n",
       "        vertical-align: middle;\n",
       "    }\n",
       "\n",
       "    .dataframe tbody tr th {\n",
       "        vertical-align: top;\n",
       "    }\n",
       "\n",
       "    .dataframe thead th {\n",
       "        text-align: right;\n",
       "    }\n",
       "</style>\n",
       "<table border=\"1\" class=\"dataframe\">\n",
       "  <thead>\n",
       "    <tr style=\"text-align: right;\">\n",
       "      <th></th>\n",
       "      <th>peak_id</th>\n",
       "      <th>gene_short_name</th>\n",
       "    </tr>\n",
       "  </thead>\n",
       "  <tbody>\n",
       "    <tr>\n",
       "      <th>0</th>\n",
       "      <td>1_10009064_10010347</td>\n",
       "      <td>AT1G28470</td>\n",
       "    </tr>\n",
       "    <tr>\n",
       "      <th>1</th>\n",
       "      <td>1_10011402_10011934</td>\n",
       "      <td>AT1G06163</td>\n",
       "    </tr>\n",
       "    <tr>\n",
       "      <th>2</th>\n",
       "      <td>1_10012652_10016219</td>\n",
       "      <td>AT1G06163</td>\n",
       "    </tr>\n",
       "    <tr>\n",
       "      <th>3</th>\n",
       "      <td>1_10012652_10016219</td>\n",
       "      <td>AT1G28480</td>\n",
       "    </tr>\n",
       "    <tr>\n",
       "      <th>4</th>\n",
       "      <td>1_10012652_10016219</td>\n",
       "      <td>AT1G28490</td>\n",
       "    </tr>\n",
       "  </tbody>\n",
       "</table>\n",
       "</div>"
      ],
      "text/plain": [
       "               peak_id gene_short_name\n",
       "0  1_10009064_10010347       AT1G28470\n",
       "1  1_10011402_10011934       AT1G06163\n",
       "2  1_10012652_10016219       AT1G06163\n",
       "3  1_10012652_10016219       AT1G28480\n",
       "4  1_10012652_10016219       AT1G28490"
      ]
     },
     "execution_count": 7,
     "metadata": {},
     "output_type": "execute_result"
    }
   ],
   "source": [
    "# Load annotated peak data.\n",
    "peaks = pd.read_csv(\"processed_peak_file.csv\", index_col=0)\n",
    "peaks.head()"
   ]
  },
  {
   "cell_type": "code",
   "execution_count": 8,
   "id": "hearing-perry",
   "metadata": {},
   "outputs": [],
   "source": [
    "# Define function for quality check\n",
    "def decompose_chrstr(peak_str):\n",
    "    \"\"\"\n",
    "    Args:\n",
    "        peak_str (str): peak_str. e.g. 'chr1_3094484_3095479'\n",
    "\n",
    "    Returns:\n",
    "        tuple: chromosome name, start position, end position\n",
    "    \"\"\"\n",
    "\n",
    "    *chr_, start, end = peak_str.split(\"_\")\n",
    "    chr_ = \"_\".join(chr_)\n",
    "    return chr_, start, end\n",
    "\n",
    "from genomepy import Genome\n",
    "\n",
    "def check_peak_foamat(peaks_df, ref_genome):\n",
    "    \"\"\"\n",
    "    Check peak fomat.\n",
    "     (1) Check chromosome name.\n",
    "     (2) Check peak size (length) and remove sort DNAs (<5bp)\n",
    "\n",
    "    \"\"\"\n",
    "\n",
    "    df = peaks_df.copy()\n",
    "\n",
    "    n_peaks_before = df.shape[0]\n",
    "\n",
    "    # Decompose peaks and make df\n",
    "    decomposed = [decompose_chrstr(peak_str) for peak_str in df[\"peak_id\"]]\n",
    "    df_decomposed = pd.DataFrame(np.array(decomposed))\n",
    "    df_decomposed.columns = [\"chr\", \"start\", \"end\"]\n",
    "    df_decomposed[\"start\"] = df_decomposed[\"start\"].astype(np.int)\n",
    "    df_decomposed[\"end\"] = df_decomposed[\"end\"].astype(np.int)\n",
    "\n",
    "    # Load genome data\n",
    "    genome_data = Genome(ref_genome)\n",
    "    all_chr_list = list(genome_data.keys())\n",
    "\n",
    "\n",
    "    # DNA length check\n",
    "    lengths = np.abs(df_decomposed[\"end\"] - df_decomposed[\"start\"])\n",
    "\n",
    "\n",
    "    # Filter peaks with invalid chromosome name\n",
    "    n_threshold = 5\n",
    "    df = df[(lengths >= n_threshold) & df_decomposed.chr.isin(all_chr_list)]\n",
    "\n",
    "    # DNA length check\n",
    "    lengths = np.abs(df_decomposed[\"end\"] - df_decomposed[\"start\"])\n",
    "\n",
    "    # Data counting\n",
    "    n_invalid_length = len(lengths[lengths < n_threshold])\n",
    "    n_peaks_invalid_chr = n_peaks_before - df_decomposed.chr.isin(all_chr_list).sum()\n",
    "    n_peaks_after = df.shape[0]\n",
    "\n",
    "    #\n",
    "    print(\"Peaks before filtering: \", n_peaks_before)\n",
    "    print(\"Peaks with invalid chr_name: \", n_peaks_invalid_chr)\n",
    "    print(\"Peaks with invalid length: \", n_invalid_length)\n",
    "    print(\"Peaks after filtering: \", n_peaks_after)\n",
    "\n",
    "    return df"
   ]
  },
  {
   "cell_type": "code",
   "execution_count": 9,
   "id": "personalized-commitment",
   "metadata": {},
   "outputs": [
    {
     "name": "stdout",
     "output_type": "stream",
     "text": [
      "Peaks before filtering:  47596\n",
      "Peaks with invalid chr_name:  0\n",
      "Peaks with invalid length:  7\n",
      "Peaks after filtering:  47589\n"
     ]
    }
   ],
   "source": [
    "peaks = check_peak_foamat(peaks, ref_genome)"
   ]
  },
  {
   "cell_type": "code",
   "execution_count": 10,
   "id": "moderate-subject",
   "metadata": {},
   "outputs": [],
   "source": [
    "# Instantiate TFinfo object\n",
    "tfi = ma.TFinfo(peak_data_frame=peaks,\n",
    "                ref_genome=ref_genome)"
   ]
  },
  {
   "cell_type": "code",
   "execution_count": 11,
   "id": "official-floor",
   "metadata": {},
   "outputs": [
    {
     "data": {
      "text/plain": [
       "'TAIR10'"
      ]
     },
     "execution_count": 11,
     "metadata": {},
     "output_type": "execute_result"
    }
   ],
   "source": [
    "ref_genome"
   ]
  },
  {
   "cell_type": "code",
   "execution_count": 12,
   "id": "recent-operation",
   "metadata": {},
   "outputs": [
    {
     "name": "stdout",
     "output_type": "stream",
     "text": [
      "No motif data entered. Loading default motifs for your species ...\n",
      " Default motif for Arabidopsis: CisBP_ver2_Arabidopsis_thaliana.pfm. \n",
      " For more information, please see celloracle documentation. \n",
      "\n",
      "Initiating scanner... \n",
      "\n",
      "Calculating FPR-based threshold. This step may take substantial time when you load a new ref-genome. It will be done quicker on the second time. \n",
      "\n",
      "Convert peak info into DNA sequences ... \n",
      "\n",
      "Scanning motifs ... It may take several hours if you proccess many peaks. \n",
      "\n"
     ]
    },
    {
     "data": {
      "application/vnd.jupyter.widget-view+json": {
       "model_id": "b190665d3f8746b7927a615b8cbee8c4",
       "version_major": 2,
       "version_minor": 0
      },
      "text/plain": [
       "0it [00:00, ?it/s]"
      ]
     },
     "metadata": {},
     "output_type": "display_data"
    },
    {
     "name": "stdout",
     "output_type": "stream",
     "text": [
      "CPU times: user 1h 30min 39s, sys: 45.2 s, total: 1h 31min 24s\n",
      "Wall time: 1h 32min 13s\n"
     ]
    }
   ],
   "source": [
    "%%time\n",
    "# Scan motifs. !!CAUTION!! This step may take several hours if you have many peaks!\n",
    "tfi.scan(fpr=0.02,\n",
    "         motifs=None,  # If you enter None, default motifs will be loaded.\n",
    "         verbose=True)\n",
    "\n",
    "# Save tfinfo object\n",
    "tfi.to_hdf5(file_path=\"Arabidopsis.celloracle.tfinfo\")"
   ]
  },
  {
   "cell_type": "code",
   "execution_count": 13,
   "id": "deadly-adams",
   "metadata": {},
   "outputs": [
    {
     "data": {
      "text/html": [
       "<div>\n",
       "<style scoped>\n",
       "    .dataframe tbody tr th:only-of-type {\n",
       "        vertical-align: middle;\n",
       "    }\n",
       "\n",
       "    .dataframe tbody tr th {\n",
       "        vertical-align: top;\n",
       "    }\n",
       "\n",
       "    .dataframe thead th {\n",
       "        text-align: right;\n",
       "    }\n",
       "</style>\n",
       "<table border=\"1\" class=\"dataframe\">\n",
       "  <thead>\n",
       "    <tr style=\"text-align: right;\">\n",
       "      <th></th>\n",
       "      <th>seqname</th>\n",
       "      <th>motif_id</th>\n",
       "      <th>factors_direct</th>\n",
       "      <th>factors_indirect</th>\n",
       "      <th>score</th>\n",
       "      <th>pos</th>\n",
       "      <th>strand</th>\n",
       "    </tr>\n",
       "  </thead>\n",
       "  <tbody>\n",
       "    <tr>\n",
       "      <th>0</th>\n",
       "      <td>1_10009064_10010347</td>\n",
       "      <td>M00855_2.00</td>\n",
       "      <td>AT1G42990</td>\n",
       "      <td></td>\n",
       "      <td>5.412471</td>\n",
       "      <td>973</td>\n",
       "      <td>1</td>\n",
       "    </tr>\n",
       "    <tr>\n",
       "      <th>1</th>\n",
       "      <td>1_10009064_10010347</td>\n",
       "      <td>M00859_2.00</td>\n",
       "      <td>AT4G35610</td>\n",
       "      <td></td>\n",
       "      <td>7.832737</td>\n",
       "      <td>170</td>\n",
       "      <td>1</td>\n",
       "    </tr>\n",
       "    <tr>\n",
       "      <th>2</th>\n",
       "      <td>1_10009064_10010347</td>\n",
       "      <td>M00862_2.00</td>\n",
       "      <td>AT5G65590</td>\n",
       "      <td>AT2G28510, AT3G61850, AT4G21050, AT1G21340, AT...</td>\n",
       "      <td>4.937159</td>\n",
       "      <td>198</td>\n",
       "      <td>1</td>\n",
       "    </tr>\n",
       "    <tr>\n",
       "      <th>3</th>\n",
       "      <td>1_10009064_10010347</td>\n",
       "      <td>M00866_2.00</td>\n",
       "      <td>AT4G35550</td>\n",
       "      <td>AT3G18010, AT2G28610, AT1G20710, AT1G20700, AT...</td>\n",
       "      <td>9.886514</td>\n",
       "      <td>559</td>\n",
       "      <td>-1</td>\n",
       "    </tr>\n",
       "    <tr>\n",
       "      <th>4</th>\n",
       "      <td>1_10009064_10010347</td>\n",
       "      <td>M00869_2.00</td>\n",
       "      <td>AT5G62020</td>\n",
       "      <td>AT3G51910, AT1G32330, AT4G36990, AT1G67970, AT...</td>\n",
       "      <td>5.944140</td>\n",
       "      <td>25</td>\n",
       "      <td>1</td>\n",
       "    </tr>\n",
       "  </tbody>\n",
       "</table>\n",
       "</div>"
      ],
      "text/plain": [
       "               seqname     motif_id factors_direct  \\\n",
       "0  1_10009064_10010347  M00855_2.00      AT1G42990   \n",
       "1  1_10009064_10010347  M00859_2.00      AT4G35610   \n",
       "2  1_10009064_10010347  M00862_2.00      AT5G65590   \n",
       "3  1_10009064_10010347  M00866_2.00      AT4G35550   \n",
       "4  1_10009064_10010347  M00869_2.00      AT5G62020   \n",
       "\n",
       "                                    factors_indirect     score  pos  strand  \n",
       "0                                                     5.412471  973       1  \n",
       "1                                                     7.832737  170       1  \n",
       "2  AT2G28510, AT3G61850, AT4G21050, AT1G21340, AT...  4.937159  198       1  \n",
       "3  AT3G18010, AT2G28610, AT1G20710, AT1G20700, AT...  9.886514  559      -1  \n",
       "4  AT3G51910, AT1G32330, AT4G36990, AT1G67970, AT...  5.944140   25       1  "
      ]
     },
     "execution_count": 13,
     "metadata": {},
     "output_type": "execute_result"
    }
   ],
   "source": [
    "# Check motif scan results\n",
    "tfi.scanned_df.head()"
   ]
  },
  {
   "cell_type": "code",
   "execution_count": 14,
   "id": "muslim-variable",
   "metadata": {},
   "outputs": [
    {
     "name": "stdout",
     "output_type": "stream",
     "text": [
      "Filtering finished: 10879522 -> 3146247\n",
      "1. Converting scanned results into one-hot encoded dataframe.\n"
     ]
    },
    {
     "data": {
      "application/vnd.jupyter.widget-view+json": {
       "model_id": "2a0029fc63664850b255530cf2cfe9c6",
       "version_major": 2,
       "version_minor": 0
      },
      "text/plain": [
       "  0%|          | 0/17257 [00:00<?, ?it/s]"
      ]
     },
     "metadata": {},
     "output_type": "display_data"
    },
    {
     "name": "stdout",
     "output_type": "stream",
     "text": [
      "2. Converting results into dictionaries.\n"
     ]
    },
    {
     "data": {
      "application/vnd.jupyter.widget-view+json": {
       "model_id": "d3716fe76ca44a2cacfa46dc6ab288fe",
       "version_major": 2,
       "version_minor": 0
      },
      "text/plain": [
       "  0%|          | 0/27434 [00:00<?, ?it/s]"
      ]
     },
     "metadata": {},
     "output_type": "display_data"
    },
    {
     "data": {
      "application/vnd.jupyter.widget-view+json": {
       "model_id": "cdbb6c77df5543c4b0cf535786c4c205",
       "version_major": 2,
       "version_minor": 0
      },
      "text/plain": [
       "  0%|          | 0/1065 [00:00<?, ?it/s]"
      ]
     },
     "metadata": {},
     "output_type": "display_data"
    }
   ],
   "source": [
    "## Filtering Motif\n",
    "# Reset filtering\n",
    "tfi.reset_filtering()\n",
    "\n",
    "# Do filtering\n",
    "tfi.filter_motifs_by_score(threshold=10)\n",
    "\n",
    "# Do post filtering process. Convert results into several file format.\n",
    "tfi.make_TFinfo_dataframe_and_dictionary(verbose=True)"
   ]
  },
  {
   "cell_type": "code",
   "execution_count": 15,
   "id": "incoming-argument",
   "metadata": {},
   "outputs": [
    {
     "data": {
      "text/html": [
       "<div>\n",
       "<style scoped>\n",
       "    .dataframe tbody tr th:only-of-type {\n",
       "        vertical-align: middle;\n",
       "    }\n",
       "\n",
       "    .dataframe tbody tr th {\n",
       "        vertical-align: top;\n",
       "    }\n",
       "\n",
       "    .dataframe thead th {\n",
       "        text-align: right;\n",
       "    }\n",
       "</style>\n",
       "<table border=\"1\" class=\"dataframe\">\n",
       "  <thead>\n",
       "    <tr style=\"text-align: right;\">\n",
       "      <th></th>\n",
       "      <th>peak_id</th>\n",
       "      <th>gene_short_name</th>\n",
       "      <th>AT1G01010</th>\n",
       "      <th>AT1G01060</th>\n",
       "      <th>AT1G01250</th>\n",
       "      <th>AT1G01260</th>\n",
       "      <th>AT1G01520</th>\n",
       "      <th>AT1G01720</th>\n",
       "      <th>AT1G02065</th>\n",
       "      <th>AT1G02230</th>\n",
       "      <th>...</th>\n",
       "      <th>AT5G66730</th>\n",
       "      <th>AT5G66870</th>\n",
       "      <th>AT5G66940</th>\n",
       "      <th>AT5G67000</th>\n",
       "      <th>AT5G67110</th>\n",
       "      <th>AT5G67180</th>\n",
       "      <th>AT5G67190</th>\n",
       "      <th>AT5G67300</th>\n",
       "      <th>AT5G67450</th>\n",
       "      <th>AT5G67580</th>\n",
       "    </tr>\n",
       "  </thead>\n",
       "  <tbody>\n",
       "    <tr>\n",
       "      <th>0</th>\n",
       "      <td>1_10009064_10010347</td>\n",
       "      <td>AT1G28470</td>\n",
       "      <td>0.0</td>\n",
       "      <td>0.0</td>\n",
       "      <td>0.0</td>\n",
       "      <td>0.0</td>\n",
       "      <td>0.0</td>\n",
       "      <td>0.0</td>\n",
       "      <td>0.0</td>\n",
       "      <td>1.0</td>\n",
       "      <td>...</td>\n",
       "      <td>1.0</td>\n",
       "      <td>0.0</td>\n",
       "      <td>1.0</td>\n",
       "      <td>0.0</td>\n",
       "      <td>0.0</td>\n",
       "      <td>0.0</td>\n",
       "      <td>0.0</td>\n",
       "      <td>1.0</td>\n",
       "      <td>0.0</td>\n",
       "      <td>0.0</td>\n",
       "    </tr>\n",
       "    <tr>\n",
       "      <th>1</th>\n",
       "      <td>1_10011402_10011934</td>\n",
       "      <td>AT1G06163</td>\n",
       "      <td>0.0</td>\n",
       "      <td>0.0</td>\n",
       "      <td>0.0</td>\n",
       "      <td>0.0</td>\n",
       "      <td>0.0</td>\n",
       "      <td>0.0</td>\n",
       "      <td>0.0</td>\n",
       "      <td>1.0</td>\n",
       "      <td>...</td>\n",
       "      <td>0.0</td>\n",
       "      <td>0.0</td>\n",
       "      <td>0.0</td>\n",
       "      <td>0.0</td>\n",
       "      <td>0.0</td>\n",
       "      <td>0.0</td>\n",
       "      <td>0.0</td>\n",
       "      <td>0.0</td>\n",
       "      <td>0.0</td>\n",
       "      <td>0.0</td>\n",
       "    </tr>\n",
       "    <tr>\n",
       "      <th>2</th>\n",
       "      <td>1_10012652_10016219</td>\n",
       "      <td>AT1G06163</td>\n",
       "      <td>0.0</td>\n",
       "      <td>0.0</td>\n",
       "      <td>0.0</td>\n",
       "      <td>0.0</td>\n",
       "      <td>0.0</td>\n",
       "      <td>1.0</td>\n",
       "      <td>0.0</td>\n",
       "      <td>0.0</td>\n",
       "      <td>...</td>\n",
       "      <td>0.0</td>\n",
       "      <td>1.0</td>\n",
       "      <td>1.0</td>\n",
       "      <td>0.0</td>\n",
       "      <td>1.0</td>\n",
       "      <td>0.0</td>\n",
       "      <td>1.0</td>\n",
       "      <td>0.0</td>\n",
       "      <td>0.0</td>\n",
       "      <td>1.0</td>\n",
       "    </tr>\n",
       "    <tr>\n",
       "      <th>3</th>\n",
       "      <td>1_10012652_10016219</td>\n",
       "      <td>AT1G28480</td>\n",
       "      <td>0.0</td>\n",
       "      <td>0.0</td>\n",
       "      <td>0.0</td>\n",
       "      <td>0.0</td>\n",
       "      <td>0.0</td>\n",
       "      <td>1.0</td>\n",
       "      <td>0.0</td>\n",
       "      <td>0.0</td>\n",
       "      <td>...</td>\n",
       "      <td>0.0</td>\n",
       "      <td>1.0</td>\n",
       "      <td>1.0</td>\n",
       "      <td>0.0</td>\n",
       "      <td>1.0</td>\n",
       "      <td>0.0</td>\n",
       "      <td>1.0</td>\n",
       "      <td>0.0</td>\n",
       "      <td>0.0</td>\n",
       "      <td>1.0</td>\n",
       "    </tr>\n",
       "    <tr>\n",
       "      <th>4</th>\n",
       "      <td>1_10012652_10016219</td>\n",
       "      <td>AT1G28490</td>\n",
       "      <td>0.0</td>\n",
       "      <td>0.0</td>\n",
       "      <td>0.0</td>\n",
       "      <td>0.0</td>\n",
       "      <td>0.0</td>\n",
       "      <td>1.0</td>\n",
       "      <td>0.0</td>\n",
       "      <td>0.0</td>\n",
       "      <td>...</td>\n",
       "      <td>0.0</td>\n",
       "      <td>1.0</td>\n",
       "      <td>1.0</td>\n",
       "      <td>0.0</td>\n",
       "      <td>1.0</td>\n",
       "      <td>0.0</td>\n",
       "      <td>1.0</td>\n",
       "      <td>0.0</td>\n",
       "      <td>0.0</td>\n",
       "      <td>1.0</td>\n",
       "    </tr>\n",
       "  </tbody>\n",
       "</table>\n",
       "<p>5 rows × 1067 columns</p>\n",
       "</div>"
      ],
      "text/plain": [
       "               peak_id gene_short_name  AT1G01010  AT1G01060  AT1G01250  \\\n",
       "0  1_10009064_10010347       AT1G28470        0.0        0.0        0.0   \n",
       "1  1_10011402_10011934       AT1G06163        0.0        0.0        0.0   \n",
       "2  1_10012652_10016219       AT1G06163        0.0        0.0        0.0   \n",
       "3  1_10012652_10016219       AT1G28480        0.0        0.0        0.0   \n",
       "4  1_10012652_10016219       AT1G28490        0.0        0.0        0.0   \n",
       "\n",
       "   AT1G01260  AT1G01520  AT1G01720  AT1G02065  AT1G02230  ...  AT5G66730  \\\n",
       "0        0.0        0.0        0.0        0.0        1.0  ...        1.0   \n",
       "1        0.0        0.0        0.0        0.0        1.0  ...        0.0   \n",
       "2        0.0        0.0        1.0        0.0        0.0  ...        0.0   \n",
       "3        0.0        0.0        1.0        0.0        0.0  ...        0.0   \n",
       "4        0.0        0.0        1.0        0.0        0.0  ...        0.0   \n",
       "\n",
       "   AT5G66870  AT5G66940  AT5G67000  AT5G67110  AT5G67180  AT5G67190  \\\n",
       "0        0.0        1.0        0.0        0.0        0.0        0.0   \n",
       "1        0.0        0.0        0.0        0.0        0.0        0.0   \n",
       "2        1.0        1.0        0.0        1.0        0.0        1.0   \n",
       "3        1.0        1.0        0.0        1.0        0.0        1.0   \n",
       "4        1.0        1.0        0.0        1.0        0.0        1.0   \n",
       "\n",
       "   AT5G67300  AT5G67450  AT5G67580  \n",
       "0        1.0        0.0        0.0  \n",
       "1        0.0        0.0        0.0  \n",
       "2        0.0        0.0        1.0  \n",
       "3        0.0        0.0        1.0  \n",
       "4        0.0        0.0        1.0  \n",
       "\n",
       "[5 rows x 1067 columns]"
      ]
     },
     "execution_count": 15,
     "metadata": {},
     "output_type": "execute_result"
    }
   ],
   "source": [
    "df = tfi.to_dataframe()\n",
    "df.head()"
   ]
  },
  {
   "cell_type": "code",
   "execution_count": 16,
   "id": "immune-prefix",
   "metadata": {},
   "outputs": [],
   "source": [
    "# Save result as a dataframe\n",
    "df = tfi.to_dataframe()\n",
    "df.to_parquet(\"base_GRN_dataframe.parquet\")\n",
    "\n",
    "# If you want, you can save the result as a dictionary as follows.\n",
    "#td = tfi.to_dictionary(dictionary_type=\"targetgene2TFs\")\n",
    "#save_as_pickled_object(td, os.path.join(folder, \"TFinfo_targetgene2TFs.pickled\"))"
   ]
  },
  {
   "cell_type": "code",
   "execution_count": 17,
   "id": "foreign-retailer",
   "metadata": {},
   "outputs": [],
   "source": [
    "df.to_csv(\"scATAC_base_GRN.csv\")"
   ]
  }
 ],
 "metadata": {
  "kernelspec": {
   "display_name": "R",
   "language": "R",
   "name": "ir"
  },
  "language_info": {
   "codemirror_mode": "r",
   "file_extension": ".r",
   "mimetype": "text/x-r-source",
   "name": "R",
   "pygments_lexer": "r",
   "version": "4.0.3"
  }
 },
 "nbformat": 4,
 "nbformat_minor": 5
}
