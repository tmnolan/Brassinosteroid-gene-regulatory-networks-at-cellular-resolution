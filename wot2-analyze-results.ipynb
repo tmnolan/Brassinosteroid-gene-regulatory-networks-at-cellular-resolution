{
 "cells": [
  {
   "cell_type": "markdown",
   "id": "italic-participant",
   "metadata": {},
   "source": [
    "## Visualize and Interpret WOT Results"
   ]
  },
  {
   "cell_type": "code",
   "execution_count": 20,
   "id": "burning-congress",
   "metadata": {},
   "outputs": [],
   "source": [
    "import matplotlib.pyplot as plt\n",
    "import numpy as np\n",
    "import pandas as pd\n",
    "import anndata\n",
    "import scipy.stats \n",
    "import wot\n",
    "import math\n",
    "from matplotlib.lines import Line2D\n",
    "import ipywidgets as widgets"
   ]
  },
  {
   "cell_type": "code",
   "execution_count": 21,
   "id": "historic-helicopter",
   "metadata": {},
   "outputs": [],
   "source": [
    "ADATA_PATH = 'data/wot_input.h5ad'\n",
    "OUTPUT_PATH = 'output/wot/'\n",
    "COMMON_NAMES = 'data/common-names.csv'\n",
    "TF_PATH = 'data/tfs.txt'"
   ]
  },
  {
   "cell_type": "markdown",
   "id": "governing-america",
   "metadata": {},
   "source": [
    "### Setup"
   ]
  },
  {
   "cell_type": "code",
   "execution_count": 22,
   "id": "military-frame",
   "metadata": {},
   "outputs": [],
   "source": [
    "# Load the transcription factors and common gene names\n",
    "tfs = pd.read_csv(TF_PATH, header=None, index_col=0)\n",
    "tfs = list(tfs.index)\n",
    "common_names = pd.read_csv(COMMON_NAMES, index_col=0)"
   ]
  },
  {
   "cell_type": "code",
   "execution_count": 23,
   "id": "preliminary-former",
   "metadata": {},
   "outputs": [],
   "source": [
    "# Create a color dictionary for visualization\n",
    "lineages = [\"Quiescent Center\", \"Stem Cell Niche\", \"Columella\", \"Lateral Root Cap\", \"Atrichoblast\", \"Trichoblast\",\n",
    "            \"Cortex\", \"Cortex -\", \"Cortex +\", \"Endodermis\", \"Pericycle\",  \"Phloem\", \"Xylem\", \"Procambium\"]\n",
    "lineage_colors = [\"#9400d3\", 'tab:pink', \"#5ab953\", \"#bfef45\", \"#008080\", \"#21B6A8\", \n",
    "                  \"#82b6ff\", \"#82b6ff\", \"cyan\",\"#0000FF\",\"#ff9900\", \"#e6194b\", \"#9a6324\", \"#ffe119\"]\n",
    "lineage_color_dict = {}\n",
    "\n",
    "for i in range(len(lineages)):\n",
    "    lineage_color_dict[lineages[i]] = lineage_colors[i]\n",
    "    \n",
    "# Create the legend for the color dictionary\n",
    "def lineage_leg_elm(n):\n",
    "    return Line2D([0], [0], marker='o', color='w', label=lineages[n], markerfacecolor=lineage_colors[n], markersize=10)\n",
    "\n",
    "lineage_legend_elems = [lineage_leg_elm(n) for n in list(range(len(lineages)))]"
   ]
  },
  {
   "cell_type": "code",
   "execution_count": 24,
   "id": "emotional-bacteria",
   "metadata": {},
   "outputs": [],
   "source": [
    "# Create a tissue color dictionary\n",
    "tissue_color_dict = {'endodermis': '#0000FF', 'cortex': '#82b6ff', 'stele': 'tab:orange', 'columella': '#5ab953',\n",
    "                     'epidermis': '#21B6A8', 'QC': '#9400d3'}"
   ]
  },
  {
   "cell_type": "code",
   "execution_count": 25,
   "id": "certain-homework",
   "metadata": {},
   "outputs": [],
   "source": [
    "# Load the anndata and set the reference time\n",
    "adata = anndata.read_h5ad(ADATA_PATH)\n",
    "T = 2"
   ]
  },
  {
   "cell_type": "code",
   "execution_count": 26,
   "id": "devoted-practitioner",
   "metadata": {},
   "outputs": [],
   "source": [
    "# Load trajectories and fates\n",
    "type_trajectory_ds = anndata.read_h5ad(OUTPUT_PATH + 'type_trajectories_T={}.h5ad'.format(T))\n",
    "typezone_trajectory_ds = anndata.read_h5ad(OUTPUT_PATH + 'typezone_trajectories_T={}.h5ad'.format(T))\n",
    "tissue_trajectory_ds = anndata.read_h5ad(OUTPUT_PATH + 'tissue_trajectories_T={}.h5ad'.format(T))\n",
    "fate_ds = anndata.read_h5ad(OUTPUT_PATH + \"fate-adata-T={}.h5ad\".format(T))"
   ]
  },
  {
   "cell_type": "code",
   "execution_count": 27,
   "id": "spare-application",
   "metadata": {},
   "outputs": [],
   "source": [
    "# Load celltype trends\n",
    "trajectory_trend_datasets = []\n",
    "trajectory_names = []\n",
    "\n",
    "for i in range(type_trajectory_ds.shape[1]):\n",
    "    trajectory_names.append(type_trajectory_ds.var.index[i]) \n",
    "    data = anndata.read_h5ad(OUTPUT_PATH + \"trends/T={}-{}_trends.h5ad\".format(T, type_trajectory_ds.var.index[i]))\n",
    "    \n",
    "    trajectory_trend_datasets.append(data)\n",
    "    \n",
    "AT1G_indexed_names = trajectory_trend_datasets[1].var.copy()\n",
    "common_indexed_names = trajectory_trend_datasets[1].var.copy().set_index('Name')"
   ]
  },
  {
   "cell_type": "code",
   "execution_count": 28,
   "id": "virtual-phrase",
   "metadata": {},
   "outputs": [],
   "source": [
    "# Load tissue trends\n",
    "tissue_trajectory_trend_datasets = []\n",
    "tissue_trajectory_names = []\n",
    "\n",
    "for i in range(tissue_trajectory_ds.shape[1]):\n",
    "    tissue_trajectory_names.append(tissue_trajectory_ds.var.index[i]) \n",
    "    data = anndata.read_h5ad(OUTPUT_PATH + \"trends/T={}-{}_trends.h5ad\".format(T, tissue_trajectory_ds.var.index[i]))\n",
    "    \n",
    "    tissue_trajectory_trend_datasets.append(data)\n",
    "    \n",
    "AT1G_indexed_names = tissue_trajectory_trend_datasets[1].var.copy()\n",
    "common_indexed_names = tissue_trajectory_trend_datasets[1].var.copy().set_index('Name')"
   ]
  },
  {
   "cell_type": "code",
   "execution_count": 29,
   "id": "affiliated-juvenile",
   "metadata": {},
   "outputs": [],
   "source": [
    "# Load differential expression results\n",
    "diff_exp_results = {}\n",
    "diff_exp_types = list(type_trajectory_ds.var.index)\n",
    "diff_exp_types.sort()\n",
    "\n",
    "for t in diff_exp_types:\n",
    "    diff_exp_results[t] = pd.read_csv(OUTPUT_PATH + \"diff-exp/diff-exp-T={}-{}.csv\".format(T,t), index_col=0)"
   ]
  },
  {
   "cell_type": "code",
   "execution_count": 30,
   "id": "bored-exclusion",
   "metadata": {},
   "outputs": [],
   "source": [
    "# Load the list of transcription factors\n",
    "tfs = pd.read_csv(TF_PATH, header=None, index_col=0)\n",
    "tfs = list(tfs.index)"
   ]
  },
  {
   "cell_type": "markdown",
   "id": "legitimate-yugoslavia",
   "metadata": {},
   "source": [
    "### Visualize Celltype Trajectories"
   ]
  },
  {
   "cell_type": "code",
   "execution_count": 31,
   "id": "arctic-raise",
   "metadata": {
    "code_folding": [
     0
    ]
   },
   "outputs": [
    {
     "data": {
      "application/vnd.jupyter.widget-view+json": {
       "model_id": "2a7208479fbb4d38b97575fa772e3daf",
       "version_major": 2,
       "version_minor": 0
      },
      "text/plain": [
       "interactive(children=(Dropdown(description='Trajectory:', options=('Atrichoblast', 'Columella', 'Cortex', 'Cor…"
      ]
     },
     "metadata": {},
     "output_type": "display_data"
    },
    {
     "data": {
      "text/plain": [
       "<function __main__.update_trajectory_vis(name)>"
      ]
     },
     "execution_count": 31,
     "metadata": {},
     "output_type": "execute_result"
    }
   ],
   "source": [
    "# Visualize trajectories by cell type\n",
    "times = pd.unique(adata.obs['exp_time'])\n",
    "times.sort()\n",
    "\n",
    "trajectory_dropdown = widgets.Dropdown(\n",
    "    options=type_trajectory_ds.var.index,\n",
    "    description='Trajectory:'\n",
    ")\n",
    "\n",
    "def update_trajectory_vis(name):\n",
    "    ncols = 3\n",
    "    nrows = math.ceil(len(times)/ncols)\n",
    "    size = 3\n",
    "    fig = plt.figure(figsize=(ncols*size, nrows*size))\n",
    "    plt.suptitle(name, fontsize=14, fontweight='bold')\n",
    "    subplot = 1\n",
    "    for time in times:\n",
    "        data = adata.obs[adata.obs['exp_time'] == time]\n",
    "        plt.subplot(nrows, ncols, subplot)\n",
    "        subplot = subplot + 1\n",
    "        plt.axis('off')\n",
    "        plt.tight_layout()\n",
    "        plt.title(\"{} hr\".format(time))\n",
    "        plt.scatter(data['umap_x'], data['umap_y'], c='#f0f0f0',\n",
    "                       s=4, marker=',', edgecolors='none', alpha=0.8)\n",
    "        trajectory_ds_filtered = type_trajectory_ds[type_trajectory_ds.obs['exp_time'] == time]\n",
    "        binned_df = trajectory_ds_filtered.obs.copy()\n",
    "        binned_df['values'] = trajectory_ds_filtered[:, name].X\n",
    "        binned_df = binned_df.groupby(['umap_x', 'umap_y'], as_index=False).sum()\n",
    "        plt.scatter(binned_df['umap_x'], binned_df['umap_y'], c=binned_df['values'],\n",
    "                       s=6, edgecolors='none')\n",
    "\n",
    "widgets.interact(update_trajectory_vis, name=trajectory_dropdown)"
   ]
  },
  {
   "cell_type": "code",
   "execution_count": 32,
   "id": "identical-information",
   "metadata": {
    "code_folding": [
     0
    ]
   },
   "outputs": [
    {
     "data": {
      "application/vnd.jupyter.widget-view+json": {
       "model_id": "bbe4355e2aa5483294e3c5c96a095b03",
       "version_major": 2,
       "version_minor": 0
      },
      "text/plain": [
       "interactive(children=(Dropdown(description='Trajectory:', options=('Distal Columella-Columella', 'Distal Later…"
      ]
     },
     "metadata": {},
     "output_type": "display_data"
    },
    {
     "data": {
      "text/plain": [
       "<function __main__.update_trajectory_vis(name)>"
      ]
     },
     "execution_count": 32,
     "metadata": {},
     "output_type": "execute_result"
    }
   ],
   "source": [
    "# Visualize trajectories by cell type and developmental zone\n",
    "zonetypes = list(typezone_trajectory_ds.var.index)\n",
    "zonetypes.sort()\n",
    "\n",
    "trajectory_dropdown = widgets.Dropdown(\n",
    "    options=zonetypes,\n",
    "    description='Trajectory:'\n",
    ")\n",
    "\n",
    "def update_trajectory_vis(name):\n",
    "    ncols = 3\n",
    "    nrows = math.ceil(len(times)/ncols)\n",
    "    size = 3\n",
    "    fig = plt.figure(figsize=(ncols*size, nrows*size))\n",
    "    plt.suptitle(name, fontsize=14, fontweight='bold')\n",
    "    subplot = 1\n",
    "    for time in times:\n",
    "        data = adata.obs[adata.obs['exp_time'] == time]\n",
    "        plt.subplot(nrows, ncols, subplot)\n",
    "        subplot = subplot + 1\n",
    "        plt.axis('off')\n",
    "        plt.tight_layout()\n",
    "        plt.title(\"{} hr\".format(time))\n",
    "        plt.scatter(data['umap_x'], data['umap_y'], c='#f0f0f0',\n",
    "                       s=4, marker=',', edgecolors='none', alpha=0.8)\n",
    "        trajectory_ds_filtered = typezone_trajectory_ds[typezone_trajectory_ds.obs['exp_time'] == time]\n",
    "        binned_df = trajectory_ds_filtered.obs.copy()\n",
    "        binned_df['values'] = trajectory_ds_filtered[:, name].X\n",
    "        binned_df = binned_df.groupby(['umap_x', 'umap_y'], as_index=False).sum()\n",
    "        plt.scatter(binned_df['umap_x'], binned_df['umap_y'], c=binned_df['values'],\n",
    "                       s=6, marker=',', edgecolors='none')\n",
    "\n",
    "widgets.interact(update_trajectory_vis, name=trajectory_dropdown)"
   ]
  },
  {
   "cell_type": "markdown",
   "id": "promotional-penguin",
   "metadata": {},
   "source": [
    "### Visualize Gene Expression Trajectories"
   ]
  },
  {
   "cell_type": "code",
   "execution_count": 33,
   "id": "silver-equivalent",
   "metadata": {
    "code_folding": [
     0
    ]
   },
   "outputs": [
    {
     "data": {
      "application/vnd.jupyter.widget-view+json": {
       "model_id": "c72a705ec349401184a143dc409237a1",
       "version_major": 2,
       "version_minor": 0
      },
      "text/plain": [
       "interactive(children=(Text(value='SCAMP', description='Search:', placeholder='Text to search'), Output()), _do…"
      ]
     },
     "metadata": {},
     "output_type": "display_data"
    },
    {
     "data": {
      "text/plain": [
       "<function __main__.table(search)>"
      ]
     },
     "execution_count": 33,
     "metadata": {},
     "output_type": "execute_result"
    }
   ],
   "source": [
    "# Widget to search for genes by common name\n",
    "search_text = widgets.Text(\n",
    "    value='SCAMP',\n",
    "    placeholder='Text to search',\n",
    "    description='Search:',\n",
    "    disabled=False\n",
    ")\n",
    "\n",
    "def table(search):\n",
    "    genes = pd.DataFrame({'Genes' : tissue_trajectory_trend_datasets[1].var.Name})\n",
    "    return [g for g in genes.Genes if search.lower() in g.lower()]\n",
    "\n",
    "widgets.interact(table, search=search_text)"
   ]
  },
  {
   "cell_type": "code",
   "execution_count": 34,
   "id": "welsh-utility",
   "metadata": {
    "code_folding": [
     0
    ]
   },
   "outputs": [
    {
     "data": {
      "application/vnd.jupyter.widget-view+json": {
       "model_id": "e08939448c2748cc8fc5fb14d349acdd",
       "version_major": 2,
       "version_minor": 0
      },
      "text/plain": [
       "interactive(children=(RadioButtons(description='Gene Names:', options=('Common Names', 'AT1G Names'), value='C…"
      ]
     },
     "metadata": {},
     "output_type": "display_data"
    },
    {
     "data": {
      "text/plain": [
       "<function __main__.update_gene_vis(name_type, AT1G_gene_names, common_gene_names)>"
      ]
     },
     "execution_count": 34,
     "metadata": {},
     "output_type": "execute_result"
    }
   ],
   "source": [
    "# Create a widget to interactively visualize expression trends by tissue\n",
    "times = pd.unique(adata.obs['exp_time'])\n",
    "times.sort()\n",
    "\n",
    "tissue_name_type = widgets.RadioButtons(\n",
    "    options=['Common Names', 'AT1G Names'],\n",
    "    value='Common Names',\n",
    "    description='Gene Names:',\n",
    "    disabled=False\n",
    ")\n",
    "\n",
    "tissue_AT1G_gene_input = widgets.Text(\n",
    "    placeholder='',\n",
    "    description='Genes:',\n",
    "    value='AT1G01020',\n",
    "    continuous_update=False\n",
    ")\n",
    "\n",
    "tissue_common_gene_input = widgets.Text(\n",
    "    placeholder='',\n",
    "    description='Genes:',\n",
    "    value='ARV1',\n",
    "    continuous_update=False\n",
    ")\n",
    "\n",
    "# Helper to toggle cell selection controls on and off\n",
    "def view_controls(mode, controls):\n",
    "    for control in controls:\n",
    "        control.layout.display = 'flex' if mode else 'none'\n",
    "\n",
    "def update_gene_vis(name_type, AT1G_gene_names, common_gene_names):\n",
    "    # Based on the gene name toggle get common and AT1G named gene lists\n",
    "    if name_type == 'Common Names':\n",
    "        common_names = common_gene_names.replace(' ', '').split(',')\n",
    "        common_names = [gene for gene in common_names if gene in common_indexed_names.index]\n",
    "        AT1G_names = [common_indexed_names.loc[gene, 'gene'] for gene in common_names]\n",
    "        view_controls(True, [tissue_common_gene_input])\n",
    "        view_controls(False, [tissue_AT1G_gene_input])\n",
    "    else:\n",
    "        AT1G_names = AT1G_gene_names.replace(' ', '').split(',')\n",
    "        AT1G_names = [gene for gene in AT1G_names if gene in AT1G_indexed_names.index]\n",
    "        common_names = [AT1G_indexed_names.loc[gene, 'Name'] for gene in AT1G_names]\n",
    "        view_controls(True, [tissue_AT1G_gene_input])\n",
    "        view_controls(False, [tissue_common_gene_input])\n",
    "    \n",
    "    n_cols = 3\n",
    "    n_rows = math.ceil(len(AT1G_gene_names)/n_cols)\n",
    "        \n",
    "    figure = plt.figure(figsize=(5*n_cols, 5*n_rows))\n",
    "    for j in range(len(AT1G_names)):\n",
    "        plt.subplot(n_rows,n_cols,j+1)\n",
    "        plt.title(\"{} ({})\".format(common_names[j], AT1G_names[j]))\n",
    "        for i in range(len(tissue_trajectory_ds.var.index)):\n",
    "            selected_trajectory = tissue_trajectory_ds.var.index[i]\n",
    "            if selected_trajectory != 'QC':\n",
    "                trajectory_index = tissue_trajectory_names.index(selected_trajectory)\n",
    "                mean = tissue_trajectory_trend_datasets[trajectory_index][:, AT1G_names[j]]\n",
    "                timepoints = mean.obs.index.values.astype(float)\n",
    "                mean.obs.index = mean.obs.index.astype('category')\n",
    "\n",
    "                plt.plot(timepoints, mean.X, c=tissue_color_dict[selected_trajectory], label=selected_trajectory,)\n",
    "                if j == 0:\n",
    "                    plt.legend()\n",
    "                plt.xlabel(\"Time Point\")\n",
    "                plt.ylabel(\"Expression\")\n",
    "\n",
    "widgets.interact(update_gene_vis, name_type = tissue_name_type, common_gene_names=tissue_common_gene_input, AT1G_gene_names=tissue_AT1G_gene_input)"
   ]
  },
  {
   "cell_type": "code",
   "execution_count": 35,
   "id": "linear-legislature",
   "metadata": {
    "code_folding": [
     0
    ]
   },
   "outputs": [
    {
     "data": {
      "application/vnd.jupyter.widget-view+json": {
       "model_id": "de18b28707d74fe083e8cec5f9ad43b9",
       "version_major": 2,
       "version_minor": 0
      },
      "text/plain": [
       "interactive(children=(RadioButtons(description='Gene Names:', options=('Common Names', 'AT1G Names'), value='C…"
      ]
     },
     "metadata": {},
     "output_type": "display_data"
    },
    {
     "data": {
      "text/plain": [
       "<function __main__.update_gene_vis(name_type, AT1G_gene_names, common_gene_names)>"
      ]
     },
     "execution_count": 35,
     "metadata": {},
     "output_type": "execute_result"
    }
   ],
   "source": [
    "# Compare gene expression trajectories for cortex + and - cells\n",
    "name_type = widgets.RadioButtons(\n",
    "    options=['Common Names', 'AT1G Names'],\n",
    "    value='Common Names',\n",
    "    description='Gene Names:',\n",
    "    disabled=False\n",
    ")\n",
    "\n",
    "AT1G_gene_input = widgets.Text(\n",
    "    placeholder='',\n",
    "    description='Genes:',\n",
    "    value='AT1G01020',\n",
    "    continuous_update=False\n",
    ")\n",
    "\n",
    "common_gene_input = widgets.Text(\n",
    "    placeholder='',\n",
    "    description='Genes:',\n",
    "    value='ARV1',\n",
    "    continuous_update=False\n",
    ")\n",
    "\n",
    "# Helper to toggle cell selection controls on and off\n",
    "def view_controls(mode, controls):\n",
    "    for control in controls:\n",
    "        control.layout.display = 'flex' if mode else 'none'\n",
    "\n",
    "def update_gene_vis(name_type, AT1G_gene_names, common_gene_names):\n",
    "    # Based on the gene name toggle get common and AT1G named gene lists\n",
    "    if name_type == 'Common Names':\n",
    "        common_names = common_gene_names.replace(' ', '').split(',')\n",
    "        common_names = [gene for gene in common_names if gene in common_indexed_names.index]\n",
    "        AT1G_names = [common_indexed_names.loc[gene, 'gene'] for gene in common_names]\n",
    "        view_controls(True, [common_gene_input])\n",
    "        view_controls(False, [AT1G_gene_input])\n",
    "    else:\n",
    "        AT1G_names = AT1G_gene_names.replace(' ', '').split(',')\n",
    "        AT1G_names = [gene for gene in AT1G_names if gene in AT1G_indexed_names.index]\n",
    "        common_names = [AT1G_indexed_names.loc[gene, 'Name'] for gene in AT1G_names]\n",
    "        view_controls(True, [AT1G_gene_input])\n",
    "        view_controls(False, [common_gene_input])\n",
    "        \n",
    "    n_cols = 3\n",
    "    n_rows = math.ceil(len(AT1G_names)/n_cols)\n",
    "    \n",
    "    figure = plt.figure(figsize=(5*n_cols, 5*n_rows))\n",
    "    for j in range(len(AT1G_names)):\n",
    "        plt.subplot(n_rows,n_cols,j+1)\n",
    "        plt.title(\"{} ({})\".format(common_names[j], AT1G_names[j]))\n",
    "        for i in ['Cortex +', 'Cortex -']:\n",
    "            selected_trajectory = i \n",
    "            trajectory_index = trajectory_names.index(selected_trajectory)\n",
    "            mean = trajectory_trend_datasets[trajectory_index][:, AT1G_names[j]]\n",
    "            timepoints = mean.obs.index.values.astype(float)\n",
    "            mean.obs.index = mean.obs.index.astype('category')\n",
    "            \n",
    "            plt.plot(timepoints, mean.X, c=lineage_color_dict[selected_trajectory], label=selected_trajectory)\n",
    "            if j == 0:\n",
    "                plt.legend()\n",
    "            plt.xlabel(\"Time Point\")\n",
    "            plt.ylabel(\"Expression\")\n",
    "\n",
    "widgets.interact(update_gene_vis, name_type=name_type, AT1G_gene_names=AT1G_gene_input, common_gene_names=common_gene_input)"
   ]
  },
  {
   "cell_type": "markdown",
   "id": "metropolitan-significance",
   "metadata": {},
   "source": [
    "### Visualize Pairs of Fates on Barycentric Coordinates"
   ]
  },
  {
   "cell_type": "code",
   "execution_count": 36,
   "id": "scenic-medicine",
   "metadata": {
    "code_folding": [
     0
    ]
   },
   "outputs": [
    {
     "data": {
      "application/vnd.jupyter.widget-view+json": {
       "model_id": "d6228aad060b4ffcaa7e7bb10d4fb412",
       "version_major": 2,
       "version_minor": 0
      },
      "text/plain": [
       "interactive(children=(Dropdown(description='Endodermis', options=('Atrichoblast', 'Columella', 'Cortex', 'Cort…"
      ]
     },
     "metadata": {},
     "output_type": "display_data"
    },
    {
     "data": {
      "text/plain": [
       "<function __main__.update_fate_vis(name1, name2, hour)>"
      ]
     },
     "execution_count": 36,
     "metadata": {},
     "output_type": "execute_result"
    }
   ],
   "source": [
    "# Visualize pairs of fates on barycentric coordinates, coloring cells by annotation\n",
    "fate_dropdown1 = widgets.Dropdown(\n",
    "    options=type_trajectory_ds.var.index,\n",
    "    description='Endodermis'\n",
    ")\n",
    "fate_dropdown2 = widgets.Dropdown(\n",
    "    options=type_trajectory_ds.var.index,\n",
    "    description='Fate 2:',\n",
    "    value='Cortex'\n",
    ")\n",
    "time_dropdown = widgets.Dropdown(\n",
    "    options=fate_ds.obs['exp_time'].unique(),\n",
    "    description='Time',\n",
    "    value=T\n",
    ")\n",
    "\n",
    "\n",
    "def update_fate_vis(name1, name2, hour):\n",
    "    figure = plt.figure(figsize=(6, 6))   \n",
    "    \n",
    "    if name1 == 'Cortex':\n",
    "        fate1 = fate_ds[:,'Cortex -'][fate_ds.obs['exp_time'] == hour].X.flatten() + fate_ds[:,'Cortex +'][fate_ds.obs['exp_time'] == hour].X.flatten()\n",
    "    else:\n",
    "        fate1 = fate_ds[:,name1][fate_ds.obs['exp_time'] == hour].X.flatten()\n",
    "\n",
    "    if name2 == 'Cortex':\n",
    "        fate2 = fate_ds[:,'Cortex -'][fate_ds.obs['exp_time'] == hour].X.flatten() + fate_ds[:,'Cortex +'][fate_ds.obs['exp_time'] == hour].X.flatten()\n",
    "    else:\n",
    "        fate2 = fate_ds[:,name2][fate_ds.obs['exp_time'] == hour].X.flatten()\n",
    "\n",
    "    Nrows = len(fate1)\n",
    "    x = np.zeros(Nrows)\n",
    "    y = np.zeros(Nrows)\n",
    "    P = np.array([[1,0],[np.cos(2*math.pi/3),math.sin(2*math.pi/3)],[math.cos(4*math.pi/3),math.sin(4*math.pi/3)]])\n",
    "\n",
    "    for i in range(0,Nrows):\n",
    "        ff = np.array([fate1[i],fate2[i],1-(fate1[i]+fate2[i])])\n",
    "        x[i] = (ff @ P)[0]\n",
    "        y[i] = (ff @ P)[1]\n",
    "\n",
    "    t1 = plt.Polygon(P, color=(0,0,0,0.1))\n",
    "    plt.gca().add_patch(t1)\n",
    "    \n",
    "    plt.scatter(x,y,c=fate_ds.obs['celltype'][fate_ds.obs['exp_time'] == hour].apply(lambda x: lineage_color_dict[x]))\n",
    "    plt.text(P[0,0]+.1, P[0,1], name1)\n",
    "    plt.text(P[1,0]-.1, P[1,1]+.1, name2)\n",
    "    plt.text(P[2,0]-.1, P[2,1]-.2, 'Other')\n",
    "    plt.axis('equal')\n",
    "    plt.axis('off')\n",
    "    \n",
    "    plt.title('{} vs. {}'.format(name1, name2))\n",
    "\n",
    "widgets.interact(update_fate_vis, name1=fate_dropdown1, name2=fate_dropdown2, hour=time_dropdown)"
   ]
  },
  {
   "cell_type": "markdown",
   "id": "appointed-lease",
   "metadata": {},
   "source": [
    "### Differential Expression"
   ]
  },
  {
   "cell_type": "code",
   "execution_count": 42,
   "id": "fewer-curve",
   "metadata": {
    "code_folding": [
     0
    ]
   },
   "outputs": [],
   "source": [
    "# Function to filter diff exp results based on widget input\n",
    "def diff_exp_table(adata, t, day, t2, timepoints='day only', method='pairwise', genes='all', n=20):\n",
    "    # Set timepoints\n",
    "    if timepoints == 'all':\n",
    "         days = pd.unique(adata.obs['exp_time'])\n",
    "    elif timepoints == 'ancestors only':\n",
    "         days = [d for d in pd.unique(adata.obs['exp_time']) if d < day]\n",
    "    elif timepoints == 'descendants only':\n",
    "         days = [d for d in pd.unique(adata.obs['exp_time']) if d > day]\n",
    "    else:\n",
    "         days = [day]\n",
    "\n",
    "    # Get results\n",
    "    results = diff_exp_results[t]\n",
    "    \n",
    "    # Filter results\n",
    "    results = results[results['Comparison Type'] == t2]\n",
    "        \n",
    "    if (genes == 'TFs'):\n",
    "        results = results[results['TF'] == True]\n",
    "        \n",
    "    results = results[results['Time'].apply(lambda day: day in days)]\n",
    "    \n",
    "    # Truncate\n",
    "    results = results[(results['t_fdr']<0.01)].sort_values('Expression Ratio', ascending=False).head(n)\n",
    "    \n",
    "    diff_exp_cols = ['Common Name', 'Time', 'Comparison Type', '{} Exp. Mean'.format(t), \n",
    "                     'Comparison Exp. Mean', '{} Prop. Exp.'.format(t), 'Comparison Prop. Exp.', \n",
    "                     'Expression Ratio']\n",
    "    \n",
    "    return results[diff_exp_cols]"
   ]
  },
  {
   "cell_type": "code",
   "execution_count": 43,
   "id": "related-fountain",
   "metadata": {
    "code_folding": []
   },
   "outputs": [
    {
     "data": {
      "application/vnd.jupyter.widget-view+json": {
       "model_id": "33a77aeac8ac438ba5fcc972a6cbc7a0",
       "version_major": 2,
       "version_minor": 0
      },
      "text/plain": [
       "VBox(children=(HBox(children=(VBox(children=(Dropdown(description='Fate 1:', index=3, options=('Atrichoblast',…"
      ]
     },
     "metadata": {},
     "output_type": "display_data"
    }
   ],
   "source": [
    "# Visualize pairs of fates for a single time\n",
    "T_prime = int(T) if T != 0.5 else T\n",
    "\n",
    "diff_fate_dropdown1 = widgets.Dropdown(\n",
    "    options=diff_exp_types,\n",
    "    description='Fate 1:',\n",
    "    value='Cortex +'\n",
    ")\n",
    "\n",
    "diff_fate_dropdown2 = widgets.Dropdown(\n",
    "    options=diff_exp_types,\n",
    "    description='Fate 2:',\n",
    "    value='Cortex -'\n",
    ")\n",
    "\n",
    "diff_t_dropdown = widgets.Dropdown(\n",
    "    options=[0.,0.5,1,2,4,8],\n",
    "    description='Time:',\n",
    "    value=T\n",
    ")\n",
    "\n",
    "n_slider = widgets.IntSlider(\n",
    "    min = 0,\n",
    "    max = 100,\n",
    "    step=5,\n",
    "    value=15,\n",
    "    description='Results:'\n",
    ")\n",
    "\n",
    "gene_type = widgets.RadioButtons(\n",
    "    options=['all', 'TFs'],\n",
    "    value='all',\n",
    "    description='Genes:',\n",
    "    disabled=False\n",
    ")\n",
    "\n",
    "days_type = widgets.RadioButtons(\n",
    "    options=['all', 'ancestors only', 'descendants only'],\n",
    "    value='all',\n",
    "    description='Timepoints:',\n",
    "    disabled=False\n",
    ")\n",
    "\n",
    "output = widgets.Output()\n",
    "\n",
    "# Helper to toggle cell selection controls on and off\n",
    "def view_controls(mode, controls):\n",
    "    for control in controls:\n",
    "        control.layout.display = 'flex' if mode else 'none'\n",
    "\n",
    "def update_diff_exp_vis(name1, name2, t, days_type, genes, n):\n",
    "    data = adata\n",
    "    with output:\n",
    "        output.clear_output()\n",
    "        display(diff_exp_table(adata=data, t=name1, t2=name2, day=t, timepoints=days_type, genes=genes, n=n))\n",
    "\n",
    "out = widgets.interactive(update_diff_exp_vis, name1=diff_fate_dropdown1, name2=diff_fate_dropdown2, t=diff_t_dropdown, \n",
    "                          days_type=days_type, genes=gene_type, n=n_slider)\n",
    "\n",
    "display(widgets.VBox([ widgets.HBox([widgets.VBox([diff_fate_dropdown1, diff_fate_dropdown2, diff_t_dropdown, n_slider]), \n",
    "                                     gene_type, days_type]),\n",
    "                       output]))\n",
    "\n",
    "out.update()"
   ]
  }
 ],
 "metadata": {
  "hide_input": false,
  "kernelspec": {
   "display_name": "Python 3",
   "language": "python",
   "name": "python3"
  },
  "language_info": {
   "codemirror_mode": {
    "name": "ipython",
    "version": 3
   },
   "file_extension": ".py",
   "mimetype": "text/x-python",
   "name": "python",
   "nbconvert_exporter": "python",
   "pygments_lexer": "ipython3",
   "version": "3.7.9"
  }
 },
 "nbformat": 4,
 "nbformat_minor": 5
}
