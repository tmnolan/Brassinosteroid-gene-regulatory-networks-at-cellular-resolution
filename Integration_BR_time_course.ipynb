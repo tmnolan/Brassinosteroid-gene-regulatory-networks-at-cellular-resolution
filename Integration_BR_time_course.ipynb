{
 "cells": [
  {
   "cell_type": "code",
   "execution_count": 1,
   "metadata": {},
   "outputs": [
    {
     "data": {
      "text/html": [
       "<table>\n",
       "<caption>A matrix: 2 × 6 of type dbl</caption>\n",
       "<thead>\n",
       "\t<tr><th></th><th scope=col>used</th><th scope=col>(Mb)</th><th scope=col>gc trigger</th><th scope=col>(Mb)</th><th scope=col>max used</th><th scope=col>(Mb)</th></tr>\n",
       "</thead>\n",
       "<tbody>\n",
       "\t<tr><th scope=row>Ncells</th><td> 530421</td><td>28.4</td><td>1188254</td><td>63.5</td><td> 654468</td><td>35.0</td></tr>\n",
       "\t<tr><th scope=row>Vcells</th><td>1018462</td><td> 7.8</td><td>8388608</td><td>64.0</td><td>1772256</td><td>13.6</td></tr>\n",
       "</tbody>\n",
       "</table>\n"
      ],
      "text/latex": [
       "A matrix: 2 × 6 of type dbl\n",
       "\\begin{tabular}{r|llllll}\n",
       "  & used & (Mb) & gc trigger & (Mb) & max used & (Mb)\\\\\n",
       "\\hline\n",
       "\tNcells &  530421 & 28.4 & 1188254 & 63.5 &  654468 & 35.0\\\\\n",
       "\tVcells & 1018462 &  7.8 & 8388608 & 64.0 & 1772256 & 13.6\\\\\n",
       "\\end{tabular}\n"
      ],
      "text/markdown": [
       "\n",
       "A matrix: 2 × 6 of type dbl\n",
       "\n",
       "| <!--/--> | used | (Mb) | gc trigger | (Mb) | max used | (Mb) |\n",
       "|---|---|---|---|---|---|---|\n",
       "| Ncells |  530421 | 28.4 | 1188254 | 63.5 |  654468 | 35.0 |\n",
       "| Vcells | 1018462 |  7.8 | 8388608 | 64.0 | 1772256 | 13.6 |\n",
       "\n"
      ],
      "text/plain": [
       "       used    (Mb) gc trigger (Mb) max used (Mb)\n",
       "Ncells  530421 28.4 1188254    63.5  654468  35.0\n",
       "Vcells 1018462  7.8 8388608    64.0 1772256  13.6"
      ]
     },
     "metadata": {},
     "output_type": "display_data"
    }
   ],
   "source": [
    "rm(list=ls())\n",
    "gc()\n",
    "setwd(\"/scratch/AG_Ohler/CheWei/kallisto-bus/output\")"
   ]
  },
  {
   "cell_type": "code",
   "execution_count": 2,
   "metadata": {},
   "outputs": [
    {
     "data": {
      "text/html": [
       "3066455620"
      ],
      "text/latex": [
       "3066455620"
      ],
      "text/markdown": [
       "3066455620"
      ],
      "text/plain": [
       "[1] 3066455620"
      ]
     },
     "metadata": {},
     "output_type": "display_data"
    }
   ],
   "source": [
    "as.numeric(system(\"awk '/MemFree/ {print $2}' /proc/meminfo\", intern=TRUE))"
   ]
  },
  {
   "cell_type": "code",
   "execution_count": 3,
   "metadata": {},
   "outputs": [],
   "source": [
    "suppressMessages(library(Matrix))\n",
    "suppressMessages(library(ggplot2))\n",
    "suppressMessages(library(scales))\n",
    "suppressMessages(library(rjson))\n",
    "suppressMessages(library(R2HTML))\n",
    "suppressMessages(library(Seurat))\n",
    "suppressMessages(library(DoubletFinder))\n",
    "suppressMessages(library(plotly))\n",
    "suppressMessages(library(future))\n",
    "suppressMessages(library(grid))\n",
    "suppressMessages(library(tidyverse))"
   ]
  },
  {
   "cell_type": "code",
   "execution_count": 4,
   "metadata": {},
   "outputs": [],
   "source": [
    "## Downloaded from https://github.com/ohlerlab/scKB/supp_data/\n",
    "pp.genes <- as.character(read.table(\"../../proj_sc/cbpsc/data/Root_sc/Protoplasting_DEgene_FC2_list.txt\", header=F)$V1)"
   ]
  },
  {
   "cell_type": "code",
   "execution_count": 5,
   "metadata": {},
   "outputs": [
    {
     "data": {
      "text/plain": [
       "R version 4.0.3 (2020-10-10)\n",
       "Platform: x86_64-conda-linux-gnu (64-bit)\n",
       "Running under: CentOS Linux 7 (Core)\n",
       "\n",
       "Matrix products: default\n",
       "BLAS/LAPACK: /fast/home/c/chsu/anaconda3/envs/seu3/lib/libopenblasp-r0.3.12.so\n",
       "\n",
       "locale:\n",
       " [1] LC_CTYPE=en_US.utf-8       LC_NUMERIC=C              \n",
       " [3] LC_TIME=en_US.utf-8        LC_COLLATE=en_US.utf-8    \n",
       " [5] LC_MONETARY=en_US.utf-8    LC_MESSAGES=en_US.utf-8   \n",
       " [7] LC_PAPER=en_US.utf-8       LC_NAME=C                 \n",
       " [9] LC_ADDRESS=C               LC_TELEPHONE=C            \n",
       "[11] LC_MEASUREMENT=en_US.utf-8 LC_IDENTIFICATION=C       \n",
       "\n",
       "attached base packages:\n",
       "[1] grid      stats     graphics  grDevices utils     datasets  methods  \n",
       "[8] base     \n",
       "\n",
       "other attached packages:\n",
       " [1] forcats_0.5.0       stringr_1.4.0       dplyr_1.0.2        \n",
       " [4] purrr_0.3.4         readr_1.4.0         tidyr_1.1.2        \n",
       " [7] tibble_3.0.4        tidyverse_1.3.0     future_1.20.1      \n",
       "[10] plotly_4.9.2.1      DoubletFinder_2.0.3 Seurat_3.1.5       \n",
       "[13] R2HTML_2.3.2        rjson_0.2.20        scales_1.1.1       \n",
       "[16] ggplot2_3.3.2       Matrix_1.2-18      \n",
       "\n",
       "loaded via a namespace (and not attached):\n",
       " [1] Rtsne_0.15          colorspace_2.0-0    ellipsis_0.3.1     \n",
       " [4] ggridges_0.5.2      IRdisplay_0.7.0     base64enc_0.1-3    \n",
       " [7] fs_1.5.0            rstudioapi_0.13     leiden_0.3.5       \n",
       "[10] listenv_0.8.0       ggrepel_0.8.2       fansi_0.4.1        \n",
       "[13] lubridate_1.7.9     xml2_1.3.2          codetools_0.2-18   \n",
       "[16] splines_4.0.3       IRkernel_1.1.1.9000 jsonlite_1.7.1     \n",
       "[19] broom_0.7.2         ica_1.0-2           cluster_2.1.0      \n",
       "[22] dbplyr_2.0.0        png_0.1-7           uwot_0.1.8         \n",
       "[25] sctransform_0.3.1   compiler_4.0.3      httr_1.4.2         \n",
       "[28] backports_1.2.0     assertthat_0.2.1    lazyeval_0.2.2     \n",
       "[31] cli_2.1.0           htmltools_0.5.0     tools_4.0.3        \n",
       "[34] rsvd_1.0.3          igraph_1.2.6        gtable_0.3.0       \n",
       "[37] glue_1.4.2          RANN_2.6.1          reshape2_1.4.4     \n",
       "[40] Rcpp_1.0.5          cellranger_1.1.0    vctrs_0.3.4        \n",
       "[43] ape_5.4-1           nlme_3.1-150        lmtest_0.9-38      \n",
       "[46] globals_0.13.1      ps_1.4.0            rvest_0.3.6        \n",
       "[49] lifecycle_0.2.0     irlba_2.3.3         MASS_7.3-53        \n",
       "[52] zoo_1.8-8           hms_0.5.3           parallel_4.0.3     \n",
       "[55] RColorBrewer_1.1-2  reticulate_1.18     pbapply_1.4-3      \n",
       "[58] gridExtra_2.3       stringi_1.5.3       repr_1.1.0         \n",
       "[61] rlang_0.4.8         pkgconfig_2.0.3     matrixStats_0.57.0 \n",
       "[64] evaluate_0.14       lattice_0.20-41     ROCR_1.0-11        \n",
       "[67] patchwork_1.1.0     htmlwidgets_1.5.2   cowplot_1.1.0      \n",
       "[70] tidyselect_1.1.0    parallelly_1.21.0   RcppAnnoy_0.0.16   \n",
       "[73] plyr_1.8.6          magrittr_1.5        R6_2.5.0           \n",
       "[76] generics_0.1.0      pbdZMQ_0.3-3.1      DBI_1.1.0          \n",
       "[79] pillar_1.4.6        haven_2.3.1         withr_2.3.0        \n",
       "[82] fitdistrplus_1.1-1  survival_3.2-7      future.apply_1.6.0 \n",
       "[85] tsne_0.1-3          modelr_0.1.8        crayon_1.3.4       \n",
       "[88] uuid_0.1-4          KernSmooth_2.23-18  readxl_1.3.1       \n",
       "[91] data.table_1.13.2   reprex_0.3.0        digest_0.6.27      \n",
       "[94] munsell_0.5.0       viridisLite_0.3.0  "
      ]
     },
     "metadata": {},
     "output_type": "display_data"
    }
   ],
   "source": [
    "sessionInfo()"
   ]
  },
  {
   "cell_type": "code",
   "execution_count": 6,
   "metadata": {},
   "outputs": [
    {
     "data": {
      "text/html": [
       "<style>\n",
       ".list-inline {list-style: none; margin:0; padding: 0}\n",
       ".list-inline>li {display: inline-block}\n",
       ".list-inline>li:not(:last-child)::after {content: \"\\00b7\"; padding: 0 .5ex}\n",
       "</style>\n",
       "<ol class=list-inline><li>'sc_12'</li><li>'dc1'</li><li>'dc2'</li><li>'sc_43'</li><li>'sc_44'</li><li>'sc_45'</li><li>'sc_46'</li><li>'sc_47'</li><li>'sc_48'</li><li>'sc_49'</li><li>'sc_50'</li></ol>\n"
      ],
      "text/latex": [
       "\\begin{enumerate*}\n",
       "\\item 'sc\\_12'\n",
       "\\item 'dc1'\n",
       "\\item 'dc2'\n",
       "\\item 'sc\\_43'\n",
       "\\item 'sc\\_44'\n",
       "\\item 'sc\\_45'\n",
       "\\item 'sc\\_46'\n",
       "\\item 'sc\\_47'\n",
       "\\item 'sc\\_48'\n",
       "\\item 'sc\\_49'\n",
       "\\item 'sc\\_50'\n",
       "\\end{enumerate*}\n"
      ],
      "text/markdown": [
       "1. 'sc_12'\n",
       "2. 'dc1'\n",
       "3. 'dc2'\n",
       "4. 'sc_43'\n",
       "5. 'sc_44'\n",
       "6. 'sc_45'\n",
       "7. 'sc_46'\n",
       "8. 'sc_47'\n",
       "9. 'sc_48'\n",
       "10. 'sc_49'\n",
       "11. 'sc_50'\n",
       "\n",
       "\n"
      ],
      "text/plain": [
       " [1] \"sc_12\" \"dc1\"   \"dc2\"   \"sc_43\" \"sc_44\" \"sc_45\" \"sc_46\" \"sc_47\" \"sc_48\"\n",
       "[10] \"sc_49\" \"sc_50\""
      ]
     },
     "metadata": {},
     "output_type": "display_data"
    }
   ],
   "source": [
    "use.sample <- c(\"sc_12\", \"dc1\", \"dc2\", \"sc_43\", \"sc_44\", \"sc_45\", \"sc_46\", \"sc_47\", \"sc_48\", \"sc_49\", \"sc_50\")\n",
    "use.sample"
   ]
  },
  {
   "cell_type": "code",
   "execution_count": 7,
   "metadata": {},
   "outputs": [],
   "source": [
    "read_seu <- function(dir,sample.name) {   \n",
    "  seu <- readRDS(dir) \n",
    "  seu@misc$sample.meta.data <- list(bscs)\n",
    "  seu@assays$spliced_RNA <- NULL\n",
    "  seu@assays$spliced_SCT <- NULL\n",
    "  seu@assays$unspliced_RNA <- NULL\n",
    "  seu@assays$unspliced_SCT <- NULL\n",
    "  return(seu)\n",
    "}\n",
    "\n",
    "## Seurat objects of samples are put under ./COPILOT_RDS_LENINET_DR/\n",
    "list.filenames <- list.files(path = \"./COPILOT_RDS_LENIENT_DR/\",pattern=\".rds$\") %>% .[match(use.sample, gsub(\"_COPILOT.rds\",\"\",.))]\n",
    "\n",
    "rc.list <- list()\n",
    "\n",
    "for (i in 1:length(list.filenames))\n",
    "{\n",
    "  rc.list[[i]]<-read_seu(dir = paste0(\"./COPILOT_RDS_LENIENT_DR/\",list.filenames[i]), sample.name = use.sample[i])\n",
    "}\n",
    "\n",
    "names(rc.list) <- list.filenames %>% gsub(\"_COPILOT.rds\",\"\",.)\n",
    "\n",
    "for (i in 1:length(list.filenames))\n",
    "{\n",
    "  rc.list[[i]]<- suppressWarnings(suppressMessages(UpdateSeuratObject(rc.list[[i]])))\n",
    "}"
   ]
  },
  {
   "cell_type": "code",
   "execution_count": 8,
   "metadata": {},
   "outputs": [
    {
     "data": {
      "text/html": [
       "20393"
      ],
      "text/latex": [
       "20393"
      ],
      "text/markdown": [
       "20393"
      ],
      "text/plain": [
       "[1] 20393"
      ]
     },
     "metadata": {},
     "output_type": "display_data"
    }
   ],
   "source": [
    "rc.features <- SelectIntegrationFeatures(object.list = rc.list, nfeatures = 25000)\n",
    "length(rc.features)"
   ]
  },
  {
   "cell_type": "code",
   "execution_count": 9,
   "metadata": {},
   "outputs": [
    {
     "data": {
      "text/html": [
       "17882"
      ],
      "text/latex": [
       "17882"
      ],
      "text/markdown": [
       "17882"
      ],
      "text/plain": [
       "[1] 17882"
      ]
     },
     "metadata": {},
     "output_type": "display_data"
    }
   ],
   "source": [
    "rc.features <- rc.features[-c(grep(\"ATMG\",rc.features),grep(\"ATCG\",rc.features),sort(match(pp.genes, rc.features)))]\n",
    "length(rc.features)"
   ]
  },
  {
   "cell_type": "code",
   "execution_count": 10,
   "metadata": {},
   "outputs": [
    {
     "data": {
      "text/plain": [
       "$sc_12\n",
       "An object of class Seurat \n",
       "49648 features across 10293 samples within 2 assays \n",
       "Active assay: SCT (23357 features, 23357 variable features)\n",
       " 1 other assay present: RNA\n",
       " 2 dimensional reductions calculated: pca, umap\n",
       "\n",
       "$dc1\n",
       "An object of class Seurat \n",
       "47748 features across 3378 samples within 2 assays \n",
       "Active assay: SCT (21818 features, 21818 variable features)\n",
       " 1 other assay present: RNA\n",
       " 2 dimensional reductions calculated: pca, umap\n",
       "\n",
       "$dc2\n",
       "An object of class Seurat \n",
       "47752 features across 3283 samples within 2 assays \n",
       "Active assay: SCT (22007 features, 22007 variable features)\n",
       " 1 other assay present: RNA\n",
       " 2 dimensional reductions calculated: pca, umap\n",
       "\n",
       "$sc_43\n",
       "An object of class Seurat \n",
       "48045 features across 8874 samples within 2 assays \n",
       "Active assay: SCT (22534 features, 22534 variable features)\n",
       " 1 other assay present: RNA\n",
       " 2 dimensional reductions calculated: pca, umap\n",
       "\n",
       "$sc_44\n",
       "An object of class Seurat \n",
       "47228 features across 6843 samples within 2 assays \n",
       "Active assay: SCT (22046 features, 22046 variable features)\n",
       " 1 other assay present: RNA\n",
       " 2 dimensional reductions calculated: pca, umap\n",
       "\n",
       "$sc_45\n",
       "An object of class Seurat \n",
       "47982 features across 6336 samples within 2 assays \n",
       "Active assay: SCT (22434 features, 22434 variable features)\n",
       " 1 other assay present: RNA\n",
       " 2 dimensional reductions calculated: pca, umap\n",
       "\n",
       "$sc_46\n",
       "An object of class Seurat \n",
       "48076 features across 6847 samples within 2 assays \n",
       "Active assay: SCT (22490 features, 22490 variable features)\n",
       " 1 other assay present: RNA\n",
       " 2 dimensional reductions calculated: pca, umap\n",
       "\n",
       "$sc_47\n",
       "An object of class Seurat \n",
       "48853 features across 6907 samples within 2 assays \n",
       "Active assay: SCT (22893 features, 22893 variable features)\n",
       " 1 other assay present: RNA\n",
       " 2 dimensional reductions calculated: pca, umap\n",
       "\n",
       "$sc_48\n",
       "An object of class Seurat \n",
       "48800 features across 6389 samples within 2 assays \n",
       "Active assay: SCT (22873 features, 22873 variable features)\n",
       " 1 other assay present: RNA\n",
       " 2 dimensional reductions calculated: pca, umap\n",
       "\n",
       "$sc_49\n",
       "An object of class Seurat \n",
       "48251 features across 5638 samples within 2 assays \n",
       "Active assay: SCT (22567 features, 22567 variable features)\n",
       " 1 other assay present: RNA\n",
       " 2 dimensional reductions calculated: pca, umap\n",
       "\n",
       "$sc_50\n",
       "An object of class Seurat \n",
       "47149 features across 5087 samples within 2 assays \n",
       "Active assay: SCT (22014 features, 22014 variable features)\n",
       " 1 other assay present: RNA\n",
       " 2 dimensional reductions calculated: pca, umap\n"
      ]
     },
     "metadata": {},
     "output_type": "display_data"
    }
   ],
   "source": [
    "rc.list"
   ]
  },
  {
   "cell_type": "code",
   "execution_count": 11,
   "metadata": {},
   "outputs": [],
   "source": [
    "rc.list <- PrepSCTIntegration(object.list = rc.list, anchor.features = rc.features, verbose = TRUE)"
   ]
  },
  {
   "cell_type": "code",
   "execution_count": 12,
   "metadata": {},
   "outputs": [
    {
     "name": "stderr",
     "output_type": "stream",
     "text": [
      "Warning message in CheckDuplicateCellNames(object.list = object.list):\n",
      "“Some cell names are duplicated across objects provided. Renaming to enforce unique cell names.”\n"
     ]
    }
   ],
   "source": [
    "# Use sc_12 as reference\n",
    "rc.anchors <- suppressMessages(FindIntegrationAnchors(object.list = rc.list, normalization.method = \"SCT\", \n",
    "    anchor.features = rc.features, verbose = TRUE, reference=1))"
   ]
  },
  {
   "cell_type": "code",
   "execution_count": 13,
   "metadata": {},
   "outputs": [
    {
     "name": "stderr",
     "output_type": "stream",
     "text": [
      "Integrating dataset 2 with reference dataset\n",
      "\n",
      "Finding integration vectors\n",
      "\n",
      "Finding integration vector weights\n",
      "\n",
      "Integrating data\n",
      "\n",
      "Integrating dataset 3 with reference dataset\n",
      "\n",
      "Finding integration vectors\n",
      "\n",
      "Finding integration vector weights\n",
      "\n",
      "Integrating data\n",
      "\n",
      "Integrating dataset 4 with reference dataset\n",
      "\n",
      "Finding integration vectors\n",
      "\n",
      "Finding integration vector weights\n",
      "\n",
      "Integrating data\n",
      "\n",
      "Integrating dataset 5 with reference dataset\n",
      "\n",
      "Finding integration vectors\n",
      "\n",
      "Finding integration vector weights\n",
      "\n",
      "Integrating data\n",
      "\n",
      "Integrating dataset 6 with reference dataset\n",
      "\n",
      "Finding integration vectors\n",
      "\n",
      "Finding integration vector weights\n",
      "\n",
      "Integrating data\n",
      "\n",
      "Integrating dataset 7 with reference dataset\n",
      "\n",
      "Finding integration vectors\n",
      "\n",
      "Finding integration vector weights\n",
      "\n",
      "Integrating data\n",
      "\n",
      "Integrating dataset 8 with reference dataset\n",
      "\n",
      "Finding integration vectors\n",
      "\n",
      "Finding integration vector weights\n",
      "\n",
      "Integrating data\n",
      "\n",
      "Integrating dataset 9 with reference dataset\n",
      "\n",
      "Finding integration vectors\n",
      "\n",
      "Finding integration vector weights\n",
      "\n",
      "Integrating data\n",
      "\n",
      "Integrating dataset 10 with reference dataset\n",
      "\n",
      "Finding integration vectors\n",
      "\n",
      "Finding integration vector weights\n",
      "\n",
      "Integrating data\n",
      "\n",
      "Integrating dataset 11 with reference dataset\n",
      "\n",
      "Finding integration vectors\n",
      "\n",
      "Finding integration vector weights\n",
      "\n",
      "Integrating data\n",
      "\n",
      "Warning message:\n",
      "“Adding a command log without an assay associated with it”\n",
      "Computing nearest neighbor graph\n",
      "\n",
      "Computing SNN\n",
      "\n"
     ]
    },
    {
     "name": "stdout",
     "output_type": "stream",
     "text": [
      "Modularity Optimizer version 1.3.0 by Ludo Waltman and Nees Jan van Eck\n",
      "\n",
      "Number of nodes: 69875\n",
      "Number of edges: 2111867\n",
      "\n",
      "Running smart local moving algorithm...\n",
      "Maximum modularity in 10 random starts: 0.8749\n",
      "Number of communities: 116\n",
      "Elapsed time: 35 seconds\n"
     ]
    }
   ],
   "source": [
    "rc.integrated <- IntegrateData(anchorset = rc.anchors, normalization.method = \"SCT\", verbose = TRUE)\n",
    "rc.integrated <- RunPCA(rc.integrated, npcs = 50, verbose = FALSE, approx = FALSE)\n",
    "rc.integrated <- suppressMessages(RunUMAP(rc.integrated, reduction = \"pca\", dims = 1:50, umap.method = \"umap-learn\", metric = \"correlation\", n.components = 3))\n",
    "rc.integrated@reductions$umap_3D <- rc.integrated@reductions$umap\n",
    "rc.integrated <- suppressMessages(RunUMAP(rc.integrated, reduction = \"pca\", umap.method = \"umap-learn\", metric = \"correlation\", dims = 1:50))\n",
    "rc.integrated@reductions$umap_2D <- rc.integrated@reductions$umap\n",
    "rc.integrated <- FindNeighbors(rc.integrated, reduction = \"pca\",dims = 1:50)\n",
    "rc.integrated <- FindClusters(rc.integrated, resolution = 5, algorithm = 3)"
   ]
  },
  {
   "cell_type": "code",
   "execution_count": 14,
   "metadata": {},
   "outputs": [],
   "source": [
    "afm <- as.matrix(rc.integrated@assays$integrated@data)\n",
    "pooled <- matrix(nrow=nrow(afm), ncol = 0)\n",
    "for (i in 0:(length(unique(rc.integrated@meta.data$seurat_clusters))-1)) {\n",
    "m <- afm[,which(rc.integrated@meta.data$seurat_clusters==i)]\n",
    "pooled <- cbind(pooled, rowSums(m)/ncol(m))\n",
    "}"
   ]
  },
  {
   "cell_type": "code",
   "execution_count": 15,
   "metadata": {},
   "outputs": [],
   "source": [
    "    load(file=\"../../cellranger/Root_bulk_arabidopsis_curated.RD\")    \n",
    "    time <- Reduce(merge.rownames, list(time,pooled))\n",
    "    celltype <- Reduce(merge.rownames, list(celltype,pooled)) \n",
    "  \n",
    "    time_label=c(\"Elongation\", \"Maturation\", \"Meristem\")\n",
    "    celltype_label=c(\"phloem & companion cells\", \"developing cortex\", \"hair cells\", \"matured cortex\",\n",
    "                     \"matured endodermis\", \"non-hair cells\", \"columella\", \"phloem pole pericycle\", \n",
    "                     \"matured xylem pole\", \"protophloem & metaphloem\",\"developing xylem\", \"endodermis & QC cells\", \"LRC & non-hair cells\",\"QC cells\")\n",
    "    \n",
    "    time_stat <- suppressWarnings(sapply(4:ncol(time), function(i) sapply(1:3, function(j) cor.test(time[,i],time[,j],method = \"spearman\")[c(3,4)])))\n",
    "    time_cor <- time_stat[seq(2,nrow(time_stat),2),]\n",
    "    time_pvalue <- time_stat[seq(1,nrow(time_stat)-1,2),]                                                                                                        \n",
    "    time_max <- sapply(1:(ncol(time)-3), function(i) max(as.numeric(time_cor[,i])))\n",
    "    time_ident <- sapply(1:(ncol(time)-3), function(i) time_label[which(as.numeric(time_cor[,i])==max(as.numeric(time_cor[,i])))])\n",
    "    time_maxp <- sapply(1:(ncol(time)-3), function(i) as.numeric(time_pvalue[,i])[which(as.numeric(time_cor[,i])==max(as.numeric(time_cor[,i])))])                     \n",
    "    names(time_max) <- time_ident\n",
    "\n",
    "    celltype_stat <- suppressWarnings(sapply(15:ncol(celltype), function(i) sapply(1:14, function(j) cor.test(celltype[,i],celltype[,j],method = \"spearman\")[c(3,4)])))\n",
    "    celltype_cor <- celltype_stat[seq(2,nrow(celltype_stat),2),]\n",
    "    celltype_pvalue <- celltype_stat[seq(1,nrow(celltype_stat)-1,2),]                        \n",
    "    celltype_max <- sapply(1:(ncol(celltype)-14), function(i) max(as.numeric(celltype_cor[,i])))\n",
    "    celltype_ident <- sapply(1:(ncol(celltype)-14), function(i) celltype_label[which(as.numeric(celltype_cor[,i])==max(as.numeric(celltype_cor[,i])))])\n",
    "    celltype_maxp <- sapply(1:(ncol(celltype)-14), function(i) as.numeric(celltype_pvalue[,i])[which(as.numeric(celltype_cor[,i])==max(as.numeric(celltype_cor[,i])))])   \n",
    "    names(celltype_max) <- celltype_ident\n",
    "\n",
    "    seucluster.celltype.ID <- celltype_ident\n",
    "    seucluster.timezone.ID <- time_ident\n",
    "    seucluster.celltype.cor <- celltype_max\n",
    "    seucluster.timezone.cor <- time_max\n",
    "    seucluster.celltype.pvalue <- celltype_maxp\n",
    "    seucluster.timezone.pvalue <- time_maxp\n",
    "\n",
    "    time_stat <- suppressWarnings(sapply(4:ncol(time), function(i) sapply(1:3, function(j) cor.test(time[,i],time[,j],method = \"pearson\")[c(3,4)])))\n",
    "    time_cor <- time_stat[seq(2,nrow(time_stat),2),]\n",
    "    time_pvalue <- time_stat[seq(1,nrow(time_stat)-1,2),]                                                                                                        \n",
    "    time_max <- sapply(1:(ncol(time)-3), function(i) max(as.numeric(time_cor[,i])))\n",
    "    time_ident <- sapply(1:(ncol(time)-3), function(i) time_label[which(as.numeric(time_cor[,i])==max(as.numeric(time_cor[,i])))])\n",
    "    time_maxp <- sapply(1:(ncol(time)-3), function(i) as.numeric(time_pvalue[,i])[which(as.numeric(time_cor[,i])==max(as.numeric(time_cor[,i])))])                     \n",
    "    names(time_max) <- time_ident\n",
    "\n",
    "    celltype_stat <- suppressWarnings(sapply(15:ncol(celltype), function(i) sapply(1:14, function(j) cor.test(celltype[,i],celltype[,j],method = \"pearson\")[c(3,4)])))\n",
    "    celltype_cor <- celltype_stat[seq(2,nrow(celltype_stat),2),]\n",
    "    celltype_pvalue <- celltype_stat[seq(1,nrow(celltype_stat)-1,2),]                        \n",
    "    celltype_max <- sapply(1:(ncol(celltype)-14), function(i) max(as.numeric(celltype_cor[,i])))\n",
    "    celltype_ident <- sapply(1:(ncol(celltype)-14), function(i) celltype_label[which(as.numeric(celltype_cor[,i])==max(as.numeric(celltype_cor[,i])))])\n",
    "    celltype_maxp <- sapply(1:(ncol(celltype)-14), function(i) as.numeric(celltype_pvalue[,i])[which(as.numeric(celltype_cor[,i])==max(as.numeric(celltype_cor[,i])))])   \n",
    "    names(celltype_max) <- celltype_ident\n",
    "\n",
    "    seucluster.celltype.ID.P <- celltype_ident\n",
    "    seucluster.timezone.ID.P <- time_ident\n",
    "    seucluster.celltype.cor.P <- celltype_max\n",
    "    seucluster.timezone.cor.P <- time_max\n",
    "    seucluster.celltype.pvalue.P <- celltype_maxp\n",
    "    seucluster.timezone.pvalue.P <- time_maxp\n",
    "                \n",
    "    time <- Reduce(merge.rownames, list(Long,pooled))\n",
    "    celltype <- Reduce(merge.rownames, list(Rad,pooled)) \n",
    "                             \n",
    "    time_label=c(\"Columella\", \"Meri-1\", \"Meri-2\", \"Meri-3\", \"Meri-4\", \"Meri-5\", \"Meri-6\", \"Elong-7\", \"Elong-8\", \"Mat-9\", \"Mat-10\", \"Mat-11\", \"Mat-12\")\n",
    "    celltype_label=c(\"QC\", \"Hair Cell\", \"Cortex\", \"Non-Hair Cell\", \"Xylem Pole Pericycle\", \"LRC\", \n",
    "                 \"Columella\", \"Phloem Pole Pericycle\", \"Mat.Xylem\", \"Meri.Xylem\", \"Phloem [S32]\", \"Endodermis\", \"Phloem [SUC2]\")\n",
    "\n",
    "    time_stat <- suppressWarnings(sapply(14:ncol(time), function(i) sapply(1:13, function(j) cor.test(time[,i],time[,j],method = \"spearman\")[c(3,4)])))\n",
    "    time_cor <- time_stat[seq(2,nrow(time_stat),2),]\n",
    "    time_pvalue <- time_stat[seq(1,nrow(time_stat)-1,2),]                                                                                                        \n",
    "    time_max <- sapply(1:(ncol(time)-13), function(i) max(as.numeric(time_cor[,i])))\n",
    "    time_ident <- sapply(1:(ncol(time)-13), function(i) time_label[which(as.numeric(time_cor[,i])==max(as.numeric(time_cor[,i])))])\n",
    "    time_maxp <- sapply(1:(ncol(time)-13), function(i) as.numeric(time_pvalue[,i])[which(as.numeric(time_cor[,i])==max(as.numeric(time_cor[,i])))])                     \n",
    "    names(time_max) <- time_ident\n",
    "\n",
    "    celltype_stat <- suppressWarnings(sapply(14:ncol(celltype), function(i) sapply(1:13, function(j) cor.test(celltype[,i],celltype[,j],method = \"spearman\")[c(3,4)])))\n",
    "    celltype_cor <- celltype_stat[seq(2,nrow(celltype_stat),2),]\n",
    "    celltype_pvalue <- celltype_stat[seq(1,nrow(celltype_stat)-1,2),]                        \n",
    "    celltype_max <- sapply(1:(ncol(celltype)-13), function(i) max(as.numeric(celltype_cor[,i])))\n",
    "    celltype_ident <- sapply(1:(ncol(celltype)-13), function(i) celltype_label[which(as.numeric(celltype_cor[,i])==max(as.numeric(celltype_cor[,i])))])\n",
    "    celltype_maxp <- sapply(1:(ncol(celltype)-13), function(i) as.numeric(celltype_pvalue[,i])[which(as.numeric(celltype_cor[,i])==max(as.numeric(celltype_cor[,i])))])   \n",
    "    names(celltype_max) <- celltype_ident\n",
    "\n",
    "    seucluster.Rad.ID <- celltype_ident\n",
    "    seucluster.Long.ID <- time_ident\n",
    "    seucluster.Rad.cor <- celltype_max\n",
    "    seucluster.Long.cor <- time_max\n",
    "    seucluster.Rad.pvalue <- celltype_maxp\n",
    "    seucluster.Long.pvalue <- time_maxp\n",
    "                             \n",
    "    time_stat <- suppressWarnings(sapply(14:ncol(time), function(i) sapply(1:13, function(j) cor.test(time[,i],time[,j],method = \"pearson\")[c(3,4)])))\n",
    "    time_cor <- time_stat[seq(2,nrow(time_stat),2),]\n",
    "    time_pvalue <- time_stat[seq(1,nrow(time_stat)-1,2),]                                                                                                        \n",
    "    time_max <- sapply(1:(ncol(time)-13), function(i) max(as.numeric(time_cor[,i])))\n",
    "    time_ident <- sapply(1:(ncol(time)-13), function(i) time_label[which(as.numeric(time_cor[,i])==max(as.numeric(time_cor[,i])))])\n",
    "    time_maxp <- sapply(1:(ncol(time)-13), function(i) as.numeric(time_pvalue[,i])[which(as.numeric(time_cor[,i])==max(as.numeric(time_cor[,i])))])                     \n",
    "    names(time_max) <- time_ident\n",
    "\n",
    "    celltype_stat <- suppressWarnings(sapply(14:ncol(celltype), function(i) sapply(1:13, function(j) cor.test(celltype[,i],celltype[,j],method = \"pearson\")[c(3,4)])))\n",
    "    celltype_cor <- celltype_stat[seq(2,nrow(celltype_stat),2),]\n",
    "    celltype_pvalue <- celltype_stat[seq(1,nrow(celltype_stat)-1,2),]                        \n",
    "    celltype_max <- sapply(1:(ncol(celltype)-13), function(i) max(as.numeric(celltype_cor[,i])))\n",
    "    celltype_ident <- sapply(1:(ncol(celltype)-13), function(i) celltype_label[which(as.numeric(celltype_cor[,i])==max(as.numeric(celltype_cor[,i])))])\n",
    "    celltype_maxp <- sapply(1:(ncol(celltype)-13), function(i) as.numeric(celltype_pvalue[,i])[which(as.numeric(celltype_cor[,i])==max(as.numeric(celltype_cor[,i])))])   \n",
    "    names(celltype_max) <- celltype_ident\n",
    "\n",
    "    seucluster.Rad.ID.P <- celltype_ident\n",
    "    seucluster.Long.ID.P <- time_ident\n",
    "    seucluster.Rad.cor.P <- celltype_max\n",
    "    seucluster.Long.cor.P <- time_max\n",
    "    seucluster.Rad.pvalue.P <- celltype_maxp\n",
    "    seucluster.Long.pvalue.P <- time_maxp\n",
    "      \n",
    "    #store values\n",
    "    rc.ori.ident <- rc.integrated@active.ident\n",
    "\n",
    "    rc.integrated@active.ident <- rc.ori.ident\n",
    "    new.cluster.ids <- seucluster.celltype.cor\n",
    "    names(new.cluster.ids) <- levels(rc.integrated)\n",
    "    rc.integrated <- RenameIdents(object = rc.integrated, new.cluster.ids)\n",
    "    rc.integrated@meta.data$seucluster.celltype.cor <- as.numeric(levels(rc.integrated@active.ident)[rc.integrated@active.ident])\n",
    "    rc.integrated@active.ident <- rc.ori.ident\n",
    "    new.cluster.ids <- seucluster.celltype.pvalue\n",
    "    names(new.cluster.ids) <- levels(rc.integrated)\n",
    "    rc.integrated <- RenameIdents(object = rc.integrated, new.cluster.ids)\n",
    "    rc.integrated@meta.data$seucluster.celltype.pvalue <- as.numeric(levels(rc.integrated@active.ident)[rc.integrated@active.ident])\n",
    "    rc.integrated@active.ident <- rc.ori.ident\n",
    "    new.cluster.ids <- seucluster.celltype.ID\n",
    "    names(new.cluster.ids) <- levels(rc.integrated)\n",
    "    rc.integrated <- RenameIdents(object = rc.integrated, new.cluster.ids)\n",
    "    rc.integrated@meta.data$seucluster.celltype.ID <- as.character(rc.integrated@active.ident)\n",
    "\n",
    "                             \n",
    "    rc.integrated@active.ident <- rc.ori.ident\n",
    "    new.cluster.ids <- seucluster.celltype.cor.P\n",
    "    names(new.cluster.ids) <- levels(rc.integrated)\n",
    "    rc.integrated <- RenameIdents(object = rc.integrated, new.cluster.ids)\n",
    "    rc.integrated@meta.data$seucluster.celltype.cor.P <- as.numeric(levels(rc.integrated@active.ident)[rc.integrated@active.ident])\n",
    "    rc.integrated@active.ident <- rc.ori.ident\n",
    "    new.cluster.ids <- seucluster.celltype.pvalue.P\n",
    "    names(new.cluster.ids) <- levels(rc.integrated)\n",
    "    rc.integrated <- RenameIdents(object = rc.integrated, new.cluster.ids)\n",
    "    rc.integrated@meta.data$seucluster.celltype.pvalue.P <- as.numeric(levels(rc.integrated@active.ident)[rc.integrated@active.ident])\n",
    "    rc.integrated@active.ident <- rc.ori.ident\n",
    "    new.cluster.ids <- seucluster.celltype.ID.P\n",
    "    names(new.cluster.ids) <- levels(rc.integrated)\n",
    "    rc.integrated <- RenameIdents(object = rc.integrated, new.cluster.ids)\n",
    "    rc.integrated@meta.data$seucluster.celltype.ID.P <- as.character(rc.integrated@active.ident)\n",
    "\n",
    "    rc.integrated@active.ident <- rc.ori.ident\n",
    "    new.cluster.ids <- seucluster.timezone.cor\n",
    "    names(new.cluster.ids) <- levels(rc.integrated)\n",
    "    rc.integrated <- RenameIdents(object = rc.integrated, new.cluster.ids)\n",
    "    rc.integrated@meta.data$seucluster.timezone.cor <- as.numeric(levels(rc.integrated@active.ident)[rc.integrated@active.ident])\n",
    "    rc.integrated@active.ident <- rc.ori.ident\n",
    "    new.cluster.ids <- seucluster.timezone.pvalue\n",
    "    names(new.cluster.ids) <- levels(rc.integrated)\n",
    "    rc.integrated <- RenameIdents(object = rc.integrated, new.cluster.ids)\n",
    "    rc.integrated@meta.data$seucluster.timezone.pvalue <- as.numeric(levels(rc.integrated@active.ident)[rc.integrated@active.ident])\n",
    "    rc.integrated@active.ident <- rc.ori.ident\n",
    "    new.cluster.ids <- seucluster.timezone.ID\n",
    "    names(new.cluster.ids) <- levels(rc.integrated)\n",
    "    rc.integrated <- RenameIdents(object = rc.integrated, new.cluster.ids)\n",
    "    rc.integrated@meta.data$seucluster.timezone.ID <- as.character(rc.integrated@active.ident)\n",
    "                             \n",
    "    rc.integrated@active.ident <- rc.ori.ident\n",
    "    new.cluster.ids <- seucluster.timezone.cor.P\n",
    "    names(new.cluster.ids) <- levels(rc.integrated)\n",
    "    rc.integrated <- RenameIdents(object = rc.integrated, new.cluster.ids)\n",
    "    rc.integrated@meta.data$seucluster.timezone.cor.P <- as.numeric(levels(rc.integrated@active.ident)[rc.integrated@active.ident])\n",
    "    rc.integrated@active.ident <- rc.ori.ident\n",
    "    new.cluster.ids <- seucluster.timezone.pvalue.P\n",
    "    names(new.cluster.ids) <- levels(rc.integrated)\n",
    "    rc.integrated <- RenameIdents(object = rc.integrated, new.cluster.ids)\n",
    "    rc.integrated@meta.data$seucluster.timezone.pvalue.P <- as.numeric(levels(rc.integrated@active.ident)[rc.integrated@active.ident])\n",
    "    rc.integrated@active.ident <- rc.ori.ident\n",
    "    new.cluster.ids <- seucluster.timezone.ID.P\n",
    "    names(new.cluster.ids) <- levels(rc.integrated)\n",
    "    rc.integrated <- RenameIdents(object = rc.integrated, new.cluster.ids)\n",
    "    rc.integrated@meta.data$seucluster.timezone.ID.P <- as.character(rc.integrated@active.ident)\n",
    "    \n",
    "    rc.integrated@active.ident <- rc.ori.ident\n",
    "    new.cluster.ids <- seucluster.Rad.cor\n",
    "    names(new.cluster.ids) <- levels(rc.integrated)\n",
    "    rc.integrated <- RenameIdents(object = rc.integrated, new.cluster.ids)\n",
    "    rc.integrated@meta.data$seucluster.Rad.cor <- as.numeric(levels(rc.integrated@active.ident)[rc.integrated@active.ident])\n",
    "    rc.integrated@active.ident <- rc.ori.ident\n",
    "    new.cluster.ids <- seucluster.Rad.pvalue\n",
    "    names(new.cluster.ids) <- levels(rc.integrated)\n",
    "    rc.integrated <- RenameIdents(object = rc.integrated, new.cluster.ids)\n",
    "    rc.integrated@meta.data$seucluster.Rad.pvalue <- as.numeric(levels(rc.integrated@active.ident)[rc.integrated@active.ident])\n",
    "    rc.integrated@active.ident <- rc.ori.ident\n",
    "    new.cluster.ids <- seucluster.Rad.ID\n",
    "    names(new.cluster.ids) <- levels(rc.integrated)\n",
    "    rc.integrated <- RenameIdents(object = rc.integrated, new.cluster.ids)\n",
    "    rc.integrated@meta.data$seucluster.Rad.ID <- as.character(rc.integrated@active.ident)\n",
    "                             \n",
    "    rc.integrated@active.ident <- rc.ori.ident\n",
    "    new.cluster.ids <- seucluster.Rad.cor.P\n",
    "    names(new.cluster.ids) <- levels(rc.integrated)\n",
    "    rc.integrated <- RenameIdents(object = rc.integrated, new.cluster.ids)\n",
    "    rc.integrated@meta.data$seucluster.Rad.cor.P <- as.numeric(levels(rc.integrated@active.ident)[rc.integrated@active.ident])\n",
    "    rc.integrated@active.ident <- rc.ori.ident\n",
    "    new.cluster.ids <- seucluster.Rad.pvalue.P\n",
    "    names(new.cluster.ids) <- levels(rc.integrated)\n",
    "    rc.integrated <- RenameIdents(object = rc.integrated, new.cluster.ids)\n",
    "    rc.integrated@meta.data$seucluster.Rad.pvalue.P <- as.numeric(levels(rc.integrated@active.ident)[rc.integrated@active.ident])\n",
    "    rc.integrated@active.ident <- rc.ori.ident\n",
    "    new.cluster.ids <- seucluster.Rad.ID.P\n",
    "    names(new.cluster.ids) <- levels(rc.integrated)\n",
    "    rc.integrated <- RenameIdents(object = rc.integrated, new.cluster.ids)\n",
    "    rc.integrated@meta.data$seucluster.Rad.ID.P <- as.character(rc.integrated@active.ident)\n",
    "                             \n",
    "    rc.integrated@active.ident <- rc.ori.ident\n",
    "    new.cluster.ids <- seucluster.Long.cor\n",
    "    names(new.cluster.ids) <- levels(rc.integrated)\n",
    "    rc.integrated <- RenameIdents(object = rc.integrated, new.cluster.ids)\n",
    "    rc.integrated@meta.data$seucluster.Long.cor <- as.numeric(levels(rc.integrated@active.ident)[rc.integrated@active.ident])\n",
    "    rc.integrated@active.ident <- rc.ori.ident\n",
    "    new.cluster.ids <- seucluster.Long.pvalue\n",
    "    names(new.cluster.ids) <- levels(rc.integrated)\n",
    "    rc.integrated <- RenameIdents(object = rc.integrated, new.cluster.ids)\n",
    "    rc.integrated@meta.data$seucluster.Long.pvalue <- as.numeric(levels(rc.integrated@active.ident)[rc.integrated@active.ident])\n",
    "    rc.integrated@active.ident <- rc.ori.ident\n",
    "    new.cluster.ids <- seucluster.Long.ID\n",
    "    names(new.cluster.ids) <- levels(rc.integrated)\n",
    "    rc.integrated <- RenameIdents(object = rc.integrated, new.cluster.ids)\n",
    "    rc.integrated@meta.data$seucluster.Long.ID <- as.character(rc.integrated@active.ident)\n",
    "                             \n",
    "    rc.integrated@active.ident <- rc.ori.ident\n",
    "    new.cluster.ids <- seucluster.Long.cor.P\n",
    "    names(new.cluster.ids) <- levels(rc.integrated)\n",
    "    rc.integrated <- RenameIdents(object = rc.integrated, new.cluster.ids)\n",
    "    rc.integrated@meta.data$seucluster.Long.cor.P <- as.numeric(levels(rc.integrated@active.ident)[rc.integrated@active.ident])\n",
    "    rc.integrated@active.ident <- rc.ori.ident\n",
    "    new.cluster.ids <- seucluster.Long.pvalue.P\n",
    "    names(new.cluster.ids) <- levels(rc.integrated)\n",
    "    rc.integrated <- RenameIdents(object = rc.integrated, new.cluster.ids)\n",
    "    rc.integrated@meta.data$seucluster.Long.pvalue.P <- as.numeric(levels(rc.integrated@active.ident)[rc.integrated@active.ident])\n",
    "    rc.integrated@active.ident <- rc.ori.ident\n",
    "    new.cluster.ids <- seucluster.Long.ID.P\n",
    "    names(new.cluster.ids) <- levels(rc.integrated)\n",
    "    rc.integrated <- RenameIdents(object = rc.integrated, new.cluster.ids)\n",
    "    rc.integrated@meta.data$seucluster.Long.ID.P <- as.character(rc.integrated@active.ident)\n",
    "    "
   ]
  },
  {
   "cell_type": "code",
   "execution_count": 16,
   "metadata": {},
   "outputs": [],
   "source": [
    "DF <- c()\n",
    "for (i in grep(\"DF.classifications\",colnames(rc.integrated@meta.data))){\n",
    "    DF <- c(DF, rc.integrated@meta.data[,i][!is.na(rc.integrated@meta.data[,i])])\n",
    "}\n",
    "rc.integrated@meta.data$DF.classifications <- DF"
   ]
  },
  {
   "cell_type": "code",
   "execution_count": 21,
   "metadata": {},
   "outputs": [],
   "source": [
    "saveRDS(rc.integrated, file = \"./Integration/BR_time_course.rds\")"
   ]
  }
 ],
 "metadata": {
  "kernelspec": {
   "display_name": "R",
   "language": "R",
   "name": "ir"
  },
  "language_info": {
   "codemirror_mode": "r",
   "file_extension": ".r",
   "mimetype": "text/x-r-source",
   "name": "R",
   "pygments_lexer": "r",
   "version": "4.0.3"
  }
 },
 "nbformat": 4,
 "nbformat_minor": 4
}
