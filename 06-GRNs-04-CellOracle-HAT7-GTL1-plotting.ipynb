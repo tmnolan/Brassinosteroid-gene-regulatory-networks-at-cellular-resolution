{
 "cells": [
  {
   "cell_type": "markdown",
   "metadata": {},
   "source": [
    "# Cell Oracle TF plots for HAT7 and GTL1 in Cortex GRNs from BR timecourse"
   ]
  },
  {
   "cell_type": "code",
   "execution_count": 1,
   "metadata": {},
   "outputs": [
    {
     "name": "stderr",
     "output_type": "stream",
     "text": [
      "── \u001b[1mAttaching packages\u001b[22m ─────────────────────────────────────── tidyverse 1.3.0 ──\n",
      "\n",
      "\u001b[32m✔\u001b[39m \u001b[34mggplot2\u001b[39m 3.3.5     \u001b[32m✔\u001b[39m \u001b[34mpurrr  \u001b[39m 0.3.4\n",
      "\u001b[32m✔\u001b[39m \u001b[34mtibble \u001b[39m 3.1.5     \u001b[32m✔\u001b[39m \u001b[34mdplyr  \u001b[39m 1.0.7\n",
      "\u001b[32m✔\u001b[39m \u001b[34mtidyr  \u001b[39m 1.1.4     \u001b[32m✔\u001b[39m \u001b[34mstringr\u001b[39m 1.4.0\n",
      "\u001b[32m✔\u001b[39m \u001b[34mreadr  \u001b[39m 1.4.0     \u001b[32m✔\u001b[39m \u001b[34mforcats\u001b[39m 0.5.0\n",
      "\n",
      "── \u001b[1mConflicts\u001b[22m ────────────────────────────────────────── tidyverse_conflicts() ──\n",
      "\u001b[31m✖\u001b[39m \u001b[34mdplyr\u001b[39m::\u001b[32mfilter()\u001b[39m masks \u001b[34mstats\u001b[39m::filter()\n",
      "\u001b[31m✖\u001b[39m \u001b[34mdplyr\u001b[39m::\u001b[32mlag()\u001b[39m    masks \u001b[34mstats\u001b[39m::lag()\n",
      "\n",
      "Loading required package: grid\n",
      "\n",
      "========================================\n",
      "ComplexHeatmap version 2.11.1\n",
      "Bioconductor page: http://bioconductor.org/packages/ComplexHeatmap/\n",
      "Github page: https://github.com/jokergoo/ComplexHeatmap\n",
      "Documentation: http://jokergoo.github.io/ComplexHeatmap-reference\n",
      "\n",
      "If you use it in published research, please cite:\n",
      "Gu, Z. Complex heatmaps reveal patterns and correlations in multidimensional \n",
      "  genomic data. Bioinformatics 2016.\n",
      "\n",
      "The new InteractiveComplexHeatmap package can directly export static \n",
      "complex heatmaps into an interactive Shiny app with zero effort. Have a try!\n",
      "\n",
      "This message can be suppressed by:\n",
      "  suppressPackageStartupMessages(library(ComplexHeatmap))\n",
      "========================================\n",
      "\n",
      "\n",
      "========================================\n",
      "circlize version 0.4.14\n",
      "CRAN page: https://cran.r-project.org/package=circlize\n",
      "Github page: https://github.com/jokergoo/circlize\n",
      "Documentation: https://jokergoo.github.io/circlize_book/book/\n",
      "\n",
      "If you use it in published research, please cite:\n",
      "Gu, Z. circlize implements and enhances circular visualization\n",
      "  in R. Bioinformatics 2014.\n",
      "\n",
      "This message can be suppressed by:\n",
      "  suppressPackageStartupMessages(library(circlize))\n",
      "========================================\n",
      "\n",
      "\n",
      "\n",
      "Attaching package: ‘patchwork’\n",
      "\n",
      "\n",
      "The following object is masked from ‘package:cowplot’:\n",
      "\n",
      "    align_plots\n",
      "\n",
      "\n"
     ]
    }
   ],
   "source": [
    "library(tidyverse)\n",
    "library(ComplexHeatmap)\n",
    "library(circlize)\n",
    "library(GeneOverlap)\n",
    "library(cowplot)\n",
    "library(patchwork)\n",
    "library(ggrepel)"
   ]
  },
  {
   "cell_type": "code",
   "execution_count": 2,
   "metadata": {},
   "outputs": [
    {
     "name": "stderr",
     "output_type": "stream",
     "text": [
      "Warning message:\n",
      "“Missing column names filled in: 'X1' [1]”\n",
      "\n",
      "\u001b[36m──\u001b[39m \u001b[1m\u001b[1mColumn specification\u001b[1m\u001b[22m \u001b[36m────────────────────────────────────────────────────────\u001b[39m\n",
      "cols(\n",
      "  .default = col_double(),\n",
      "  X1 = \u001b[31mcol_character()\u001b[39m,\n",
      "  name = \u001b[31mcol_character()\u001b[39m,\n",
      "  role = \u001b[31mcol_character()\u001b[39m,\n",
      "  cluster = \u001b[31mcol_character()\u001b[39m\n",
      ")\n",
      "\u001b[36mℹ\u001b[39m Use \u001b[30m\u001b[47m\u001b[30m\u001b[47m`spec()`\u001b[47m\u001b[30m\u001b[49m\u001b[39m for the full column specifications.\n",
      "\n",
      "\n"
     ]
    }
   ],
   "source": [
    "# read in cortex GRN scores from CellOracle analysis of BR time course\n",
    "Cortex <- read_csv(\"../data/CellOracle_BR-timecourse/cortex_SCT_celloracle_gene_score_iGRN.csv\") %>%\n",
    "rename(\"gene\"=X1)"
   ]
  },
  {
   "cell_type": "code",
   "execution_count": 3,
   "metadata": {},
   "outputs": [],
   "source": [
    "# adjust names to match other figures\n",
    "\n",
    "Cortex$name<- gsub(\"AT-GTL1\", \"GTL1\", Cortex$name, ignore.case = FALSE, perl = FALSE,\n",
    "     fixed = T, useBytes = FALSE)\n",
    "\n",
    "Cortex$name<- gsub(\"ATHB-23\", \"HB-23\", Cortex$name, ignore.case = FALSE, perl = FALSE,\n",
    "     fixed = T, useBytes = FALSE)\n",
    "\n",
    "Cortex$name<- gsub(\"ATHB-20\", \"HB-20\", Cortex$name, ignore.case = FALSE, perl = FALSE,\n",
    "     fixed = T, useBytes = FALSE)\n",
    "\n",
    "Cortex$name<- gsub(\"ATHB-13\", \"HB-13\", Cortex$name, ignore.case = FALSE, perl = FALSE,\n",
    "     fixed = T, useBytes = FALSE)"
   ]
  },
  {
   "cell_type": "code",
   "execution_count": 5,
   "metadata": {},
   "outputs": [],
   "source": [
    "options(repr.plot.width=5, repr.plot.height=5)\n",
    "\n",
    "\n",
    "\n",
    "# top 10 TFs in BL 2 hour elongating cortex GRN\n",
    "BL2hr_elong_cortex_10 <- Cortex %>%\n",
    "             filter(cluster==\"Elongation_Cortex_BRZ_2_BL\") %>%\n",
    "            top_n(wt = degree_out, n = 10)\n",
    "\n",
    "\n",
    "\n",
    "\n",
    "# genes to highlight \n",
    "HAT7__HB_degree <- filter(BL2hr_elong_cortex_10, name %in% c(\"HAT7\", \"GTL1\", \"HB-23\", \"HB-13\", \"HB-20\"))"
   ]
  },
  {
   "cell_type": "code",
   "execution_count": 6,
   "metadata": {},
   "outputs": [
    {
     "data": {
      "text/html": [
       "<table>\n",
       "<caption>A spec_tbl_df: 10 × 23</caption>\n",
       "<thead>\n",
       "\t<tr><th scope=col>gene</th><th scope=col>name</th><th scope=col>degree_all</th><th scope=col>degree_in</th><th scope=col>degree_out</th><th scope=col>clustering_coefficient</th><th scope=col>clustering_coefficient_weighted</th><th scope=col>degree_centrality_all</th><th scope=col>degree_centrality_in</th><th scope=col>degree_centrality_out</th><th scope=col>⋯</th><th scope=col>page_rank</th><th scope=col>assortative_coefficient</th><th scope=col>average_path_length</th><th scope=col>community_random_walk</th><th scope=col>module</th><th scope=col>connectivity</th><th scope=col>participation</th><th scope=col>role</th><th scope=col>cluster</th><th scope=col>rank</th></tr>\n",
       "\t<tr><th scope=col>&lt;chr&gt;</th><th scope=col>&lt;chr&gt;</th><th scope=col>&lt;dbl&gt;</th><th scope=col>&lt;dbl&gt;</th><th scope=col>&lt;dbl&gt;</th><th scope=col>&lt;dbl&gt;</th><th scope=col>&lt;dbl&gt;</th><th scope=col>&lt;dbl&gt;</th><th scope=col>&lt;dbl&gt;</th><th scope=col>&lt;dbl&gt;</th><th scope=col>⋯</th><th scope=col>&lt;dbl&gt;</th><th scope=col>&lt;dbl&gt;</th><th scope=col>&lt;dbl&gt;</th><th scope=col>&lt;dbl&gt;</th><th scope=col>&lt;dbl&gt;</th><th scope=col>&lt;dbl&gt;</th><th scope=col>&lt;dbl&gt;</th><th scope=col>&lt;chr&gt;</th><th scope=col>&lt;chr&gt;</th><th scope=col>&lt;int&gt;</th></tr>\n",
       "</thead>\n",
       "<tbody>\n",
       "\t<tr><td>AT5G15150</td><td>HAT7     </td><td>359</td><td>56</td><td>303</td><td>0.02721713</td><td>0.03879151</td><td>0.17623957</td><td>0.027491409</td><td>0.14874816</td><td>⋯</td><td>0.0015480165</td><td>-0.1570814</td><td>3.357992</td><td> 7</td><td>7</td><td>10.393196</td><td>0.5954822</td><td>Connector Hub</td><td>Elongation_Cortex_BRZ_2_BL</td><td> 1</td></tr>\n",
       "\t<tr><td>AT3G24120</td><td>AT3G24120</td><td>250</td><td>25</td><td>225</td><td>0.02152610</td><td>0.02318024</td><td>0.12272950</td><td>0.012272950</td><td>0.11045655</td><td>⋯</td><td>0.0005736059</td><td>-0.1570814</td><td>3.357992</td><td> 7</td><td>7</td><td> 6.483904</td><td>0.6101067</td><td>Connector Hub</td><td>Elongation_Cortex_BRZ_2_BL</td><td> 2</td></tr>\n",
       "\t<tr><td>AT1G26960</td><td>HB-23    </td><td>240</td><td>17</td><td>223</td><td>0.03218271</td><td>0.03473185</td><td>0.11782032</td><td>0.008345606</td><td>0.10947472</td><td>⋯</td><td>0.0006028192</td><td>-0.1570814</td><td>3.357992</td><td> 7</td><td>7</td><td> 7.288758</td><td>0.5625879</td><td>Connector Hub</td><td>Elongation_Cortex_BRZ_2_BL</td><td> 3</td></tr>\n",
       "\t<tr><td>AT5G65310</td><td>ATHB-5   </td><td>218</td><td> 0</td><td>218</td><td>0.01598106</td><td>0.01577668</td><td>0.10702013</td><td>0.000000000</td><td>0.10702013</td><td>⋯</td><td>0.0003585660</td><td>-0.1570814</td><td>3.357992</td><td> 7</td><td>7</td><td> 5.334112</td><td>0.6415706</td><td>Connector Hub</td><td>Elongation_Cortex_BRZ_2_BL</td><td> 4</td></tr>\n",
       "\t<tr><td>AT1G33240</td><td>GTL1     </td><td>218</td><td>11</td><td>207</td><td>0.02980594</td><td>0.03118672</td><td>0.10702013</td><td>0.005400098</td><td>0.10162003</td><td>⋯</td><td>0.0004178512</td><td>-0.1570814</td><td>3.357992</td><td> 7</td><td>7</td><td> 4.299300</td><td>0.6629196</td><td>Connector Hub</td><td>Elongation_Cortex_BRZ_2_BL</td><td> 5</td></tr>\n",
       "\t<tr><td>AT1G13260</td><td>RAV1     </td><td>198</td><td> 9</td><td>189</td><td>0.03343075</td><td>0.03576109</td><td>0.09720177</td><td>0.004418262</td><td>0.09278351</td><td>⋯</td><td>0.0004076933</td><td>-0.1570814</td><td>3.357992</td><td>15</td><td>2</td><td> 5.420890</td><td>0.5910373</td><td>Connector Hub</td><td>Elongation_Cortex_BRZ_2_BL</td><td> 6</td></tr>\n",
       "\t<tr><td>AT1G69780</td><td>HB-13    </td><td>197</td><td>14</td><td>183</td><td>0.03599917</td><td>0.04528498</td><td>0.09671085</td><td>0.006872852</td><td>0.08983800</td><td>⋯</td><td>0.0005041402</td><td>-0.1570814</td><td>3.357992</td><td> 7</td><td>7</td><td> 5.564071</td><td>0.5728558</td><td>Connector Hub</td><td>Elongation_Cortex_BRZ_2_BL</td><td> 7</td></tr>\n",
       "\t<tr><td>AT3G01220</td><td>HB-20    </td><td>195</td><td>14</td><td>181</td><td>0.03103357</td><td>0.04164520</td><td>0.09572901</td><td>0.006872852</td><td>0.08885616</td><td>⋯</td><td>0.0004347086</td><td>-0.1570814</td><td>3.357992</td><td> 7</td><td>7</td><td> 6.023987</td><td>0.5490328</td><td>Connector Hub</td><td>Elongation_Cortex_BRZ_2_BL</td><td> 8</td></tr>\n",
       "\t<tr><td>AT4G31800</td><td>WRKY18   </td><td>207</td><td>42</td><td>165</td><td>0.03963229</td><td>0.05601617</td><td>0.10162003</td><td>0.020618557</td><td>0.08100147</td><td>⋯</td><td>0.0008413534</td><td>-0.1570814</td><td>3.357992</td><td>15</td><td>2</td><td> 4.451609</td><td>0.6394740</td><td>Connector Hub</td><td>Elongation_Cortex_BRZ_2_BL</td><td> 9</td></tr>\n",
       "\t<tr><td>AT3G22830</td><td>HSFA6B   </td><td>183</td><td>21</td><td>162</td><td>0.05230289</td><td>0.06554729</td><td>0.08983800</td><td>0.010309278</td><td>0.07952872</td><td>⋯</td><td>0.0005011141</td><td>-0.1570814</td><td>3.357992</td><td>15</td><td>2</td><td> 4.109510</td><td>0.6134892</td><td>Connector Hub</td><td>Elongation_Cortex_BRZ_2_BL</td><td>10</td></tr>\n",
       "</tbody>\n",
       "</table>\n"
      ],
      "text/latex": [
       "A spec\\_tbl\\_df: 10 × 23\n",
       "\\begin{tabular}{lllllllllllllllllllll}\n",
       " gene & name & degree\\_all & degree\\_in & degree\\_out & clustering\\_coefficient & clustering\\_coefficient\\_weighted & degree\\_centrality\\_all & degree\\_centrality\\_in & degree\\_centrality\\_out & ⋯ & page\\_rank & assortative\\_coefficient & average\\_path\\_length & community\\_random\\_walk & module & connectivity & participation & role & cluster & rank\\\\\n",
       " <chr> & <chr> & <dbl> & <dbl> & <dbl> & <dbl> & <dbl> & <dbl> & <dbl> & <dbl> & ⋯ & <dbl> & <dbl> & <dbl> & <dbl> & <dbl> & <dbl> & <dbl> & <chr> & <chr> & <int>\\\\\n",
       "\\hline\n",
       "\t AT5G15150 & HAT7      & 359 & 56 & 303 & 0.02721713 & 0.03879151 & 0.17623957 & 0.027491409 & 0.14874816 & ⋯ & 0.0015480165 & -0.1570814 & 3.357992 &  7 & 7 & 10.393196 & 0.5954822 & Connector Hub & Elongation\\_Cortex\\_BRZ\\_2\\_BL &  1\\\\\n",
       "\t AT3G24120 & AT3G24120 & 250 & 25 & 225 & 0.02152610 & 0.02318024 & 0.12272950 & 0.012272950 & 0.11045655 & ⋯ & 0.0005736059 & -0.1570814 & 3.357992 &  7 & 7 &  6.483904 & 0.6101067 & Connector Hub & Elongation\\_Cortex\\_BRZ\\_2\\_BL &  2\\\\\n",
       "\t AT1G26960 & HB-23     & 240 & 17 & 223 & 0.03218271 & 0.03473185 & 0.11782032 & 0.008345606 & 0.10947472 & ⋯ & 0.0006028192 & -0.1570814 & 3.357992 &  7 & 7 &  7.288758 & 0.5625879 & Connector Hub & Elongation\\_Cortex\\_BRZ\\_2\\_BL &  3\\\\\n",
       "\t AT5G65310 & ATHB-5    & 218 &  0 & 218 & 0.01598106 & 0.01577668 & 0.10702013 & 0.000000000 & 0.10702013 & ⋯ & 0.0003585660 & -0.1570814 & 3.357992 &  7 & 7 &  5.334112 & 0.6415706 & Connector Hub & Elongation\\_Cortex\\_BRZ\\_2\\_BL &  4\\\\\n",
       "\t AT1G33240 & GTL1      & 218 & 11 & 207 & 0.02980594 & 0.03118672 & 0.10702013 & 0.005400098 & 0.10162003 & ⋯ & 0.0004178512 & -0.1570814 & 3.357992 &  7 & 7 &  4.299300 & 0.6629196 & Connector Hub & Elongation\\_Cortex\\_BRZ\\_2\\_BL &  5\\\\\n",
       "\t AT1G13260 & RAV1      & 198 &  9 & 189 & 0.03343075 & 0.03576109 & 0.09720177 & 0.004418262 & 0.09278351 & ⋯ & 0.0004076933 & -0.1570814 & 3.357992 & 15 & 2 &  5.420890 & 0.5910373 & Connector Hub & Elongation\\_Cortex\\_BRZ\\_2\\_BL &  6\\\\\n",
       "\t AT1G69780 & HB-13     & 197 & 14 & 183 & 0.03599917 & 0.04528498 & 0.09671085 & 0.006872852 & 0.08983800 & ⋯ & 0.0005041402 & -0.1570814 & 3.357992 &  7 & 7 &  5.564071 & 0.5728558 & Connector Hub & Elongation\\_Cortex\\_BRZ\\_2\\_BL &  7\\\\\n",
       "\t AT3G01220 & HB-20     & 195 & 14 & 181 & 0.03103357 & 0.04164520 & 0.09572901 & 0.006872852 & 0.08885616 & ⋯ & 0.0004347086 & -0.1570814 & 3.357992 &  7 & 7 &  6.023987 & 0.5490328 & Connector Hub & Elongation\\_Cortex\\_BRZ\\_2\\_BL &  8\\\\\n",
       "\t AT4G31800 & WRKY18    & 207 & 42 & 165 & 0.03963229 & 0.05601617 & 0.10162003 & 0.020618557 & 0.08100147 & ⋯ & 0.0008413534 & -0.1570814 & 3.357992 & 15 & 2 &  4.451609 & 0.6394740 & Connector Hub & Elongation\\_Cortex\\_BRZ\\_2\\_BL &  9\\\\\n",
       "\t AT3G22830 & HSFA6B    & 183 & 21 & 162 & 0.05230289 & 0.06554729 & 0.08983800 & 0.010309278 & 0.07952872 & ⋯ & 0.0005011141 & -0.1570814 & 3.357992 & 15 & 2 &  4.109510 & 0.6134892 & Connector Hub & Elongation\\_Cortex\\_BRZ\\_2\\_BL & 10\\\\\n",
       "\\end{tabular}\n"
      ],
      "text/markdown": [
       "\n",
       "A spec_tbl_df: 10 × 23\n",
       "\n",
       "| gene &lt;chr&gt; | name &lt;chr&gt; | degree_all &lt;dbl&gt; | degree_in &lt;dbl&gt; | degree_out &lt;dbl&gt; | clustering_coefficient &lt;dbl&gt; | clustering_coefficient_weighted &lt;dbl&gt; | degree_centrality_all &lt;dbl&gt; | degree_centrality_in &lt;dbl&gt; | degree_centrality_out &lt;dbl&gt; | ⋯ ⋯ | page_rank &lt;dbl&gt; | assortative_coefficient &lt;dbl&gt; | average_path_length &lt;dbl&gt; | community_random_walk &lt;dbl&gt; | module &lt;dbl&gt; | connectivity &lt;dbl&gt; | participation &lt;dbl&gt; | role &lt;chr&gt; | cluster &lt;chr&gt; | rank &lt;int&gt; |\n",
       "|---|---|---|---|---|---|---|---|---|---|---|---|---|---|---|---|---|---|---|---|---|\n",
       "| AT5G15150 | HAT7      | 359 | 56 | 303 | 0.02721713 | 0.03879151 | 0.17623957 | 0.027491409 | 0.14874816 | ⋯ | 0.0015480165 | -0.1570814 | 3.357992 |  7 | 7 | 10.393196 | 0.5954822 | Connector Hub | Elongation_Cortex_BRZ_2_BL |  1 |\n",
       "| AT3G24120 | AT3G24120 | 250 | 25 | 225 | 0.02152610 | 0.02318024 | 0.12272950 | 0.012272950 | 0.11045655 | ⋯ | 0.0005736059 | -0.1570814 | 3.357992 |  7 | 7 |  6.483904 | 0.6101067 | Connector Hub | Elongation_Cortex_BRZ_2_BL |  2 |\n",
       "| AT1G26960 | HB-23     | 240 | 17 | 223 | 0.03218271 | 0.03473185 | 0.11782032 | 0.008345606 | 0.10947472 | ⋯ | 0.0006028192 | -0.1570814 | 3.357992 |  7 | 7 |  7.288758 | 0.5625879 | Connector Hub | Elongation_Cortex_BRZ_2_BL |  3 |\n",
       "| AT5G65310 | ATHB-5    | 218 |  0 | 218 | 0.01598106 | 0.01577668 | 0.10702013 | 0.000000000 | 0.10702013 | ⋯ | 0.0003585660 | -0.1570814 | 3.357992 |  7 | 7 |  5.334112 | 0.6415706 | Connector Hub | Elongation_Cortex_BRZ_2_BL |  4 |\n",
       "| AT1G33240 | GTL1      | 218 | 11 | 207 | 0.02980594 | 0.03118672 | 0.10702013 | 0.005400098 | 0.10162003 | ⋯ | 0.0004178512 | -0.1570814 | 3.357992 |  7 | 7 |  4.299300 | 0.6629196 | Connector Hub | Elongation_Cortex_BRZ_2_BL |  5 |\n",
       "| AT1G13260 | RAV1      | 198 |  9 | 189 | 0.03343075 | 0.03576109 | 0.09720177 | 0.004418262 | 0.09278351 | ⋯ | 0.0004076933 | -0.1570814 | 3.357992 | 15 | 2 |  5.420890 | 0.5910373 | Connector Hub | Elongation_Cortex_BRZ_2_BL |  6 |\n",
       "| AT1G69780 | HB-13     | 197 | 14 | 183 | 0.03599917 | 0.04528498 | 0.09671085 | 0.006872852 | 0.08983800 | ⋯ | 0.0005041402 | -0.1570814 | 3.357992 |  7 | 7 |  5.564071 | 0.5728558 | Connector Hub | Elongation_Cortex_BRZ_2_BL |  7 |\n",
       "| AT3G01220 | HB-20     | 195 | 14 | 181 | 0.03103357 | 0.04164520 | 0.09572901 | 0.006872852 | 0.08885616 | ⋯ | 0.0004347086 | -0.1570814 | 3.357992 |  7 | 7 |  6.023987 | 0.5490328 | Connector Hub | Elongation_Cortex_BRZ_2_BL |  8 |\n",
       "| AT4G31800 | WRKY18    | 207 | 42 | 165 | 0.03963229 | 0.05601617 | 0.10162003 | 0.020618557 | 0.08100147 | ⋯ | 0.0008413534 | -0.1570814 | 3.357992 | 15 | 2 |  4.451609 | 0.6394740 | Connector Hub | Elongation_Cortex_BRZ_2_BL |  9 |\n",
       "| AT3G22830 | HSFA6B    | 183 | 21 | 162 | 0.05230289 | 0.06554729 | 0.08983800 | 0.010309278 | 0.07952872 | ⋯ | 0.0005011141 | -0.1570814 | 3.357992 | 15 | 2 |  4.109510 | 0.6134892 | Connector Hub | Elongation_Cortex_BRZ_2_BL | 10 |\n",
       "\n"
      ],
      "text/plain": [
       "   gene      name      degree_all degree_in degree_out clustering_coefficient\n",
       "1  AT5G15150 HAT7      359        56        303        0.02721713            \n",
       "2  AT3G24120 AT3G24120 250        25        225        0.02152610            \n",
       "3  AT1G26960 HB-23     240        17        223        0.03218271            \n",
       "4  AT5G65310 ATHB-5    218         0        218        0.01598106            \n",
       "5  AT1G33240 GTL1      218        11        207        0.02980594            \n",
       "6  AT1G13260 RAV1      198         9        189        0.03343075            \n",
       "7  AT1G69780 HB-13     197        14        183        0.03599917            \n",
       "8  AT3G01220 HB-20     195        14        181        0.03103357            \n",
       "9  AT4G31800 WRKY18    207        42        165        0.03963229            \n",
       "10 AT3G22830 HSFA6B    183        21        162        0.05230289            \n",
       "   clustering_coefficient_weighted degree_centrality_all degree_centrality_in\n",
       "1  0.03879151                      0.17623957            0.027491409         \n",
       "2  0.02318024                      0.12272950            0.012272950         \n",
       "3  0.03473185                      0.11782032            0.008345606         \n",
       "4  0.01577668                      0.10702013            0.000000000         \n",
       "5  0.03118672                      0.10702013            0.005400098         \n",
       "6  0.03576109                      0.09720177            0.004418262         \n",
       "7  0.04528498                      0.09671085            0.006872852         \n",
       "8  0.04164520                      0.09572901            0.006872852         \n",
       "9  0.05601617                      0.10162003            0.020618557         \n",
       "10 0.06554729                      0.08983800            0.010309278         \n",
       "   degree_centrality_out ⋯ page_rank    assortative_coefficient\n",
       "1  0.14874816            ⋯ 0.0015480165 -0.1570814             \n",
       "2  0.11045655            ⋯ 0.0005736059 -0.1570814             \n",
       "3  0.10947472            ⋯ 0.0006028192 -0.1570814             \n",
       "4  0.10702013            ⋯ 0.0003585660 -0.1570814             \n",
       "5  0.10162003            ⋯ 0.0004178512 -0.1570814             \n",
       "6  0.09278351            ⋯ 0.0004076933 -0.1570814             \n",
       "7  0.08983800            ⋯ 0.0005041402 -0.1570814             \n",
       "8  0.08885616            ⋯ 0.0004347086 -0.1570814             \n",
       "9  0.08100147            ⋯ 0.0008413534 -0.1570814             \n",
       "10 0.07952872            ⋯ 0.0005011141 -0.1570814             \n",
       "   average_path_length community_random_walk module connectivity participation\n",
       "1  3.357992             7                    7      10.393196    0.5954822    \n",
       "2  3.357992             7                    7       6.483904    0.6101067    \n",
       "3  3.357992             7                    7       7.288758    0.5625879    \n",
       "4  3.357992             7                    7       5.334112    0.6415706    \n",
       "5  3.357992             7                    7       4.299300    0.6629196    \n",
       "6  3.357992            15                    2       5.420890    0.5910373    \n",
       "7  3.357992             7                    7       5.564071    0.5728558    \n",
       "8  3.357992             7                    7       6.023987    0.5490328    \n",
       "9  3.357992            15                    2       4.451609    0.6394740    \n",
       "10 3.357992            15                    2       4.109510    0.6134892    \n",
       "   role          cluster                    rank\n",
       "1  Connector Hub Elongation_Cortex_BRZ_2_BL  1  \n",
       "2  Connector Hub Elongation_Cortex_BRZ_2_BL  2  \n",
       "3  Connector Hub Elongation_Cortex_BRZ_2_BL  3  \n",
       "4  Connector Hub Elongation_Cortex_BRZ_2_BL  4  \n",
       "5  Connector Hub Elongation_Cortex_BRZ_2_BL  5  \n",
       "6  Connector Hub Elongation_Cortex_BRZ_2_BL  6  \n",
       "7  Connector Hub Elongation_Cortex_BRZ_2_BL  7  \n",
       "8  Connector Hub Elongation_Cortex_BRZ_2_BL  8  \n",
       "9  Connector Hub Elongation_Cortex_BRZ_2_BL  9  \n",
       "10 Connector Hub Elongation_Cortex_BRZ_2_BL 10  "
      ]
     },
     "metadata": {},
     "output_type": "display_data"
    }
   ],
   "source": [
    "(BL2hr_elong_cortex_10 <- arrange(BL2hr_elong_cortex_10, desc(degree_out)) %>%\n",
    "mutate(rank=rep(1:10)))"
   ]
  },
  {
   "cell_type": "code",
   "execution_count": 7,
   "metadata": {},
   "outputs": [
    {
     "data": {
      "image/png": "[encoded data removed]",
      "text/plain": [
       "plot without title"
      ]
     },
     "metadata": {
      "image/png": {
       "height": 210,
       "width": 210
      }
     },
     "output_type": "display_data"
    }
   ],
   "source": [
    "options(repr.plot.width=3.5, repr.plot.height=3.5)\n",
    "\n",
    "## add labels for HAT7 and GTL1 family \n",
    "\n",
    "# to highlight \n",
    "HAT7_degree <- filter(BL2hr_elong_cortex_10, name %in% c(\"HAT7\", \"HB-23\", \"HB-13\", \"HB-20\"))\n",
    "GTL1_degree <- filter(BL2hr_elong_cortex_10, name %in% c(\"GTL1\"))\n",
    "\n",
    "\n",
    "(deg_plot <- \n",
    "  ggplot(BL2hr_elong_cortex_10, \n",
    "         aes(y=fct_reorder(name, degree_out), \n",
    "             x=degree_out)) + \n",
    "  geom_point(color=\"darkgrey\", size=6) + \n",
    "  geom_point(data=HAT7_degree,\n",
    "             aes(y=name,x=degree_out),size=6, color=\"#014421\") + \n",
    "   geom_point(data=GTL1_degree,\n",
    "             aes(y=name,x=degree_out),size=6, color=\"#FFA500\") + \n",
    "  theme_cowplot() + \n",
    "  xlab(\"TF Out Degree\") + \n",
    "  ylab(\"Top 10 TFs\") + \n",
    " scale_x_continuous(limits=c(100, 375)) + \n",
    "  geom_text(data = BL2hr_elong_cortex_10, nudge_x = 15, angle = 0,hjust=\"left\",\n",
    "                           aes(x = degree_out, y = name, label = name)) +  \n",
    " geom_label(data = HAT7_degree, nudge_x = 15, angle = 0,hjust=\"left\",\n",
    "            fill= \"#014421\", colour = \"white\", fontface = \"bold\",\n",
    "                           aes(x = degree_out, y = name, label = name)) + \n",
    "  geom_label(data = GTL1_degree, nudge_x = 15, angle = 0,hjust=\"left\",\n",
    "            fill= \"#FFA500\", colour = \"black\", fontface = \"bold\",\n",
    "                           aes(x = degree_out, y = name, label = name)) + \n",
    "  theme(axis.text.y = element_blank(), \n",
    "       axis.ticks.y = element_blank()) + \n",
    "geom_text(data = BL2hr_elong_cortex_10, nudge_x = 0, angle = 0,color=\"black\",\n",
    "                           aes(x = degree_out, y = name, label = rank)) + \n",
    " geom_text(data = GTL1_degree, nudge_x = 0, angle = 0,color=\"black\", fontface=\"bold\",\n",
    "                           aes(x = degree_out, y = name, label = rank)) + \n",
    "geom_text(data = HAT7_degree, nudge_x = 0, angle = 0,color=\"white\", fontface=\"bold\",\n",
    "                           aes(x = degree_out, y = name, label = rank)))\n",
    "\n",
    "ggsave(\"./output/Cortex_2_hour_HAT7_HB_GTL1_degree_dot_plot_top_10_with_numbers.pdf\", width = 3.5, height = 3.5)"
   ]
  }
 ],
 "metadata": {
  "kernelspec": {
   "display_name": "R",
   "language": "R",
   "name": "ir"
  },
  "language_info": {
   "codemirror_mode": "r",
   "file_extension": ".r",
   "mimetype": "text/x-r-source",
   "name": "R",
   "pygments_lexer": "r",
   "version": "4.0.0"
  }
 },
 "nbformat": 4,
 "nbformat_minor": 4
}
