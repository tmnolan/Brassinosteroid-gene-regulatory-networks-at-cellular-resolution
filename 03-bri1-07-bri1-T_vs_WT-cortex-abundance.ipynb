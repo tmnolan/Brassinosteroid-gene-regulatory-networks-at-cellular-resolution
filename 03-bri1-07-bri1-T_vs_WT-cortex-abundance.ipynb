{
 "cells": [
  {
   "cell_type": "markdown",
   "metadata": {},
   "source": [
    "# Examine proportion of cortex cells in each developmental zone of bri1-T vs WT"
   ]
  },
  {
   "cell_type": "code",
   "execution_count": 1,
   "metadata": {},
   "outputs": [
    {
     "name": "stderr",
     "output_type": "stream",
     "text": [
      "── \u001b[1mAttaching packages\u001b[22m ─────────────────────────────────────── tidyverse 1.3.0 ──\n",
      "\n",
      "\u001b[32m✔\u001b[39m \u001b[34mggplot2\u001b[39m 3.3.5     \u001b[32m✔\u001b[39m \u001b[34mpurrr  \u001b[39m 0.3.4\n",
      "\u001b[32m✔\u001b[39m \u001b[34mtibble \u001b[39m 3.1.5     \u001b[32m✔\u001b[39m \u001b[34mdplyr  \u001b[39m 1.0.7\n",
      "\u001b[32m✔\u001b[39m \u001b[34mtidyr  \u001b[39m 1.1.4     \u001b[32m✔\u001b[39m \u001b[34mstringr\u001b[39m 1.4.0\n",
      "\u001b[32m✔\u001b[39m \u001b[34mreadr  \u001b[39m 1.4.0     \u001b[32m✔\u001b[39m \u001b[34mforcats\u001b[39m 0.5.0\n",
      "\n",
      "── \u001b[1mConflicts\u001b[22m ────────────────────────────────────────── tidyverse_conflicts() ──\n",
      "\u001b[31m✖\u001b[39m \u001b[34mdplyr\u001b[39m::\u001b[32mfilter()\u001b[39m masks \u001b[34mstats\u001b[39m::filter()\n",
      "\u001b[31m✖\u001b[39m \u001b[34mdplyr\u001b[39m::\u001b[32mlag()\u001b[39m    masks \u001b[34mstats\u001b[39m::lag()\n",
      "\n",
      "Registered S3 method overwritten by 'spatstat.geom':\n",
      "  method     from\n",
      "  print.boxx cli \n",
      "\n",
      "Attaching SeuratObject\n",
      "\n",
      "Loading required package: grid\n",
      "\n",
      "========================================\n",
      "ComplexHeatmap version 2.11.1\n",
      "Bioconductor page: http://bioconductor.org/packages/ComplexHeatmap/\n",
      "Github page: https://github.com/jokergoo/ComplexHeatmap\n",
      "Documentation: http://jokergoo.github.io/ComplexHeatmap-reference\n",
      "\n",
      "If you use it in published research, please cite:\n",
      "Gu, Z. Complex heatmaps reveal patterns and correlations in multidimensional \n",
      "  genomic data. Bioinformatics 2016.\n",
      "\n",
      "The new InteractiveComplexHeatmap package can directly export static \n",
      "complex heatmaps into an interactive Shiny app with zero effort. Have a try!\n",
      "\n",
      "This message can be suppressed by:\n",
      "  suppressPackageStartupMessages(library(ComplexHeatmap))\n",
      "========================================\n",
      "\n",
      "\n",
      "========================================\n",
      "circlize version 0.4.14\n",
      "CRAN page: https://cran.r-project.org/package=circlize\n",
      "Github page: https://github.com/jokergoo/circlize\n",
      "Documentation: https://jokergoo.github.io/circlize_book/book/\n",
      "\n",
      "If you use it in published research, please cite:\n",
      "Gu, Z. circlize implements and enhances circular visualization\n",
      "  in R. Bioinformatics 2014.\n",
      "\n",
      "This message can be suppressed by:\n",
      "  suppressPackageStartupMessages(library(circlize))\n",
      "========================================\n",
      "\n",
      "\n",
      "Warning message in checkMatrixPackageVersion():\n",
      "“Package version inconsistency detected.\n",
      "TMB was built with Matrix version 1.2.18\n",
      "Current Matrix version is 1.3.4\n",
      "Please re-install 'TMB' from source using install.packages('TMB', type = 'source') or ask CRAN for a binary version of 'TMB' matching CRAN's 'Matrix' package”\n",
      "Loading required package: SingleCellExperiment\n",
      "\n",
      "Loading required package: SummarizedExperiment\n",
      "\n",
      "Loading required package: MatrixGenerics\n",
      "\n",
      "Loading required package: matrixStats\n",
      "\n",
      "\n",
      "Attaching package: ‘matrixStats’\n",
      "\n",
      "\n",
      "The following object is masked from ‘package:dplyr’:\n",
      "\n",
      "    count\n",
      "\n",
      "\n",
      "\n",
      "Attaching package: ‘MatrixGenerics’\n",
      "\n",
      "\n",
      "The following objects are masked from ‘package:matrixStats’:\n",
      "\n",
      "    colAlls, colAnyNAs, colAnys, colAvgsPerRowSet, colCollapse,\n",
      "    colCounts, colCummaxs, colCummins, colCumprods, colCumsums,\n",
      "    colDiffs, colIQRDiffs, colIQRs, colLogSumExps, colMadDiffs,\n",
      "    colMads, colMaxs, colMeans2, colMedians, colMins, colOrderStats,\n",
      "    colProds, colQuantiles, colRanges, colRanks, colSdDiffs, colSds,\n",
      "    colSums2, colTabulates, colVarDiffs, colVars, colWeightedMads,\n",
      "    colWeightedMeans, colWeightedMedians, colWeightedSds,\n",
      "    colWeightedVars, rowAlls, rowAnyNAs, rowAnys, rowAvgsPerColSet,\n",
      "    rowCollapse, rowCounts, rowCummaxs, rowCummins, rowCumprods,\n",
      "    rowCumsums, rowDiffs, rowIQRDiffs, rowIQRs, rowLogSumExps,\n",
      "    rowMadDiffs, rowMads, rowMaxs, rowMeans2, rowMedians, rowMins,\n",
      "    rowOrderStats, rowProds, rowQuantiles, rowRanges, rowRanks,\n",
      "    rowSdDiffs, rowSds, rowSums2, rowTabulates, rowVarDiffs, rowVars,\n",
      "    rowWeightedMads, rowWeightedMeans, rowWeightedMedians,\n",
      "    rowWeightedSds, rowWeightedVars\n",
      "\n",
      "\n",
      "Loading required package: GenomicRanges\n",
      "\n",
      "Loading required package: stats4\n",
      "\n",
      "Loading required package: BiocGenerics\n",
      "\n",
      "Loading required package: parallel\n",
      "\n",
      "\n",
      "Attaching package: ‘BiocGenerics’\n",
      "\n",
      "\n",
      "The following objects are masked from ‘package:parallel’:\n",
      "\n",
      "    clusterApply, clusterApplyLB, clusterCall, clusterEvalQ,\n",
      "    clusterExport, clusterMap, parApply, parCapply, parLapply,\n",
      "    parLapplyLB, parRapply, parSapply, parSapplyLB\n",
      "\n",
      "\n",
      "The following object is masked from ‘package:limma’:\n",
      "\n",
      "    plotMA\n",
      "\n",
      "\n",
      "The following objects are masked from ‘package:dplyr’:\n",
      "\n",
      "    combine, intersect, setdiff, union\n",
      "\n",
      "\n",
      "The following objects are masked from ‘package:stats’:\n",
      "\n",
      "    IQR, mad, sd, var, xtabs\n",
      "\n",
      "\n",
      "The following objects are masked from ‘package:base’:\n",
      "\n",
      "    anyDuplicated, append, as.data.frame, basename, cbind, colnames,\n",
      "    dirname, do.call, duplicated, eval, evalq, Filter, Find, get, grep,\n",
      "    grepl, intersect, is.unsorted, lapply, Map, mapply, match, mget,\n",
      "    order, paste, pmax, pmax.int, pmin, pmin.int, Position, rank,\n",
      "    rbind, Reduce, rownames, sapply, setdiff, sort, table, tapply,\n",
      "    union, unique, unsplit, which.max, which.min\n",
      "\n",
      "\n",
      "Loading required package: S4Vectors\n",
      "\n",
      "\n",
      "Attaching package: ‘S4Vectors’\n",
      "\n",
      "\n",
      "The following objects are masked from ‘package:dplyr’:\n",
      "\n",
      "    first, rename\n",
      "\n",
      "\n",
      "The following object is masked from ‘package:tidyr’:\n",
      "\n",
      "    expand\n",
      "\n",
      "\n",
      "The following object is masked from ‘package:base’:\n",
      "\n",
      "    expand.grid\n",
      "\n",
      "\n",
      "Loading required package: IRanges\n",
      "\n",
      "\n",
      "Attaching package: ‘IRanges’\n",
      "\n",
      "\n",
      "The following objects are masked from ‘package:dplyr’:\n",
      "\n",
      "    collapse, desc, slice\n",
      "\n",
      "\n",
      "The following object is masked from ‘package:purrr’:\n",
      "\n",
      "    reduce\n",
      "\n",
      "\n",
      "Loading required package: GenomeInfoDb\n",
      "\n",
      "Loading required package: Biobase\n",
      "\n",
      "Welcome to Bioconductor\n",
      "\n",
      "    Vignettes contain introductory material; view with\n",
      "    'browseVignettes()'. To cite Bioconductor, see\n",
      "    'citation(\"Biobase\")', and for packages 'citation(\"pkgname\")'.\n",
      "\n",
      "\n",
      "\n",
      "Attaching package: ‘Biobase’\n",
      "\n",
      "\n",
      "The following object is masked from ‘package:MatrixGenerics’:\n",
      "\n",
      "    rowMedians\n",
      "\n",
      "\n",
      "The following objects are masked from ‘package:matrixStats’:\n",
      "\n",
      "    anyMissing, rowMedians\n",
      "\n",
      "\n",
      "\n",
      "Attaching package: ‘SummarizedExperiment’\n",
      "\n",
      "\n",
      "The following object is masked from ‘package:SeuratObject’:\n",
      "\n",
      "    Assays\n",
      "\n",
      "\n",
      "The following object is masked from ‘package:Seurat’:\n",
      "\n",
      "    Assays\n",
      "\n",
      "\n",
      "\n",
      "Attaching package: ‘future’\n",
      "\n",
      "\n",
      "The following object is masked from ‘package:SummarizedExperiment’:\n",
      "\n",
      "    values\n",
      "\n",
      "\n",
      "The following object is masked from ‘package:GenomicRanges’:\n",
      "\n",
      "    values\n",
      "\n",
      "\n",
      "The following object is masked from ‘package:IRanges’:\n",
      "\n",
      "    values\n",
      "\n",
      "\n",
      "The following object is masked from ‘package:S4Vectors’:\n",
      "\n",
      "    values\n",
      "\n",
      "\n"
     ]
    }
   ],
   "source": [
    "library(tidyverse)\n",
    "library(Seurat)\n",
    "library(cowplot)\n",
    "library(ComplexHeatmap)\n",
    "library(circlize)\n",
    "library(GeneOverlap)\n",
    "library(gprofiler2)\n",
    "library(ggrepel)\n",
    "library(muscat)\n",
    "library(purrr)\n",
    "library(limma)\n",
    "library(scran)\n",
    "library(future)"
   ]
  },
  {
   "cell_type": "code",
   "execution_count": 2,
   "metadata": {},
   "outputs": [],
   "source": [
    "#for 200gb ram \n",
    "options(future.globals.maxSize = 200000 * 1024^2)"
   ]
  },
  {
   "cell_type": "code",
   "execution_count": 3,
   "metadata": {},
   "outputs": [],
   "source": [
    "rc.integrated <- readRDS(\"../data/integrations/rc.integrated_15S_BRZ_bri1_Li_seu3_clean.rds\")"
   ]
  },
  {
   "cell_type": "code",
   "execution_count": 4,
   "metadata": {},
   "outputs": [
    {
     "data": {
      "text/plain": [
       "An object of class Seurat \n",
       "71252 features across 78435 samples within 3 assays \n",
       "Active assay: integrated (17338 features, 17338 variable features)\n",
       " 2 other assays present: RNA, SCT\n",
       " 4 dimensional reductions calculated: pca, umap, umap_3D, umap_2D"
      ]
     },
     "metadata": {},
     "output_type": "display_data"
    }
   ],
   "source": [
    "rc.integrated"
   ]
  },
  {
   "cell_type": "markdown",
   "metadata": {},
   "source": [
    "## Cell type and developmental stage metadata\n",
    "\n",
    "- Developmental stage: `time_zone`\n",
    "- Cell type:`cell_type`\n",
    "- Combination of cell type and developmental stage: `time_zone_cell_type`\n",
    "- Combination of cell type and developmental stage with cell subtypes (not used): `time_zone_cell_subtypes` "
   ]
  },
  {
   "cell_type": "code",
   "execution_count": 5,
   "metadata": {},
   "outputs": [
    {
     "name": "stderr",
     "output_type": "stream",
     "text": [
      "\n",
      "\u001b[36m──\u001b[39m \u001b[1m\u001b[1mColumn specification\u001b[1m\u001b[22m \u001b[36m────────────────────────────────────────────────────────\u001b[39m\n",
      "cols(\n",
      "  AGI = \u001b[31mcol_character()\u001b[39m,\n",
      "  Name = \u001b[31mcol_character()\u001b[39m,\n",
      "  Type = \u001b[31mcol_character()\u001b[39m\n",
      ")\n",
      "\n",
      "\n"
     ]
    }
   ],
   "source": [
    "feature_names <- read_tsv(\"./data/features.tsv.gz\", col_names = c(\"AGI\", \"Name\", \"Type\")) %>%\n",
    "  select(-Type) %>%\n",
    "  distinct()"
   ]
  },
  {
   "cell_type": "code",
   "execution_count": 6,
   "metadata": {},
   "outputs": [
    {
     "data": {
      "text/plain": [
       "\n",
       "                   bri1_T pCVP2_BRI1_Citrine_bri1_T      pGL2_BRI1_GFP_bri1_T \n",
       "                    12649                     12612                      7878 \n",
       "                       WT \n",
       "                    45296 "
      ]
     },
     "metadata": {},
     "output_type": "display_data"
    }
   ],
   "source": [
    "table(rc.integrated$genotype)"
   ]
  },
  {
   "cell_type": "code",
   "execution_count": 7,
   "metadata": {},
   "outputs": [],
   "source": [
    "# subset samples you want to compare\n",
    "\n",
    "rc.integrated <- subset(rc.integrated, subset = sample %in% c(\"sc_130\", \"sc_134\",\"sc_131\",\"sc_135\"))\n"
   ]
  },
  {
   "cell_type": "code",
   "execution_count": 8,
   "metadata": {},
   "outputs": [],
   "source": [
    "rc.integrated$genotype <- factor(rc.integrated$genotype, levels=c(\"WT\", \"bri1_T\"))"
   ]
  },
  {
   "cell_type": "code",
   "execution_count": 9,
   "metadata": {},
   "outputs": [
    {
     "data": {
      "text/plain": [
       "                                   \n",
       "                                      WT bri1_T\n",
       "  Distal Columella                  1376    899\n",
       "  Distal Lateral Root Cap           1669    735\n",
       "  Elongation_Atrichoblast           1346    462\n",
       "  Elongation_Cortex                 1354    511\n",
       "  Elongation_Endodermis              790    538\n",
       "  Elongation_Pericycle               536    962\n",
       "  Elongation_Phloem                  102    118\n",
       "  Elongation_Procambium              313    384\n",
       "  Elongation_Trichoblast             669    283\n",
       "  Elongation_Xylem                   354    332\n",
       "  Maturation_Atrichoblast            612    475\n",
       "  Maturation_Cortex                  426    320\n",
       "  Maturation_Endodermis              490    411\n",
       "  Maturation_Pericycle               183    247\n",
       "  Maturation_Phloem                   72     80\n",
       "  Maturation_Procambium              166    189\n",
       "  Maturation_Trichoblast             845    559\n",
       "  Maturation_Xylem                    82     90\n",
       "  Proliferation Domain_Atrichoblast   87   1150\n",
       "  Proliferation Domain_Cortex          0     71\n",
       "  Proliferation Domain_Endodermis     17     54\n",
       "  Proliferation Domain_Pericycle      54     35\n",
       "  Proliferation Domain_Phloem          0      5\n",
       "  Proliferation Domain_Procambium      0      1\n",
       "  Proliferation Domain_Trichoblast   108    419\n",
       "  Proliferation Domain_Xylem           0     13\n",
       "  Proximal Columella                 105     65\n",
       "  Proximal Lateral Root Cap         1487   2015\n",
       "  Transition Domain_Atrichoblast     573    393\n",
       "  Transition Domain_Cortex            97    402\n",
       "  Transition Domain_Endodermis         0      9\n",
       "  Transition Domain_Pericycle          3     19\n",
       "  Transition Domain_Phloem             0     29\n",
       "  Transition Domain_Procambium         0      5\n",
       "  Transition Domain_Trichoblast      417    353\n",
       "  Transition Domain_Xylem              1     16"
      ]
     },
     "metadata": {},
     "output_type": "display_data"
    }
   ],
   "source": [
    "table(rc.integrated$time_zone_cell_type, rc.integrated$genotype)"
   ]
  },
  {
   "cell_type": "code",
   "execution_count": 10,
   "metadata": {},
   "outputs": [
    {
     "data": {
      "text/html": [
       "<table>\n",
       "<caption>A data.frame: 2 × 2</caption>\n",
       "<thead>\n",
       "\t<tr><th scope=col>sample</th><th scope=col>total_cells</th></tr>\n",
       "\t<tr><th scope=col>&lt;fct&gt;</th><th scope=col>&lt;int&gt;</th></tr>\n",
       "</thead>\n",
       "<tbody>\n",
       "\t<tr><td>WT    </td><td>14334</td></tr>\n",
       "\t<tr><td>bri1_T</td><td>12649</td></tr>\n",
       "</tbody>\n",
       "</table>\n"
      ],
      "text/latex": [
       "A data.frame: 2 × 2\n",
       "\\begin{tabular}{ll}\n",
       " sample & total\\_cells\\\\\n",
       " <fct> & <int>\\\\\n",
       "\\hline\n",
       "\t WT     & 14334\\\\\n",
       "\t bri1\\_T & 12649\\\\\n",
       "\\end{tabular}\n"
      ],
      "text/markdown": [
       "\n",
       "A data.frame: 2 × 2\n",
       "\n",
       "| sample &lt;fct&gt; | total_cells &lt;int&gt; |\n",
       "|---|---|\n",
       "| WT     | 14334 |\n",
       "| bri1_T | 12649 |\n",
       "\n"
      ],
      "text/plain": [
       "  sample total_cells\n",
       "1 WT     14334      \n",
       "2 bri1_T 12649      "
      ]
     },
     "metadata": {},
     "output_type": "display_data"
    },
    {
     "name": "stderr",
     "output_type": "stream",
     "text": [
      "Joining, by = \"sample\"\n",
      "\n"
     ]
    },
    {
     "data": {
      "text/html": [
       "<table>\n",
       "<caption>A data.frame: 8 × 5</caption>\n",
       "<thead>\n",
       "\t<tr><th scope=col>sample</th><th scope=col>celltype</th><th scope=col>n_celltype</th><th scope=col>total_cells</th><th scope=col>proportion</th></tr>\n",
       "\t<tr><th scope=col>&lt;chr&gt;</th><th scope=col>&lt;chr&gt;</th><th scope=col>&lt;dbl&gt;</th><th scope=col>&lt;int&gt;</th><th scope=col>&lt;dbl&gt;</th></tr>\n",
       "</thead>\n",
       "<tbody>\n",
       "\t<tr><td>bri1_T</td><td>Elongation_Cortex          </td><td> 511</td><td>12649</td><td>0.040398450</td></tr>\n",
       "\t<tr><td>bri1_T</td><td>Maturation_Cortex          </td><td> 320</td><td>12649</td><td>0.025298443</td></tr>\n",
       "\t<tr><td>bri1_T</td><td>Proliferation Domain_Cortex</td><td>  71</td><td>12649</td><td>0.005613092</td></tr>\n",
       "\t<tr><td>bri1_T</td><td>Transition Domain_Cortex   </td><td> 402</td><td>12649</td><td>0.031781168</td></tr>\n",
       "\t<tr><td>WT    </td><td>Elongation_Cortex          </td><td>1354</td><td>14334</td><td>0.094460723</td></tr>\n",
       "\t<tr><td>WT    </td><td>Maturation_Cortex          </td><td> 426</td><td>14334</td><td>0.029719548</td></tr>\n",
       "\t<tr><td>WT    </td><td>Transition Domain_Cortex   </td><td>  97</td><td>14334</td><td>0.006767127</td></tr>\n",
       "\t<tr><td>WT    </td><td>Proliferation Domain_Cortex</td><td>   0</td><td>14334</td><td>0.000000000</td></tr>\n",
       "</tbody>\n",
       "</table>\n"
      ],
      "text/latex": [
       "A data.frame: 8 × 5\n",
       "\\begin{tabular}{lllll}\n",
       " sample & celltype & n\\_celltype & total\\_cells & proportion\\\\\n",
       " <chr> & <chr> & <dbl> & <int> & <dbl>\\\\\n",
       "\\hline\n",
       "\t bri1\\_T & Elongation\\_Cortex           &  511 & 12649 & 0.040398450\\\\\n",
       "\t bri1\\_T & Maturation\\_Cortex           &  320 & 12649 & 0.025298443\\\\\n",
       "\t bri1\\_T & Proliferation Domain\\_Cortex &   71 & 12649 & 0.005613092\\\\\n",
       "\t bri1\\_T & Transition Domain\\_Cortex    &  402 & 12649 & 0.031781168\\\\\n",
       "\t WT     & Elongation\\_Cortex           & 1354 & 14334 & 0.094460723\\\\\n",
       "\t WT     & Maturation\\_Cortex           &  426 & 14334 & 0.029719548\\\\\n",
       "\t WT     & Transition Domain\\_Cortex    &   97 & 14334 & 0.006767127\\\\\n",
       "\t WT     & Proliferation Domain\\_Cortex &    0 & 14334 & 0.000000000\\\\\n",
       "\\end{tabular}\n"
      ],
      "text/markdown": [
       "\n",
       "A data.frame: 8 × 5\n",
       "\n",
       "| sample &lt;chr&gt; | celltype &lt;chr&gt; | n_celltype &lt;dbl&gt; | total_cells &lt;int&gt; | proportion &lt;dbl&gt; |\n",
       "|---|---|---|---|---|\n",
       "| bri1_T | Elongation_Cortex           |  511 | 12649 | 0.040398450 |\n",
       "| bri1_T | Maturation_Cortex           |  320 | 12649 | 0.025298443 |\n",
       "| bri1_T | Proliferation Domain_Cortex |   71 | 12649 | 0.005613092 |\n",
       "| bri1_T | Transition Domain_Cortex    |  402 | 12649 | 0.031781168 |\n",
       "| WT     | Elongation_Cortex           | 1354 | 14334 | 0.094460723 |\n",
       "| WT     | Maturation_Cortex           |  426 | 14334 | 0.029719548 |\n",
       "| WT     | Transition Domain_Cortex    |   97 | 14334 | 0.006767127 |\n",
       "| WT     | Proliferation Domain_Cortex |    0 | 14334 | 0.000000000 |\n",
       "\n"
      ],
      "text/plain": [
       "  sample celltype                    n_celltype total_cells proportion \n",
       "1 bri1_T Elongation_Cortex            511       12649       0.040398450\n",
       "2 bri1_T Maturation_Cortex            320       12649       0.025298443\n",
       "3 bri1_T Proliferation Domain_Cortex   71       12649       0.005613092\n",
       "4 bri1_T Transition Domain_Cortex     402       12649       0.031781168\n",
       "5 WT     Elongation_Cortex           1354       14334       0.094460723\n",
       "6 WT     Maturation_Cortex            426       14334       0.029719548\n",
       "7 WT     Transition Domain_Cortex      97       14334       0.006767127\n",
       "8 WT     Proliferation Domain_Cortex    0       14334       0.000000000"
      ]
     },
     "metadata": {},
     "output_type": "display_data"
    },
    {
     "data": {
      "text/html": [
       "<table>\n",
       "<caption>A tibble: 4 × 2</caption>\n",
       "<thead>\n",
       "\t<tr><th scope=col>celltype</th><th scope=col>wt_prop</th></tr>\n",
       "\t<tr><th scope=col>&lt;chr&gt;</th><th scope=col>&lt;dbl&gt;</th></tr>\n",
       "</thead>\n",
       "<tbody>\n",
       "\t<tr><td>Elongation_Cortex          </td><td>0.094460723</td></tr>\n",
       "\t<tr><td>Maturation_Cortex          </td><td>0.029719548</td></tr>\n",
       "\t<tr><td>Proliferation Domain_Cortex</td><td>0.000000000</td></tr>\n",
       "\t<tr><td>Transition Domain_Cortex   </td><td>0.006767127</td></tr>\n",
       "</tbody>\n",
       "</table>\n"
      ],
      "text/latex": [
       "A tibble: 4 × 2\n",
       "\\begin{tabular}{ll}\n",
       " celltype & wt\\_prop\\\\\n",
       " <chr> & <dbl>\\\\\n",
       "\\hline\n",
       "\t Elongation\\_Cortex           & 0.094460723\\\\\n",
       "\t Maturation\\_Cortex           & 0.029719548\\\\\n",
       "\t Proliferation Domain\\_Cortex & 0.000000000\\\\\n",
       "\t Transition Domain\\_Cortex    & 0.006767127\\\\\n",
       "\\end{tabular}\n"
      ],
      "text/markdown": [
       "\n",
       "A tibble: 4 × 2\n",
       "\n",
       "| celltype &lt;chr&gt; | wt_prop &lt;dbl&gt; |\n",
       "|---|---|\n",
       "| Elongation_Cortex           | 0.094460723 |\n",
       "| Maturation_Cortex           | 0.029719548 |\n",
       "| Proliferation Domain_Cortex | 0.000000000 |\n",
       "| Transition Domain_Cortex    | 0.006767127 |\n",
       "\n"
      ],
      "text/plain": [
       "  celltype                    wt_prop    \n",
       "1 Elongation_Cortex           0.094460723\n",
       "2 Maturation_Cortex           0.029719548\n",
       "3 Proliferation Domain_Cortex 0.000000000\n",
       "4 Transition Domain_Cortex    0.006767127"
      ]
     },
     "metadata": {},
     "output_type": "display_data"
    },
    {
     "data": {
      "text/html": [
       "<table>\n",
       "<caption>A tibble: 4 × 2</caption>\n",
       "<thead>\n",
       "\t<tr><th scope=col>celltype</th><th scope=col>wt_prop</th></tr>\n",
       "\t<tr><th scope=col>&lt;chr&gt;</th><th scope=col>&lt;dbl&gt;</th></tr>\n",
       "</thead>\n",
       "<tbody>\n",
       "\t<tr><td>Elongation_Cortex          </td><td>0.094460723</td></tr>\n",
       "\t<tr><td>Maturation_Cortex          </td><td>0.029719548</td></tr>\n",
       "\t<tr><td>Proliferation Domain_Cortex</td><td>0.000000000</td></tr>\n",
       "\t<tr><td>Transition Domain_Cortex   </td><td>0.006767127</td></tr>\n",
       "</tbody>\n",
       "</table>\n"
      ],
      "text/latex": [
       "A tibble: 4 × 2\n",
       "\\begin{tabular}{ll}\n",
       " celltype & wt\\_prop\\\\\n",
       " <chr> & <dbl>\\\\\n",
       "\\hline\n",
       "\t Elongation\\_Cortex           & 0.094460723\\\\\n",
       "\t Maturation\\_Cortex           & 0.029719548\\\\\n",
       "\t Proliferation Domain\\_Cortex & 0.000000000\\\\\n",
       "\t Transition Domain\\_Cortex    & 0.006767127\\\\\n",
       "\\end{tabular}\n"
      ],
      "text/markdown": [
       "\n",
       "A tibble: 4 × 2\n",
       "\n",
       "| celltype &lt;chr&gt; | wt_prop &lt;dbl&gt; |\n",
       "|---|---|\n",
       "| Elongation_Cortex           | 0.094460723 |\n",
       "| Maturation_Cortex           | 0.029719548 |\n",
       "| Proliferation Domain_Cortex | 0.000000000 |\n",
       "| Transition Domain_Cortex    | 0.006767127 |\n",
       "\n"
      ],
      "text/plain": [
       "  celltype                    wt_prop    \n",
       "1 Elongation_Cortex           0.094460723\n",
       "2 Maturation_Cortex           0.029719548\n",
       "3 Proliferation Domain_Cortex 0.000000000\n",
       "4 Transition Domain_Cortex    0.006767127"
      ]
     },
     "metadata": {},
     "output_type": "display_data"
    }
   ],
   "source": [
    "sample_num_df <- data.frame(table(rc.integrated$genotype))\n",
    "\n",
    "sample_num_df <- dplyr::rename(sample_num_df, \"total_cells\"=\"Freq\", \"sample\"=\"Var1\")\n",
    "\n",
    "sample_num_df\n",
    "\n",
    "rc.integrated$sample.cell.p <- paste(rc.integrated$genotype, rc.integrated$time_zone_cell_type, sep = \",\")\n",
    "\n",
    "sample_cell_df <- data.frame(table(rc.integrated$sample.cell.p))\n",
    "\n",
    "sample_cell_df <- separate(sample_cell_df, col=\"Var1\", sep=\",\", into=c(\"sample\", \"celltype\")) %>%\n",
    "  dplyr::rename(\"n_celltype\"=\"Freq\")\n",
    "\n",
    "\n",
    "# there are no cortex proliferation domain cells in this dataset - add column to indicate\n",
    "\n",
    "df <- data.frame (sample=\"WT\",\n",
    "    celltype  = \"Proliferation Domain_Cortex\",\n",
    "                  n_celltype = 0)\n",
    "\n",
    "sample_cell_df <- bind_rows(sample_cell_df, df) %>%  \n",
    "left_join(sample_num_df) %>%\n",
    "  mutate(proportion=n_celltype/total_cells)\n",
    "\n",
    "sample_cell_df %>% filter(celltype %in% c(\"Maturation_Cortex\", \"Elongation_Cortex\", \"Transition Domain_Cortex\", \"Proliferation Domain_Cortex\"))\n",
    "\n",
    "wt_cells <- filter(sample_cell_df, sample == \"WT\") %>%\n",
    "  group_by(celltype) %>%\n",
    "  summarise(wt_prop=mean(proportion))\n",
    "\n",
    "wt_cells %>% filter(celltype %in% c(\"Maturation_Cortex\", \"Elongation_Cortex\", \"Transition Domain_Cortex\", \"Proliferation Domain_Cortex\"))\n",
    "\n",
    "wt_cells %>% filter(celltype %in% c(\"Maturation_Cortex\", \"Elongation_Cortex\", \"Transition Domain_Cortex\", \"Proliferation Domain_Cortex\"))"
   ]
  },
  {
   "cell_type": "code",
   "execution_count": 11,
   "metadata": {},
   "outputs": [
    {
     "name": "stderr",
     "output_type": "stream",
     "text": [
      "Joining, by = \"celltype\"\n",
      "\n"
     ]
    },
    {
     "data": {
      "text/html": [
       "<table>\n",
       "<caption>A data.frame: 8 × 7</caption>\n",
       "<thead>\n",
       "\t<tr><th scope=col>sample</th><th scope=col>celltype</th><th scope=col>n_celltype</th><th scope=col>total_cells</th><th scope=col>proportion</th><th scope=col>wt_prop</th><th scope=col>wt_norm_prop</th></tr>\n",
       "\t<tr><th scope=col>&lt;chr&gt;</th><th scope=col>&lt;chr&gt;</th><th scope=col>&lt;dbl&gt;</th><th scope=col>&lt;int&gt;</th><th scope=col>&lt;dbl&gt;</th><th scope=col>&lt;dbl&gt;</th><th scope=col>&lt;dbl&gt;</th></tr>\n",
       "</thead>\n",
       "<tbody>\n",
       "\t<tr><td>bri1_T</td><td>Elongation_Cortex          </td><td> 511</td><td>12649</td><td>0.040398450</td><td>0.094460723</td><td>0.4276746</td></tr>\n",
       "\t<tr><td>bri1_T</td><td>Maturation_Cortex          </td><td> 320</td><td>12649</td><td>0.025298443</td><td>0.029719548</td><td>0.8512391</td></tr>\n",
       "\t<tr><td>bri1_T</td><td>Proliferation Domain_Cortex</td><td>  71</td><td>12649</td><td>0.005613092</td><td>0.000000000</td><td>      Inf</td></tr>\n",
       "\t<tr><td>bri1_T</td><td>Transition Domain_Cortex   </td><td> 402</td><td>12649</td><td>0.031781168</td><td>0.006767127</td><td>4.6964048</td></tr>\n",
       "\t<tr><td>WT    </td><td>Elongation_Cortex          </td><td>1354</td><td>14334</td><td>0.094460723</td><td>0.094460723</td><td>1.0000000</td></tr>\n",
       "\t<tr><td>WT    </td><td>Maturation_Cortex          </td><td> 426</td><td>14334</td><td>0.029719548</td><td>0.029719548</td><td>1.0000000</td></tr>\n",
       "\t<tr><td>WT    </td><td>Transition Domain_Cortex   </td><td>  97</td><td>14334</td><td>0.006767127</td><td>0.006767127</td><td>1.0000000</td></tr>\n",
       "\t<tr><td>WT    </td><td>Proliferation Domain_Cortex</td><td>   0</td><td>14334</td><td>0.000000000</td><td>0.000000000</td><td>      NaN</td></tr>\n",
       "</tbody>\n",
       "</table>\n"
      ],
      "text/latex": [
       "A data.frame: 8 × 7\n",
       "\\begin{tabular}{lllllll}\n",
       " sample & celltype & n\\_celltype & total\\_cells & proportion & wt\\_prop & wt\\_norm\\_prop\\\\\n",
       " <chr> & <chr> & <dbl> & <int> & <dbl> & <dbl> & <dbl>\\\\\n",
       "\\hline\n",
       "\t bri1\\_T & Elongation\\_Cortex           &  511 & 12649 & 0.040398450 & 0.094460723 & 0.4276746\\\\\n",
       "\t bri1\\_T & Maturation\\_Cortex           &  320 & 12649 & 0.025298443 & 0.029719548 & 0.8512391\\\\\n",
       "\t bri1\\_T & Proliferation Domain\\_Cortex &   71 & 12649 & 0.005613092 & 0.000000000 &       Inf\\\\\n",
       "\t bri1\\_T & Transition Domain\\_Cortex    &  402 & 12649 & 0.031781168 & 0.006767127 & 4.6964048\\\\\n",
       "\t WT     & Elongation\\_Cortex           & 1354 & 14334 & 0.094460723 & 0.094460723 & 1.0000000\\\\\n",
       "\t WT     & Maturation\\_Cortex           &  426 & 14334 & 0.029719548 & 0.029719548 & 1.0000000\\\\\n",
       "\t WT     & Transition Domain\\_Cortex    &   97 & 14334 & 0.006767127 & 0.006767127 & 1.0000000\\\\\n",
       "\t WT     & Proliferation Domain\\_Cortex &    0 & 14334 & 0.000000000 & 0.000000000 &       NaN\\\\\n",
       "\\end{tabular}\n"
      ],
      "text/markdown": [
       "\n",
       "A data.frame: 8 × 7\n",
       "\n",
       "| sample &lt;chr&gt; | celltype &lt;chr&gt; | n_celltype &lt;dbl&gt; | total_cells &lt;int&gt; | proportion &lt;dbl&gt; | wt_prop &lt;dbl&gt; | wt_norm_prop &lt;dbl&gt; |\n",
       "|---|---|---|---|---|---|---|\n",
       "| bri1_T | Elongation_Cortex           |  511 | 12649 | 0.040398450 | 0.094460723 | 0.4276746 |\n",
       "| bri1_T | Maturation_Cortex           |  320 | 12649 | 0.025298443 | 0.029719548 | 0.8512391 |\n",
       "| bri1_T | Proliferation Domain_Cortex |   71 | 12649 | 0.005613092 | 0.000000000 |       Inf |\n",
       "| bri1_T | Transition Domain_Cortex    |  402 | 12649 | 0.031781168 | 0.006767127 | 4.6964048 |\n",
       "| WT     | Elongation_Cortex           | 1354 | 14334 | 0.094460723 | 0.094460723 | 1.0000000 |\n",
       "| WT     | Maturation_Cortex           |  426 | 14334 | 0.029719548 | 0.029719548 | 1.0000000 |\n",
       "| WT     | Transition Domain_Cortex    |   97 | 14334 | 0.006767127 | 0.006767127 | 1.0000000 |\n",
       "| WT     | Proliferation Domain_Cortex |    0 | 14334 | 0.000000000 | 0.000000000 |       NaN |\n",
       "\n"
      ],
      "text/plain": [
       "  sample celltype                    n_celltype total_cells proportion \n",
       "1 bri1_T Elongation_Cortex            511       12649       0.040398450\n",
       "2 bri1_T Maturation_Cortex            320       12649       0.025298443\n",
       "3 bri1_T Proliferation Domain_Cortex   71       12649       0.005613092\n",
       "4 bri1_T Transition Domain_Cortex     402       12649       0.031781168\n",
       "5 WT     Elongation_Cortex           1354       14334       0.094460723\n",
       "6 WT     Maturation_Cortex            426       14334       0.029719548\n",
       "7 WT     Transition Domain_Cortex      97       14334       0.006767127\n",
       "8 WT     Proliferation Domain_Cortex    0       14334       0.000000000\n",
       "  wt_prop     wt_norm_prop\n",
       "1 0.094460723 0.4276746   \n",
       "2 0.029719548 0.8512391   \n",
       "3 0.000000000       Inf   \n",
       "4 0.006767127 4.6964048   \n",
       "5 0.094460723 1.0000000   \n",
       "6 0.029719548 1.0000000   \n",
       "7 0.006767127 1.0000000   \n",
       "8 0.000000000       NaN   "
      ]
     },
     "metadata": {},
     "output_type": "display_data"
    },
    {
     "data": {
      "text/html": [
       "<table>\n",
       "<caption>A tibble: 2 × 37</caption>\n",
       "<thead>\n",
       "\t<tr><th scope=col>sample</th><th scope=col>Distal Columella</th><th scope=col>Distal Lateral Root Cap</th><th scope=col>Elongation_Atrichoblast</th><th scope=col>Elongation_Cortex</th><th scope=col>Elongation_Endodermis</th><th scope=col>Elongation_Pericycle</th><th scope=col>Elongation_Phloem</th><th scope=col>Elongation_Procambium</th><th scope=col>Elongation_Trichoblast</th><th scope=col>⋯</th><th scope=col>Proximal Columella</th><th scope=col>Proximal Lateral Root Cap</th><th scope=col>Transition Domain_Atrichoblast</th><th scope=col>Transition Domain_Cortex</th><th scope=col>Transition Domain_Endodermis</th><th scope=col>Transition Domain_Pericycle</th><th scope=col>Transition Domain_Phloem</th><th scope=col>Transition Domain_Procambium</th><th scope=col>Transition Domain_Trichoblast</th><th scope=col>Transition Domain_Xylem</th></tr>\n",
       "\t<tr><th scope=col>&lt;chr&gt;</th><th scope=col>&lt;dbl&gt;</th><th scope=col>&lt;dbl&gt;</th><th scope=col>&lt;dbl&gt;</th><th scope=col>&lt;dbl&gt;</th><th scope=col>&lt;dbl&gt;</th><th scope=col>&lt;dbl&gt;</th><th scope=col>&lt;dbl&gt;</th><th scope=col>&lt;dbl&gt;</th><th scope=col>&lt;dbl&gt;</th><th scope=col>⋯</th><th scope=col>&lt;dbl&gt;</th><th scope=col>&lt;dbl&gt;</th><th scope=col>&lt;dbl&gt;</th><th scope=col>&lt;dbl&gt;</th><th scope=col>&lt;dbl&gt;</th><th scope=col>&lt;dbl&gt;</th><th scope=col>&lt;dbl&gt;</th><th scope=col>&lt;dbl&gt;</th><th scope=col>&lt;dbl&gt;</th><th scope=col>&lt;dbl&gt;</th></tr>\n",
       "</thead>\n",
       "<tbody>\n",
       "\t<tr><td>bri1_T</td><td>0.7403762</td><td>0.4990479</td><td>0.3889628</td><td>0.4276746</td><td>0.7717318</td><td>2.033862</td><td>1.310971</td><td>1.390267</td><td>0.4793707</td><td>⋯</td><td>0.7015123</td><td>1.53559</td><td>0.7772292</td><td>4.696405</td><td>NA</td><td>7.17701</td><td>NA</td><td>NA</td><td>0.9592899</td><td>18.13139</td></tr>\n",
       "\t<tr><td>WT    </td><td>1.0000000</td><td>1.0000000</td><td>1.0000000</td><td>1.0000000</td><td>1.0000000</td><td>1.000000</td><td>1.000000</td><td>1.000000</td><td>1.0000000</td><td>⋯</td><td>1.0000000</td><td>1.00000</td><td>1.0000000</td><td>1.000000</td><td>NA</td><td>1.00000</td><td>NA</td><td>NA</td><td>1.0000000</td><td> 1.00000</td></tr>\n",
       "</tbody>\n",
       "</table>\n"
      ],
      "text/latex": [
       "A tibble: 2 × 37\n",
       "\\begin{tabular}{lllllllllllllllllllll}\n",
       " sample & Distal Columella & Distal Lateral Root Cap & Elongation\\_Atrichoblast & Elongation\\_Cortex & Elongation\\_Endodermis & Elongation\\_Pericycle & Elongation\\_Phloem & Elongation\\_Procambium & Elongation\\_Trichoblast & ⋯ & Proximal Columella & Proximal Lateral Root Cap & Transition Domain\\_Atrichoblast & Transition Domain\\_Cortex & Transition Domain\\_Endodermis & Transition Domain\\_Pericycle & Transition Domain\\_Phloem & Transition Domain\\_Procambium & Transition Domain\\_Trichoblast & Transition Domain\\_Xylem\\\\\n",
       " <chr> & <dbl> & <dbl> & <dbl> & <dbl> & <dbl> & <dbl> & <dbl> & <dbl> & <dbl> & ⋯ & <dbl> & <dbl> & <dbl> & <dbl> & <dbl> & <dbl> & <dbl> & <dbl> & <dbl> & <dbl>\\\\\n",
       "\\hline\n",
       "\t bri1\\_T & 0.7403762 & 0.4990479 & 0.3889628 & 0.4276746 & 0.7717318 & 2.033862 & 1.310971 & 1.390267 & 0.4793707 & ⋯ & 0.7015123 & 1.53559 & 0.7772292 & 4.696405 & NA & 7.17701 & NA & NA & 0.9592899 & 18.13139\\\\\n",
       "\t WT     & 1.0000000 & 1.0000000 & 1.0000000 & 1.0000000 & 1.0000000 & 1.000000 & 1.000000 & 1.000000 & 1.0000000 & ⋯ & 1.0000000 & 1.00000 & 1.0000000 & 1.000000 & NA & 1.00000 & NA & NA & 1.0000000 &  1.00000\\\\\n",
       "\\end{tabular}\n"
      ],
      "text/markdown": [
       "\n",
       "A tibble: 2 × 37\n",
       "\n",
       "| sample &lt;chr&gt; | Distal Columella &lt;dbl&gt; | Distal Lateral Root Cap &lt;dbl&gt; | Elongation_Atrichoblast &lt;dbl&gt; | Elongation_Cortex &lt;dbl&gt; | Elongation_Endodermis &lt;dbl&gt; | Elongation_Pericycle &lt;dbl&gt; | Elongation_Phloem &lt;dbl&gt; | Elongation_Procambium &lt;dbl&gt; | Elongation_Trichoblast &lt;dbl&gt; | ⋯ ⋯ | Proximal Columella &lt;dbl&gt; | Proximal Lateral Root Cap &lt;dbl&gt; | Transition Domain_Atrichoblast &lt;dbl&gt; | Transition Domain_Cortex &lt;dbl&gt; | Transition Domain_Endodermis &lt;dbl&gt; | Transition Domain_Pericycle &lt;dbl&gt; | Transition Domain_Phloem &lt;dbl&gt; | Transition Domain_Procambium &lt;dbl&gt; | Transition Domain_Trichoblast &lt;dbl&gt; | Transition Domain_Xylem &lt;dbl&gt; |\n",
       "|---|---|---|---|---|---|---|---|---|---|---|---|---|---|---|---|---|---|---|---|---|\n",
       "| bri1_T | 0.7403762 | 0.4990479 | 0.3889628 | 0.4276746 | 0.7717318 | 2.033862 | 1.310971 | 1.390267 | 0.4793707 | ⋯ | 0.7015123 | 1.53559 | 0.7772292 | 4.696405 | NA | 7.17701 | NA | NA | 0.9592899 | 18.13139 |\n",
       "| WT     | 1.0000000 | 1.0000000 | 1.0000000 | 1.0000000 | 1.0000000 | 1.000000 | 1.000000 | 1.000000 | 1.0000000 | ⋯ | 1.0000000 | 1.00000 | 1.0000000 | 1.000000 | NA | 1.00000 | NA | NA | 1.0000000 |  1.00000 |\n",
       "\n"
      ],
      "text/plain": [
       "  sample Distal Columella Distal Lateral Root Cap Elongation_Atrichoblast\n",
       "1 bri1_T 0.7403762        0.4990479               0.3889628              \n",
       "2 WT     1.0000000        1.0000000               1.0000000              \n",
       "  Elongation_Cortex Elongation_Endodermis Elongation_Pericycle\n",
       "1 0.4276746         0.7717318             2.033862            \n",
       "2 1.0000000         1.0000000             1.000000            \n",
       "  Elongation_Phloem Elongation_Procambium Elongation_Trichoblast ⋯\n",
       "1 1.310971          1.390267              0.4793707              ⋯\n",
       "2 1.000000          1.000000              1.0000000              ⋯\n",
       "  Proximal Columella Proximal Lateral Root Cap Transition Domain_Atrichoblast\n",
       "1 0.7015123          1.53559                   0.7772292                     \n",
       "2 1.0000000          1.00000                   1.0000000                     \n",
       "  Transition Domain_Cortex Transition Domain_Endodermis\n",
       "1 4.696405                 NA                          \n",
       "2 1.000000                 NA                          \n",
       "  Transition Domain_Pericycle Transition Domain_Phloem\n",
       "1 7.17701                     NA                      \n",
       "2 1.00000                     NA                      \n",
       "  Transition Domain_Procambium Transition Domain_Trichoblast\n",
       "1 NA                           0.9592899                    \n",
       "2 NA                           1.0000000                    \n",
       "  Transition Domain_Xylem\n",
       "1 18.13139               \n",
       "2  1.00000               "
      ]
     },
     "metadata": {},
     "output_type": "display_data"
    },
    {
     "data": {
      "text/html": [
       "<table>\n",
       "<caption>A tibble: 2 × 37</caption>\n",
       "<thead>\n",
       "\t<tr><th scope=col>sample</th><th scope=col>Distal Columella</th><th scope=col>Distal Lateral Root Cap</th><th scope=col>Elongation_Atrichoblast</th><th scope=col>Elongation_Cortex</th><th scope=col>Elongation_Endodermis</th><th scope=col>Elongation_Pericycle</th><th scope=col>Elongation_Phloem</th><th scope=col>Elongation_Procambium</th><th scope=col>Elongation_Trichoblast</th><th scope=col>⋯</th><th scope=col>Proximal Columella</th><th scope=col>Proximal Lateral Root Cap</th><th scope=col>Transition Domain_Atrichoblast</th><th scope=col>Transition Domain_Cortex</th><th scope=col>Transition Domain_Endodermis</th><th scope=col>Transition Domain_Pericycle</th><th scope=col>Transition Domain_Phloem</th><th scope=col>Transition Domain_Procambium</th><th scope=col>Transition Domain_Trichoblast</th><th scope=col>Transition Domain_Xylem</th></tr>\n",
       "\t<tr><th scope=col>&lt;chr&gt;</th><th scope=col>&lt;dbl&gt;</th><th scope=col>&lt;dbl&gt;</th><th scope=col>&lt;dbl&gt;</th><th scope=col>&lt;dbl&gt;</th><th scope=col>&lt;dbl&gt;</th><th scope=col>&lt;dbl&gt;</th><th scope=col>&lt;dbl&gt;</th><th scope=col>&lt;dbl&gt;</th><th scope=col>&lt;dbl&gt;</th><th scope=col>⋯</th><th scope=col>&lt;dbl&gt;</th><th scope=col>&lt;dbl&gt;</th><th scope=col>&lt;dbl&gt;</th><th scope=col>&lt;dbl&gt;</th><th scope=col>&lt;dbl&gt;</th><th scope=col>&lt;dbl&gt;</th><th scope=col>&lt;dbl&gt;</th><th scope=col>&lt;dbl&gt;</th><th scope=col>&lt;dbl&gt;</th><th scope=col>&lt;dbl&gt;</th></tr>\n",
       "</thead>\n",
       "<tbody>\n",
       "\t<tr><td>bri1_T</td><td>0.7403762</td><td>0.4990479</td><td>0.3889628</td><td>0.4276746</td><td>0.7717318</td><td>2.033862</td><td>1.310971</td><td>1.390267</td><td>0.4793707</td><td>⋯</td><td>0.7015123</td><td>1.53559</td><td>0.7772292</td><td>4.696405</td><td>1</td><td>7.17701</td><td>1</td><td>1</td><td>0.9592899</td><td>18.13139</td></tr>\n",
       "\t<tr><td>WT    </td><td>1.0000000</td><td>1.0000000</td><td>1.0000000</td><td>1.0000000</td><td>1.0000000</td><td>1.000000</td><td>1.000000</td><td>1.000000</td><td>1.0000000</td><td>⋯</td><td>1.0000000</td><td>1.00000</td><td>1.0000000</td><td>1.000000</td><td>1</td><td>1.00000</td><td>1</td><td>1</td><td>1.0000000</td><td> 1.00000</td></tr>\n",
       "</tbody>\n",
       "</table>\n"
      ],
      "text/latex": [
       "A tibble: 2 × 37\n",
       "\\begin{tabular}{lllllllllllllllllllll}\n",
       " sample & Distal Columella & Distal Lateral Root Cap & Elongation\\_Atrichoblast & Elongation\\_Cortex & Elongation\\_Endodermis & Elongation\\_Pericycle & Elongation\\_Phloem & Elongation\\_Procambium & Elongation\\_Trichoblast & ⋯ & Proximal Columella & Proximal Lateral Root Cap & Transition Domain\\_Atrichoblast & Transition Domain\\_Cortex & Transition Domain\\_Endodermis & Transition Domain\\_Pericycle & Transition Domain\\_Phloem & Transition Domain\\_Procambium & Transition Domain\\_Trichoblast & Transition Domain\\_Xylem\\\\\n",
       " <chr> & <dbl> & <dbl> & <dbl> & <dbl> & <dbl> & <dbl> & <dbl> & <dbl> & <dbl> & ⋯ & <dbl> & <dbl> & <dbl> & <dbl> & <dbl> & <dbl> & <dbl> & <dbl> & <dbl> & <dbl>\\\\\n",
       "\\hline\n",
       "\t bri1\\_T & 0.7403762 & 0.4990479 & 0.3889628 & 0.4276746 & 0.7717318 & 2.033862 & 1.310971 & 1.390267 & 0.4793707 & ⋯ & 0.7015123 & 1.53559 & 0.7772292 & 4.696405 & 1 & 7.17701 & 1 & 1 & 0.9592899 & 18.13139\\\\\n",
       "\t WT     & 1.0000000 & 1.0000000 & 1.0000000 & 1.0000000 & 1.0000000 & 1.000000 & 1.000000 & 1.000000 & 1.0000000 & ⋯ & 1.0000000 & 1.00000 & 1.0000000 & 1.000000 & 1 & 1.00000 & 1 & 1 & 1.0000000 &  1.00000\\\\\n",
       "\\end{tabular}\n"
      ],
      "text/markdown": [
       "\n",
       "A tibble: 2 × 37\n",
       "\n",
       "| sample &lt;chr&gt; | Distal Columella &lt;dbl&gt; | Distal Lateral Root Cap &lt;dbl&gt; | Elongation_Atrichoblast &lt;dbl&gt; | Elongation_Cortex &lt;dbl&gt; | Elongation_Endodermis &lt;dbl&gt; | Elongation_Pericycle &lt;dbl&gt; | Elongation_Phloem &lt;dbl&gt; | Elongation_Procambium &lt;dbl&gt; | Elongation_Trichoblast &lt;dbl&gt; | ⋯ ⋯ | Proximal Columella &lt;dbl&gt; | Proximal Lateral Root Cap &lt;dbl&gt; | Transition Domain_Atrichoblast &lt;dbl&gt; | Transition Domain_Cortex &lt;dbl&gt; | Transition Domain_Endodermis &lt;dbl&gt; | Transition Domain_Pericycle &lt;dbl&gt; | Transition Domain_Phloem &lt;dbl&gt; | Transition Domain_Procambium &lt;dbl&gt; | Transition Domain_Trichoblast &lt;dbl&gt; | Transition Domain_Xylem &lt;dbl&gt; |\n",
       "|---|---|---|---|---|---|---|---|---|---|---|---|---|---|---|---|---|---|---|---|---|\n",
       "| bri1_T | 0.7403762 | 0.4990479 | 0.3889628 | 0.4276746 | 0.7717318 | 2.033862 | 1.310971 | 1.390267 | 0.4793707 | ⋯ | 0.7015123 | 1.53559 | 0.7772292 | 4.696405 | 1 | 7.17701 | 1 | 1 | 0.9592899 | 18.13139 |\n",
       "| WT     | 1.0000000 | 1.0000000 | 1.0000000 | 1.0000000 | 1.0000000 | 1.000000 | 1.000000 | 1.000000 | 1.0000000 | ⋯ | 1.0000000 | 1.00000 | 1.0000000 | 1.000000 | 1 | 1.00000 | 1 | 1 | 1.0000000 |  1.00000 |\n",
       "\n"
      ],
      "text/plain": [
       "  sample Distal Columella Distal Lateral Root Cap Elongation_Atrichoblast\n",
       "1 bri1_T 0.7403762        0.4990479               0.3889628              \n",
       "2 WT     1.0000000        1.0000000               1.0000000              \n",
       "  Elongation_Cortex Elongation_Endodermis Elongation_Pericycle\n",
       "1 0.4276746         0.7717318             2.033862            \n",
       "2 1.0000000         1.0000000             1.000000            \n",
       "  Elongation_Phloem Elongation_Procambium Elongation_Trichoblast ⋯\n",
       "1 1.310971          1.390267              0.4793707              ⋯\n",
       "2 1.000000          1.000000              1.0000000              ⋯\n",
       "  Proximal Columella Proximal Lateral Root Cap Transition Domain_Atrichoblast\n",
       "1 0.7015123          1.53559                   0.7772292                     \n",
       "2 1.0000000          1.00000                   1.0000000                     \n",
       "  Transition Domain_Cortex Transition Domain_Endodermis\n",
       "1 4.696405                 1                           \n",
       "2 1.000000                 1                           \n",
       "  Transition Domain_Pericycle Transition Domain_Phloem\n",
       "1 7.17701                     1                       \n",
       "2 1.00000                     1                       \n",
       "  Transition Domain_Procambium Transition Domain_Trichoblast\n",
       "1 1                            0.9592899                    \n",
       "2 1                            1.0000000                    \n",
       "  Transition Domain_Xylem\n",
       "1 18.13139               \n",
       "2  1.00000               "
      ]
     },
     "metadata": {},
     "output_type": "display_data"
    },
    {
     "name": "stderr",
     "output_type": "stream",
     "text": [
      "Joining, by = \"sample\"\n",
      "\n"
     ]
    },
    {
     "data": {
      "text/html": [
       "<table>\n",
       "<caption>A matrix: 2 × 36 of type dbl</caption>\n",
       "<thead>\n",
       "\t<tr><th></th><th scope=col>Distal Columella</th><th scope=col>Distal Lateral Root Cap</th><th scope=col>Elongation_Atrichoblast</th><th scope=col>Elongation_Cortex</th><th scope=col>Elongation_Endodermis</th><th scope=col>Elongation_Pericycle</th><th scope=col>Elongation_Phloem</th><th scope=col>Elongation_Procambium</th><th scope=col>Elongation_Trichoblast</th><th scope=col>Elongation_Xylem</th><th scope=col>⋯</th><th scope=col>Proximal Columella</th><th scope=col>Proximal Lateral Root Cap</th><th scope=col>Transition Domain_Atrichoblast</th><th scope=col>Transition Domain_Cortex</th><th scope=col>Transition Domain_Endodermis</th><th scope=col>Transition Domain_Pericycle</th><th scope=col>Transition Domain_Phloem</th><th scope=col>Transition Domain_Procambium</th><th scope=col>Transition Domain_Trichoblast</th><th scope=col>Transition Domain_Xylem</th></tr>\n",
       "</thead>\n",
       "<tbody>\n",
       "\t<tr><th scope=row>WT</th><td> 0.0000000</td><td> 0.00000</td><td> 0.000000</td><td> 0.000000</td><td> 0.0000000</td><td>0.000000</td><td>0.0000000</td><td>0.0000000</td><td> 0.000000</td><td>0.00000000</td><td>⋯</td><td> 0.0000000</td><td>0.0000000</td><td> 0.0000000</td><td>0.000000</td><td>0</td><td>0.000000</td><td>0</td><td>0</td><td> 0.00000000</td><td>0.000000</td></tr>\n",
       "\t<tr><th scope=row>bri1_T</th><td>-0.4336695</td><td>-1.00275</td><td>-1.362296</td><td>-1.225415</td><td>-0.3738286</td><td>1.024222</td><td>0.3906356</td><td>0.4753616</td><td>-1.060786</td><td>0.08785181</td><td>⋯</td><td>-0.5114598</td><td>0.6187931</td><td>-0.3635879</td><td>2.231557</td><td>0</td><td>2.843383</td><td>0</td><td>0</td><td>-0.05996127</td><td>4.180418</td></tr>\n",
       "</tbody>\n",
       "</table>\n"
      ],
      "text/latex": [
       "A matrix: 2 × 36 of type dbl\n",
       "\\begin{tabular}{r|lllllllllllllllllllll}\n",
       "  & Distal Columella & Distal Lateral Root Cap & Elongation\\_Atrichoblast & Elongation\\_Cortex & Elongation\\_Endodermis & Elongation\\_Pericycle & Elongation\\_Phloem & Elongation\\_Procambium & Elongation\\_Trichoblast & Elongation\\_Xylem & ⋯ & Proximal Columella & Proximal Lateral Root Cap & Transition Domain\\_Atrichoblast & Transition Domain\\_Cortex & Transition Domain\\_Endodermis & Transition Domain\\_Pericycle & Transition Domain\\_Phloem & Transition Domain\\_Procambium & Transition Domain\\_Trichoblast & Transition Domain\\_Xylem\\\\\n",
       "\\hline\n",
       "\tWT &  0.0000000 &  0.00000 &  0.000000 &  0.000000 &  0.0000000 & 0.000000 & 0.0000000 & 0.0000000 &  0.000000 & 0.00000000 & ⋯ &  0.0000000 & 0.0000000 &  0.0000000 & 0.000000 & 0 & 0.000000 & 0 & 0 &  0.00000000 & 0.000000\\\\\n",
       "\tbri1\\_T & -0.4336695 & -1.00275 & -1.362296 & -1.225415 & -0.3738286 & 1.024222 & 0.3906356 & 0.4753616 & -1.060786 & 0.08785181 & ⋯ & -0.5114598 & 0.6187931 & -0.3635879 & 2.231557 & 0 & 2.843383 & 0 & 0 & -0.05996127 & 4.180418\\\\\n",
       "\\end{tabular}\n"
      ],
      "text/markdown": [
       "\n",
       "A matrix: 2 × 36 of type dbl\n",
       "\n",
       "| <!--/--> | Distal Columella | Distal Lateral Root Cap | Elongation_Atrichoblast | Elongation_Cortex | Elongation_Endodermis | Elongation_Pericycle | Elongation_Phloem | Elongation_Procambium | Elongation_Trichoblast | Elongation_Xylem | ⋯ | Proximal Columella | Proximal Lateral Root Cap | Transition Domain_Atrichoblast | Transition Domain_Cortex | Transition Domain_Endodermis | Transition Domain_Pericycle | Transition Domain_Phloem | Transition Domain_Procambium | Transition Domain_Trichoblast | Transition Domain_Xylem |\n",
       "|---|---|---|---|---|---|---|---|---|---|---|---|---|---|---|---|---|---|---|---|---|---|\n",
       "| WT |  0.0000000 |  0.00000 |  0.000000 |  0.000000 |  0.0000000 | 0.000000 | 0.0000000 | 0.0000000 |  0.000000 | 0.00000000 | ⋯ |  0.0000000 | 0.0000000 |  0.0000000 | 0.000000 | 0 | 0.000000 | 0 | 0 |  0.00000000 | 0.000000 |\n",
       "| bri1_T | -0.4336695 | -1.00275 | -1.362296 | -1.225415 | -0.3738286 | 1.024222 | 0.3906356 | 0.4753616 | -1.060786 | 0.08785181 | ⋯ | -0.5114598 | 0.6187931 | -0.3635879 | 2.231557 | 0 | 2.843383 | 0 | 0 | -0.05996127 | 4.180418 |\n",
       "\n"
      ],
      "text/plain": [
       "       Distal Columella Distal Lateral Root Cap Elongation_Atrichoblast\n",
       "WT      0.0000000        0.00000                 0.000000              \n",
       "bri1_T -0.4336695       -1.00275                -1.362296              \n",
       "       Elongation_Cortex Elongation_Endodermis Elongation_Pericycle\n",
       "WT      0.000000          0.0000000            0.000000            \n",
       "bri1_T -1.225415         -0.3738286            1.024222            \n",
       "       Elongation_Phloem Elongation_Procambium Elongation_Trichoblast\n",
       "WT     0.0000000         0.0000000              0.000000             \n",
       "bri1_T 0.3906356         0.4753616             -1.060786             \n",
       "       Elongation_Xylem ⋯ Proximal Columella Proximal Lateral Root Cap\n",
       "WT     0.00000000       ⋯  0.0000000         0.0000000                \n",
       "bri1_T 0.08785181       ⋯ -0.5114598         0.6187931                \n",
       "       Transition Domain_Atrichoblast Transition Domain_Cortex\n",
       "WT      0.0000000                     0.000000                \n",
       "bri1_T -0.3635879                     2.231557                \n",
       "       Transition Domain_Endodermis Transition Domain_Pericycle\n",
       "WT     0                            0.000000                   \n",
       "bri1_T 0                            2.843383                   \n",
       "       Transition Domain_Phloem Transition Domain_Procambium\n",
       "WT     0                        0                           \n",
       "bri1_T 0                        0                           \n",
       "       Transition Domain_Trichoblast Transition Domain_Xylem\n",
       "WT      0.00000000                   0.000000               \n",
       "bri1_T -0.05996127                   4.180418               "
      ]
     },
     "metadata": {},
     "output_type": "display_data"
    }
   ],
   "source": [
    "sample_cell_df <- left_join(sample_cell_df, wt_cells) %>%\n",
    "  mutate(wt_norm_prop=proportion/wt_prop)\n",
    "\n",
    "sample_cell_df %>% filter(celltype %in% c(\"Maturation_Cortex\", \"Elongation_Cortex\", \"Transition Domain_Cortex\", \"Proliferation Domain_Cortex\"))\n",
    "\n",
    "sample_cell_wide <- sample_cell_df %>%\n",
    "  ungroup() %>%\n",
    "  select(sample, celltype, wt_norm_prop) %>%\n",
    "  pivot_wider(names_from = celltype, values_from = wt_norm_prop)\n",
    "\n",
    "sample_cell_wide\n",
    "\n",
    "# replace WT proliferation domain NA with 1\n",
    "sample_cell_wide[is.na(sample_cell_wide)==T] <- 1\n",
    "\n",
    "sample_cell_wide\n",
    "\n",
    "cell_order <- tibble(sample=c(\"WT\", \"bri1_T\"), \n",
    "                    order=rep(1:2))\n",
    "\n",
    "#sample_cell_wide <- filter(sample_cell_wide, sample !=\"Untreated\") \n",
    "\n",
    "sample_cell_wide <- left_join(sample_cell_wide, cell_order) %>%\n",
    "arrange(order) %>%\n",
    "select(-order)\n",
    "\n",
    "cell_m <- as.matrix(log2(sample_cell_wide[, -1]))\n",
    "rownames(cell_m) <- sample_cell_wide$sample\n",
    "\n",
    "cell_m\n",
    "\n",
    "cell_m <- t(cell_m)"
   ]
  },
  {
   "cell_type": "code",
   "execution_count": 12,
   "metadata": {},
   "outputs": [
    {
     "name": "stderr",
     "output_type": "stream",
     "text": [
      "Joining, by = \"sample\"\n",
      "\n"
     ]
    },
    {
     "data": {
      "text/html": [
       "<table>\n",
       "<caption>A tibble: 2 × 5</caption>\n",
       "<thead>\n",
       "\t<tr><th scope=col>sample</th><th scope=col>Maturation</th><th scope=col>Elongation</th><th scope=col>Transition Domain</th><th scope=col>Proliferation Domain</th></tr>\n",
       "\t<tr><th scope=col>&lt;chr&gt;</th><th scope=col>&lt;dbl&gt;</th><th scope=col>&lt;dbl&gt;</th><th scope=col>&lt;dbl&gt;</th><th scope=col>&lt;dbl&gt;</th></tr>\n",
       "</thead>\n",
       "<tbody>\n",
       "\t<tr><td>WT    </td><td>1.0000000</td><td>1.0000000</td><td>1.000000</td><td>  1</td></tr>\n",
       "\t<tr><td>bri1_T</td><td>0.8512391</td><td>0.4276746</td><td>4.696405</td><td>Inf</td></tr>\n",
       "</tbody>\n",
       "</table>\n"
      ],
      "text/latex": [
       "A tibble: 2 × 5\n",
       "\\begin{tabular}{lllll}\n",
       " sample & Maturation & Elongation & Transition Domain & Proliferation Domain\\\\\n",
       " <chr> & <dbl> & <dbl> & <dbl> & <dbl>\\\\\n",
       "\\hline\n",
       "\t WT     & 1.0000000 & 1.0000000 & 1.000000 &   1\\\\\n",
       "\t bri1\\_T & 0.8512391 & 0.4276746 & 4.696405 & Inf\\\\\n",
       "\\end{tabular}\n"
      ],
      "text/markdown": [
       "\n",
       "A tibble: 2 × 5\n",
       "\n",
       "| sample &lt;chr&gt; | Maturation &lt;dbl&gt; | Elongation &lt;dbl&gt; | Transition Domain &lt;dbl&gt; | Proliferation Domain &lt;dbl&gt; |\n",
       "|---|---|---|---|---|\n",
       "| WT     | 1.0000000 | 1.0000000 | 1.000000 |   1 |\n",
       "| bri1_T | 0.8512391 | 0.4276746 | 4.696405 | Inf |\n",
       "\n"
      ],
      "text/plain": [
       "  sample Maturation Elongation Transition Domain Proliferation Domain\n",
       "1 WT     1.0000000  1.0000000  1.000000            1                 \n",
       "2 bri1_T 0.8512391  0.4276746  4.696405          Inf                 "
      ]
     },
     "metadata": {},
     "output_type": "display_data"
    },
    {
     "data": {
      "text/html": [
       "<table>\n",
       "<caption>A matrix: 2 × 4 of type dbl</caption>\n",
       "<thead>\n",
       "\t<tr><th></th><th scope=col>Maturation</th><th scope=col>Elongation</th><th scope=col>Transition Domain</th><th scope=col>Proliferation Domain</th></tr>\n",
       "</thead>\n",
       "<tbody>\n",
       "\t<tr><th scope=row>WT</th><td> 0.0000000</td><td> 0.000000</td><td>0.000000</td><td>  0</td></tr>\n",
       "\t<tr><th scope=row>bri1_T</th><td>-0.2323636</td><td>-1.225415</td><td>2.231557</td><td>Inf</td></tr>\n",
       "</tbody>\n",
       "</table>\n"
      ],
      "text/latex": [
       "A matrix: 2 × 4 of type dbl\n",
       "\\begin{tabular}{r|llll}\n",
       "  & Maturation & Elongation & Transition Domain & Proliferation Domain\\\\\n",
       "\\hline\n",
       "\tWT &  0.0000000 &  0.000000 & 0.000000 &   0\\\\\n",
       "\tbri1\\_T & -0.2323636 & -1.225415 & 2.231557 & Inf\\\\\n",
       "\\end{tabular}\n"
      ],
      "text/markdown": [
       "\n",
       "A matrix: 2 × 4 of type dbl\n",
       "\n",
       "| <!--/--> | Maturation | Elongation | Transition Domain | Proliferation Domain |\n",
       "|---|---|---|---|---|\n",
       "| WT |  0.0000000 |  0.000000 | 0.000000 |   0 |\n",
       "| bri1_T | -0.2323636 | -1.225415 | 2.231557 | Inf |\n",
       "\n"
      ],
      "text/plain": [
       "       Maturation Elongation Transition Domain Proliferation Domain\n",
       "WT      0.0000000  0.000000  0.000000            0                 \n",
       "bri1_T -0.2323636 -1.225415  2.231557          Inf                 "
      ]
     },
     "metadata": {},
     "output_type": "display_data"
    }
   ],
   "source": [
    "sample_cell_wide <- select(sample_cell_wide, sample, \"Maturation\"=Maturation_Cortex, \"Elongation\"=Elongation_Cortex, \"Transition Domain\"=`Transition Domain_Cortex`, \"Proliferation Domain\"=`Proliferation Domain_Cortex`) \n",
    "\n",
    "sample_cell_wide <- left_join(sample_cell_wide, cell_order) %>%\n",
    "arrange(order) %>%\n",
    "select(-order)\n",
    "\n",
    "sample_cell_wide\n",
    "\n",
    "cell_m <- as.matrix(log2(sample_cell_wide[, -1]))\n",
    "rownames(cell_m) <- sample_cell_wide$sample\n",
    "\n",
    "cell_m\n",
    "\n",
    "cell_m <- t(cell_m)"
   ]
  },
  {
   "cell_type": "code",
   "execution_count": 13,
   "metadata": {},
   "outputs": [
    {
     "data": {
      "image/png": "[encoded data removed]",
      "text/plain": [
       "plot without title"
      ]
     },
     "metadata": {
      "image/png": {
       "height": 300,
       "width": 300
      }
     },
     "output_type": "display_data"
    }
   ],
   "source": [
    "options(repr.plot.width=5, repr.plot.height=5)\n",
    "# add to hm cell_fun = function(j, i, x, y, width, height, fill) {grid.text(sprintf(\"%.0f\", int_matrix[i, j]), x, y, gp = gpar(fontsize = 10))})\n",
    "\n",
    "Cell_hm <- Heatmap(cell_m, name = \"Cortex \\n  log2(bri1-T cell proportion/WT cell proportion)\", \n",
    "                   heatmap_legend_param = list(title_position=\"topcenter\", \n",
    "                                               color_bar = \"continuous\", \n",
    "                                               legend_direction = \"horizontal\"), \n",
    "                   col = colorRamp2(c(-1.5, 0, 1.5), c(\"blue\", \"beige\", \"#e31a1c\")), \n",
    "                   cluster_rows = F, \n",
    "                   cluster_columns = F, \n",
    "                   use_raster= FALSE, \n",
    "                   column_names_rot = 45,\n",
    "                   show_column_names = TRUE, show_row_names = TRUE, show_row_dend = TRUE, show_column_dend = TRUE,\n",
    "                   clustering_distance_rows = \"pearson\", clustering_distance_columns = \"pearson\",\n",
    "                 row_names_gp = gpar(fontsize = 12)) \n",
    "\n",
    "\n",
    "draw(Cell_hm, padding = unit(c(10, 20, 10, 10), \"mm\"), heatmap_legend_side = \"top\")\n"
   ]
  },
  {
   "cell_type": "code",
   "execution_count": 14,
   "metadata": {},
   "outputs": [
    {
     "data": {
      "text/html": [
       "<strong>png:</strong> 2"
      ],
      "text/latex": [
       "\\textbf{png:} 2"
      ],
      "text/markdown": [
       "**png:** 2"
      ],
      "text/plain": [
       "png \n",
       "  2 "
      ]
     },
     "metadata": {},
     "output_type": "display_data"
    }
   ],
   "source": [
    "pdf(\"./output/bri1-T_vs_WT_cortex_cell_abundance.pdf\", width = 5, height = 5)\n",
    "\n",
    "\n",
    "# padding - bottom, left, top, right\n",
    "draw(Cell_hm, padding = unit(c(10, 20, 10, 10), \"mm\"), heatmap_legend_side = \"top\")\n",
    "\n",
    "dev.off()"
   ]
  }
 ],
 "metadata": {
  "kernelspec": {
   "display_name": "R",
   "language": "R",
   "name": "ir"
  },
  "language_info": {
   "codemirror_mode": "r",
   "file_extension": ".r",
   "mimetype": "text/x-r-source",
   "name": "R",
   "pygments_lexer": "r",
   "version": "4.0.0"
  }
 },
 "nbformat": 4,
 "nbformat_minor": 4
}
